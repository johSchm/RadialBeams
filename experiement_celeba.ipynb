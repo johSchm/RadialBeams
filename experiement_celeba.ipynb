{
 "cells": [
  {
   "cell_type": "code",
   "execution_count": 14,
   "id": "initial_id",
   "metadata": {
    "collapsed": true,
    "ExecuteTime": {
     "end_time": "2024-02-16T07:54:08.889547Z",
     "start_time": "2024-02-16T07:54:07.242960Z"
    }
   },
   "outputs": [
    {
     "name": "stdout",
     "output_type": "stream",
     "text": [
      "nvcc: NVIDIA (R) Cuda compiler driver\r\n",
      "Copyright (c) 2005-2022 NVIDIA Corporation\r\n",
      "Built on Wed_Sep_21_10:33:58_PDT_2022\r\n",
      "Cuda compilation tools, release 11.8, V11.8.89\r\n",
      "Build cuda_11.8.r11.8/compiler.31833905_0\r\n"
     ]
    }
   ],
   "source": [
    "# https://www.tensorflow.org/install/source#gpu\n",
    "! nvcc  --version\n",
    "\n",
    "import os \n",
    "os.environ[\"CUDA_VISIBLE_DEVICES\"] = str(3)\n",
    "\n",
    "import numpy as np\n",
    "import matplotlib.pyplot as plt\n",
    "from tqdm import tqdm\n",
    "import torch\n",
    "import torchvision\n",
    "\n",
    "from src.utils import apply_circular_mask, polar_transform, polar_transform_inv"
   ]
  },
  {
   "cell_type": "code",
   "outputs": [
    {
     "name": "stdout",
     "output_type": "stream",
     "text": [
      "45 284\n"
     ]
    },
    {
     "data": {
      "text/plain": "<IPython.core.display.HTML object>",
      "text/html": "Finishing last run (ID:8yy93x0g) before initializing another..."
     },
     "metadata": {},
     "output_type": "display_data"
    },
    {
     "data": {
      "text/plain": "VBox(children=(Label(value='0.012 MB of 0.012 MB uploaded\\r'), FloatProgress(value=1.0, max=1.0)))",
      "application/vnd.jupyter.widget-view+json": {
       "version_major": 2,
       "version_minor": 0,
       "model_id": "12844e5cb70c4f049b5ba89ae910ce3a"
      }
     },
     "metadata": {},
     "output_type": "display_data"
    },
    {
     "name": "stderr",
     "output_type": "stream",
     "text": [
      "wandb: WARNING Source type is set to 'repo' but some required information is missing from the environment. A job will not be created from this run. See https://docs.wandb.ai/guides/launch/create-job\n"
     ]
    },
    {
     "data": {
      "text/plain": "<IPython.core.display.HTML object>",
      "text/html": " View run <strong style=\"color:#cdcd00\">0216-0715</strong> at: <a href='https://wandb.ai/johschm/RadialBeams/runs/8yy93x0g' target=\"_blank\">https://wandb.ai/johschm/RadialBeams/runs/8yy93x0g</a><br/>Synced 5 W&B file(s), 0 media file(s), 0 artifact file(s) and 0 other file(s)"
     },
     "metadata": {},
     "output_type": "display_data"
    },
    {
     "data": {
      "text/plain": "<IPython.core.display.HTML object>",
      "text/html": "Find logs at: <code>./wandb/run-20240216_071512-8yy93x0g/logs</code>"
     },
     "metadata": {},
     "output_type": "display_data"
    },
    {
     "data": {
      "text/plain": "<IPython.core.display.HTML object>",
      "text/html": "Successfully finished last run (ID:8yy93x0g). Initializing new run:<br/>"
     },
     "metadata": {},
     "output_type": "display_data"
    },
    {
     "data": {
      "text/plain": "VBox(children=(Label(value='Waiting for wandb.init()...\\r'), FloatProgress(value=0.011112429284387165, max=1.0…",
      "application/vnd.jupyter.widget-view+json": {
       "version_major": 2,
       "version_minor": 0,
       "model_id": "3318c3d42aa84f5298ce6263ef92295d"
      }
     },
     "metadata": {},
     "output_type": "display_data"
    },
    {
     "data": {
      "text/plain": "<IPython.core.display.HTML object>",
      "text/html": "Tracking run with wandb version 0.16.3"
     },
     "metadata": {},
     "output_type": "display_data"
    },
    {
     "data": {
      "text/plain": "<IPython.core.display.HTML object>",
      "text/html": "Run data is saved locally in <code>/project/johannsc/symmetries/RadialBeams/wandb/run-20240216_075333-70iq15hs</code>"
     },
     "metadata": {},
     "output_type": "display_data"
    },
    {
     "data": {
      "text/plain": "<IPython.core.display.HTML object>",
      "text/html": "Syncing run <strong><a href='https://wandb.ai/johschm/RadialBeams/runs/70iq15hs' target=\"_blank\">0216-0753</a></strong> to <a href='https://wandb.ai/johschm/RadialBeams' target=\"_blank\">Weights & Biases</a> (<a href='https://wandb.me/run' target=\"_blank\">docs</a>)<br/>"
     },
     "metadata": {},
     "output_type": "display_data"
    },
    {
     "data": {
      "text/plain": "<IPython.core.display.HTML object>",
      "text/html": " View project at <a href='https://wandb.ai/johschm/RadialBeams' target=\"_blank\">https://wandb.ai/johschm/RadialBeams</a>"
     },
     "metadata": {},
     "output_type": "display_data"
    },
    {
     "data": {
      "text/plain": "<IPython.core.display.HTML object>",
      "text/html": " View run at <a href='https://wandb.ai/johschm/RadialBeams/runs/70iq15hs' target=\"_blank\">https://wandb.ai/johschm/RadialBeams/runs/70iq15hs</a>"
     },
     "metadata": {},
     "output_type": "display_data"
    },
    {
     "data": {
      "text/html": "<button onClick=\"this.nextSibling.style.display='block';this.style.display='none';\">Display W&B run</button><iframe src='https://wandb.ai/johschm/RadialBeams/runs/70iq15hs?jupyter=true' style='border:none;width:100%;height:420px;display:none;'></iframe>",
      "text/plain": "<wandb.sdk.wandb_run.Run at 0x7f7cac7c6910>"
     },
     "execution_count": 13,
     "metadata": {},
     "output_type": "execute_result"
    }
   ],
   "source": [
    "import wandb\n",
    "from datetime import datetime\n",
    "\n",
    "dataset_name = \"celeb_a\" # 'celeb_a_hq/64'\n",
    "image_size = 64\n",
    "batch_size = 1024\n",
    "n_epochs = 10\n",
    "n_channels = 3\n",
    "n_classes = None\n",
    "\n",
    "# see polar_transform\n",
    "radius = (np.array([image_size, image_size])**2).sum()**0.5/2\n",
    "len_beam = int(round(radius))\n",
    "n_beams = int(round(radius*2*np.pi))\n",
    "print(len_beam, n_beams)\n",
    "\n",
    "config = {\n",
    "}\n",
    "\n",
    "wandb.init(project=\"RadialBeams\", config=config, group=dataset_name, name=datetime.now().strftime(\"%m%d-%H%M\"))"
   ],
   "metadata": {
    "collapsed": false,
    "ExecuteTime": {
     "end_time": "2024-02-16T07:53:42.441818Z",
     "start_time": "2024-02-16T07:53:33.966017Z"
    }
   },
   "id": "c463b08573696d7c",
   "execution_count": 13
  },
  {
   "cell_type": "code",
   "outputs": [
    {
     "name": "stdout",
     "output_type": "stream",
     "text": [
      "\u001B[1mDownloading and preparing dataset 1.39 GiB (download: 1.39 GiB, generated: 1.63 GiB, total: 3.01 GiB) to /home/johannsc/tensorflow_datasets/celeb_a/2.1.0...\u001B[0m\n"
     ]
    },
    {
     "data": {
      "text/plain": "Dl Completed...: 0 url [00:00, ? url/s]",
      "application/vnd.jupyter.widget-view+json": {
       "version_major": 2,
       "version_minor": 0,
       "model_id": "9347fe2d83d8471abd236f312c087011"
      }
     },
     "metadata": {},
     "output_type": "display_data"
    },
    {
     "data": {
      "text/plain": "Dl Size...: 0 MiB [00:00, ? MiB/s]",
      "application/vnd.jupyter.widget-view+json": {
       "version_major": 2,
       "version_minor": 0,
       "model_id": "d02c5284c28c45d2920b9f55030f82dc"
      }
     },
     "metadata": {},
     "output_type": "display_data"
    },
    {
     "ename": "NonMatchingChecksumError",
     "evalue": "Artifact https://drive.google.com/uc?export=download&id=0B7EVK8r0v71pZjFTYXZWM3FlRnM, downloaded to /home/johannsc/tensorflow_datasets/downloads/ucexport_download_id_0B7EVK8r0v71pZjFTYXZWM3FlDDaXUAQO8EGH_a7VqGNLRtW52mva1LzDrb-V723OQN8.tmp.bca38633463f4337b902e38888056674/download, has wrong checksum:\n* Expected: UrlInfo(size=1.34 GiB, checksum='46fb89443c578308acf364d7d379fe1b9efb793042c0af734b6112e4fd3a8c74', filename='img_align_celeba.zip')\n* Got: UrlInfo(size=2.37 KiB, checksum='73507410d2f51a53e84d584c32865d3dda92ea1aa18a86ce4ab27bbb310979ec', filename='download')\nTo debug, see: https://www.tensorflow.org/datasets/overview#fixing_nonmatchingchecksumerror",
     "output_type": "error",
     "traceback": [
      "\u001B[0;31m---------------------------------------------------------------------------\u001B[0m",
      "\u001B[0;31mNonMatchingChecksumError\u001B[0m                  Traceback (most recent call last)",
      "Cell \u001B[0;32mIn[11], line 1\u001B[0m\n\u001B[0;32m----> 1\u001B[0m train_dataset \u001B[38;5;241m=\u001B[39m \u001B[43mtfds\u001B[49m\u001B[38;5;241;43m.\u001B[39;49m\u001B[43mload\u001B[49m\u001B[43m(\u001B[49m\u001B[43mdataset_name\u001B[49m\u001B[43m,\u001B[49m\u001B[43m \u001B[49m\u001B[43msplit\u001B[49m\u001B[38;5;241;43m=\u001B[39;49m\u001B[38;5;124;43m'\u001B[39;49m\u001B[38;5;124;43mtrain\u001B[39;49m\u001B[38;5;124;43m'\u001B[39;49m\u001B[43m,\u001B[49m\u001B[43m \u001B[49m\u001B[43mshuffle_files\u001B[49m\u001B[38;5;241;43m=\u001B[39;49m\u001B[38;5;28;43;01mFalse\u001B[39;49;00m\u001B[43m)\u001B[49m\n\u001B[1;32m      2\u001B[0m test_dataset \u001B[38;5;241m=\u001B[39m tfds\u001B[38;5;241m.\u001B[39mload(dataset_name, split\u001B[38;5;241m=\u001B[39m\u001B[38;5;124m'\u001B[39m\u001B[38;5;124mtest\u001B[39m\u001B[38;5;124m'\u001B[39m, shuffle_files\u001B[38;5;241m=\u001B[39m\u001B[38;5;28;01mFalse\u001B[39;00m)\n\u001B[1;32m      4\u001B[0m \u001B[38;5;28;01mdef\u001B[39;00m \u001B[38;5;21mpreprocess\u001B[39m(example):\n",
      "File \u001B[0;32m/project/johannsc/symmetries/RadialBeams/venv/lib/python3.11/site-packages/tensorflow_datasets/core/logging/__init__.py:168\u001B[0m, in \u001B[0;36m_FunctionDecorator.__call__\u001B[0;34m(self, function, instance, args, kwargs)\u001B[0m\n\u001B[1;32m    166\u001B[0m metadata \u001B[38;5;241m=\u001B[39m \u001B[38;5;28mself\u001B[39m\u001B[38;5;241m.\u001B[39m_start_call()\n\u001B[1;32m    167\u001B[0m \u001B[38;5;28;01mtry\u001B[39;00m:\n\u001B[0;32m--> 168\u001B[0m   \u001B[38;5;28;01mreturn\u001B[39;00m \u001B[43mfunction\u001B[49m\u001B[43m(\u001B[49m\u001B[38;5;241;43m*\u001B[39;49m\u001B[43margs\u001B[49m\u001B[43m,\u001B[49m\u001B[43m \u001B[49m\u001B[38;5;241;43m*\u001B[39;49m\u001B[38;5;241;43m*\u001B[39;49m\u001B[43mkwargs\u001B[49m\u001B[43m)\u001B[49m\n\u001B[1;32m    169\u001B[0m \u001B[38;5;28;01mexcept\u001B[39;00m \u001B[38;5;167;01mException\u001B[39;00m:\n\u001B[1;32m    170\u001B[0m   metadata\u001B[38;5;241m.\u001B[39mmark_error()\n",
      "File \u001B[0;32m/project/johannsc/symmetries/RadialBeams/venv/lib/python3.11/site-packages/tensorflow_datasets/core/load.py:649\u001B[0m, in \u001B[0;36mload\u001B[0;34m(name, split, data_dir, batch_size, shuffle_files, download, as_supervised, decoders, read_config, with_info, builder_kwargs, download_and_prepare_kwargs, as_dataset_kwargs, try_gcs)\u001B[0m\n\u001B[1;32m    530\u001B[0m \u001B[38;5;250m\u001B[39m\u001B[38;5;124;03m\"\"\"Loads the named dataset into a `tf.data.Dataset`.\u001B[39;00m\n\u001B[1;32m    531\u001B[0m \n\u001B[1;32m    532\u001B[0m \u001B[38;5;124;03m`tfds.load` is a convenience method that:\u001B[39;00m\n\u001B[0;32m   (...)\u001B[0m\n\u001B[1;32m    641\u001B[0m \u001B[38;5;124;03m    Split-specific information is available in `ds_info.splits`.\u001B[39;00m\n\u001B[1;32m    642\u001B[0m \u001B[38;5;124;03m\"\"\"\u001B[39;00m\n\u001B[1;32m    643\u001B[0m dbuilder \u001B[38;5;241m=\u001B[39m _fetch_builder(\n\u001B[1;32m    644\u001B[0m     name,\n\u001B[1;32m    645\u001B[0m     data_dir,\n\u001B[1;32m    646\u001B[0m     builder_kwargs,\n\u001B[1;32m    647\u001B[0m     try_gcs,\n\u001B[1;32m    648\u001B[0m )\n\u001B[0;32m--> 649\u001B[0m \u001B[43m_download_and_prepare_builder\u001B[49m\u001B[43m(\u001B[49m\u001B[43mdbuilder\u001B[49m\u001B[43m,\u001B[49m\u001B[43m \u001B[49m\u001B[43mdownload\u001B[49m\u001B[43m,\u001B[49m\u001B[43m \u001B[49m\u001B[43mdownload_and_prepare_kwargs\u001B[49m\u001B[43m)\u001B[49m\n\u001B[1;32m    651\u001B[0m \u001B[38;5;28;01mif\u001B[39;00m as_dataset_kwargs \u001B[38;5;129;01mis\u001B[39;00m \u001B[38;5;28;01mNone\u001B[39;00m:\n\u001B[1;32m    652\u001B[0m   as_dataset_kwargs \u001B[38;5;241m=\u001B[39m {}\n",
      "File \u001B[0;32m/project/johannsc/symmetries/RadialBeams/venv/lib/python3.11/site-packages/tensorflow_datasets/core/load.py:508\u001B[0m, in \u001B[0;36m_download_and_prepare_builder\u001B[0;34m(dbuilder, download, download_and_prepare_kwargs)\u001B[0m\n\u001B[1;32m    506\u001B[0m \u001B[38;5;28;01mif\u001B[39;00m download:\n\u001B[1;32m    507\u001B[0m   download_and_prepare_kwargs \u001B[38;5;241m=\u001B[39m download_and_prepare_kwargs \u001B[38;5;129;01mor\u001B[39;00m {}\n\u001B[0;32m--> 508\u001B[0m   \u001B[43mdbuilder\u001B[49m\u001B[38;5;241;43m.\u001B[39;49m\u001B[43mdownload_and_prepare\u001B[49m\u001B[43m(\u001B[49m\u001B[38;5;241;43m*\u001B[39;49m\u001B[38;5;241;43m*\u001B[39;49m\u001B[43mdownload_and_prepare_kwargs\u001B[49m\u001B[43m)\u001B[49m\n",
      "File \u001B[0;32m/project/johannsc/symmetries/RadialBeams/venv/lib/python3.11/site-packages/tensorflow_datasets/core/logging/__init__.py:168\u001B[0m, in \u001B[0;36m_FunctionDecorator.__call__\u001B[0;34m(self, function, instance, args, kwargs)\u001B[0m\n\u001B[1;32m    166\u001B[0m metadata \u001B[38;5;241m=\u001B[39m \u001B[38;5;28mself\u001B[39m\u001B[38;5;241m.\u001B[39m_start_call()\n\u001B[1;32m    167\u001B[0m \u001B[38;5;28;01mtry\u001B[39;00m:\n\u001B[0;32m--> 168\u001B[0m   \u001B[38;5;28;01mreturn\u001B[39;00m \u001B[43mfunction\u001B[49m\u001B[43m(\u001B[49m\u001B[38;5;241;43m*\u001B[39;49m\u001B[43margs\u001B[49m\u001B[43m,\u001B[49m\u001B[43m \u001B[49m\u001B[38;5;241;43m*\u001B[39;49m\u001B[38;5;241;43m*\u001B[39;49m\u001B[43mkwargs\u001B[49m\u001B[43m)\u001B[49m\n\u001B[1;32m    169\u001B[0m \u001B[38;5;28;01mexcept\u001B[39;00m \u001B[38;5;167;01mException\u001B[39;00m:\n\u001B[1;32m    170\u001B[0m   metadata\u001B[38;5;241m.\u001B[39mmark_error()\n",
      "File \u001B[0;32m/project/johannsc/symmetries/RadialBeams/venv/lib/python3.11/site-packages/tensorflow_datasets/core/dataset_builder.py:691\u001B[0m, in \u001B[0;36mDatasetBuilder.download_and_prepare\u001B[0;34m(self, download_dir, download_config, file_format)\u001B[0m\n\u001B[1;32m    689\u001B[0m   \u001B[38;5;28mself\u001B[39m\u001B[38;5;241m.\u001B[39minfo\u001B[38;5;241m.\u001B[39mread_from_directory(\u001B[38;5;28mself\u001B[39m\u001B[38;5;241m.\u001B[39mdata_dir)\n\u001B[1;32m    690\u001B[0m \u001B[38;5;28;01melse\u001B[39;00m:\n\u001B[0;32m--> 691\u001B[0m   \u001B[38;5;28;43mself\u001B[39;49m\u001B[38;5;241;43m.\u001B[39;49m\u001B[43m_download_and_prepare\u001B[49m\u001B[43m(\u001B[49m\n\u001B[1;32m    692\u001B[0m \u001B[43m      \u001B[49m\u001B[43mdl_manager\u001B[49m\u001B[38;5;241;43m=\u001B[39;49m\u001B[43mdl_manager\u001B[49m\u001B[43m,\u001B[49m\n\u001B[1;32m    693\u001B[0m \u001B[43m      \u001B[49m\u001B[43mdownload_config\u001B[49m\u001B[38;5;241;43m=\u001B[39;49m\u001B[43mdownload_config\u001B[49m\u001B[43m,\u001B[49m\n\u001B[1;32m    694\u001B[0m \u001B[43m  \u001B[49m\u001B[43m)\u001B[49m\n\u001B[1;32m    696\u001B[0m   \u001B[38;5;66;03m# NOTE: If modifying the lines below to put additional information in\u001B[39;00m\n\u001B[1;32m    697\u001B[0m   \u001B[38;5;66;03m# DatasetInfo, you'll likely also want to update\u001B[39;00m\n\u001B[1;32m    698\u001B[0m   \u001B[38;5;66;03m# DatasetInfo.read_from_directory to possibly restore these attributes\u001B[39;00m\n\u001B[1;32m    699\u001B[0m   \u001B[38;5;66;03m# when reading from package data.\u001B[39;00m\n\u001B[1;32m    700\u001B[0m   \u001B[38;5;28mself\u001B[39m\u001B[38;5;241m.\u001B[39minfo\u001B[38;5;241m.\u001B[39mdownload_size \u001B[38;5;241m=\u001B[39m dl_manager\u001B[38;5;241m.\u001B[39mdownloaded_size\n",
      "File \u001B[0;32m/project/johannsc/symmetries/RadialBeams/venv/lib/python3.11/site-packages/tensorflow_datasets/core/dataset_builder.py:1547\u001B[0m, in \u001B[0;36mGeneratorBasedBuilder._download_and_prepare\u001B[0;34m(self, dl_manager, download_config)\u001B[0m\n\u001B[1;32m   1545\u001B[0m \u001B[38;5;28;01melse\u001B[39;00m:\n\u001B[1;32m   1546\u001B[0m   optional_pipeline_kwargs \u001B[38;5;241m=\u001B[39m {}\n\u001B[0;32m-> 1547\u001B[0m split_generators \u001B[38;5;241m=\u001B[39m \u001B[38;5;28;43mself\u001B[39;49m\u001B[38;5;241;43m.\u001B[39;49m\u001B[43m_split_generators\u001B[49m\u001B[43m(\u001B[49m\u001B[43m  \u001B[49m\u001B[38;5;66;43;03m# pylint: disable=unexpected-keyword-arg\u001B[39;49;00m\n\u001B[1;32m   1548\u001B[0m \u001B[43m    \u001B[49m\u001B[43mdl_manager\u001B[49m\u001B[43m,\u001B[49m\u001B[43m \u001B[49m\u001B[38;5;241;43m*\u001B[39;49m\u001B[38;5;241;43m*\u001B[39;49m\u001B[43moptional_pipeline_kwargs\u001B[49m\n\u001B[1;32m   1549\u001B[0m \u001B[43m\u001B[49m\u001B[43m)\u001B[49m\n\u001B[1;32m   1550\u001B[0m \u001B[38;5;66;03m# TODO(tfds): Could be removed once all datasets are migrated.\u001B[39;00m\n\u001B[1;32m   1551\u001B[0m \u001B[38;5;66;03m# https://github.com/tensorflow/datasets/issues/2537\u001B[39;00m\n\u001B[1;32m   1552\u001B[0m \u001B[38;5;66;03m# Legacy mode (eventually convert list[SplitGeneratorLegacy] -> dict)\u001B[39;00m\n\u001B[1;32m   1553\u001B[0m split_generators \u001B[38;5;241m=\u001B[39m split_builder\u001B[38;5;241m.\u001B[39mnormalize_legacy_split_generators(\n\u001B[1;32m   1554\u001B[0m     split_generators\u001B[38;5;241m=\u001B[39msplit_generators,\n\u001B[1;32m   1555\u001B[0m     generator_fn\u001B[38;5;241m=\u001B[39m\u001B[38;5;28mself\u001B[39m\u001B[38;5;241m.\u001B[39m_generate_examples,\n\u001B[1;32m   1556\u001B[0m     is_beam\u001B[38;5;241m=\u001B[39m\u001B[38;5;28misinstance\u001B[39m(\u001B[38;5;28mself\u001B[39m, BeamBasedBuilder),\n\u001B[1;32m   1557\u001B[0m )\n",
      "File \u001B[0;32m/project/johannsc/symmetries/RadialBeams/venv/lib/python3.11/site-packages/tensorflow_datasets/datasets/celeb_a/celeb_a_dataset_builder.py:100\u001B[0m, in \u001B[0;36mBuilder._split_generators\u001B[0;34m(self, dl_manager)\u001B[0m\n\u001B[1;32m     99\u001B[0m \u001B[38;5;28;01mdef\u001B[39;00m \u001B[38;5;21m_split_generators\u001B[39m(\u001B[38;5;28mself\u001B[39m, dl_manager):\n\u001B[0;32m--> 100\u001B[0m   downloaded_dirs \u001B[38;5;241m=\u001B[39m \u001B[43mdl_manager\u001B[49m\u001B[38;5;241;43m.\u001B[39;49m\u001B[43mdownload\u001B[49m\u001B[43m(\u001B[49m\u001B[43m{\u001B[49m\n\u001B[1;32m    101\u001B[0m \u001B[43m      \u001B[49m\u001B[38;5;124;43m\"\u001B[39;49m\u001B[38;5;124;43mimg_align_celeba\u001B[39;49m\u001B[38;5;124;43m\"\u001B[39;49m\u001B[43m:\u001B[49m\u001B[43m \u001B[49m\u001B[43mIMG_ALIGNED_DATA\u001B[49m\u001B[43m,\u001B[49m\n\u001B[1;32m    102\u001B[0m \u001B[43m      \u001B[49m\u001B[38;5;124;43m\"\u001B[39;49m\u001B[38;5;124;43mlist_eval_partition\u001B[39;49m\u001B[38;5;124;43m\"\u001B[39;49m\u001B[43m:\u001B[49m\u001B[43m \u001B[49m\u001B[43mEVAL_LIST\u001B[49m\u001B[43m,\u001B[49m\n\u001B[1;32m    103\u001B[0m \u001B[43m      \u001B[49m\u001B[38;5;124;43m\"\u001B[39;49m\u001B[38;5;124;43mlist_attr_celeba\u001B[39;49m\u001B[38;5;124;43m\"\u001B[39;49m\u001B[43m:\u001B[49m\u001B[43m \u001B[49m\u001B[43mATTR_DATA\u001B[49m\u001B[43m,\u001B[49m\n\u001B[1;32m    104\u001B[0m \u001B[43m      \u001B[49m\u001B[38;5;124;43m\"\u001B[39;49m\u001B[38;5;124;43mlandmarks_celeba\u001B[39;49m\u001B[38;5;124;43m\"\u001B[39;49m\u001B[43m:\u001B[49m\u001B[43m \u001B[49m\u001B[43mLANDMARKS_DATA\u001B[49m\u001B[43m,\u001B[49m\n\u001B[1;32m    105\u001B[0m \u001B[43m      \u001B[49m\u001B[38;5;124;43m\"\u001B[39;49m\u001B[38;5;124;43midentity_celeba\u001B[39;49m\u001B[38;5;124;43m\"\u001B[39;49m\u001B[43m:\u001B[49m\u001B[43m \u001B[49m\u001B[43mIDENTITY_DATA\u001B[49m\u001B[43m,\u001B[49m\n\u001B[1;32m    106\u001B[0m \u001B[43m  \u001B[49m\u001B[43m}\u001B[49m\u001B[43m)\u001B[49m\n\u001B[1;32m    108\u001B[0m   \u001B[38;5;66;03m# Load all images in memory (~1 GiB)\u001B[39;00m\n\u001B[1;32m    109\u001B[0m   \u001B[38;5;66;03m# Use split to convert: `img_align_celeba/000005.jpg` -> `000005.jpg`\u001B[39;00m\n\u001B[1;32m    110\u001B[0m   all_images \u001B[38;5;241m=\u001B[39m {\n\u001B[1;32m    111\u001B[0m       os\u001B[38;5;241m.\u001B[39mpath\u001B[38;5;241m.\u001B[39msplit(k)[\u001B[38;5;241m-\u001B[39m\u001B[38;5;241m1\u001B[39m]: img\n\u001B[1;32m    112\u001B[0m       \u001B[38;5;28;01mfor\u001B[39;00m k, img \u001B[38;5;129;01min\u001B[39;00m dl_manager\u001B[38;5;241m.\u001B[39miter_archive(\n\u001B[1;32m    113\u001B[0m           downloaded_dirs[\u001B[38;5;124m\"\u001B[39m\u001B[38;5;124mimg_align_celeba\u001B[39m\u001B[38;5;124m\"\u001B[39m]\n\u001B[1;32m    114\u001B[0m       )\n\u001B[1;32m    115\u001B[0m   }\n",
      "File \u001B[0;32m/project/johannsc/symmetries/RadialBeams/venv/lib/python3.11/site-packages/tensorflow_datasets/core/download/download_manager.py:601\u001B[0m, in \u001B[0;36mDownloadManager.download\u001B[0;34m(self, url_or_urls)\u001B[0m\n\u001B[1;32m    599\u001B[0m \u001B[38;5;66;03m# Add progress bar to follow the download state\u001B[39;00m\n\u001B[1;32m    600\u001B[0m \u001B[38;5;28;01mwith\u001B[39;00m \u001B[38;5;28mself\u001B[39m\u001B[38;5;241m.\u001B[39m_downloader\u001B[38;5;241m.\u001B[39mtqdm():\n\u001B[0;32m--> 601\u001B[0m   \u001B[38;5;28;01mreturn\u001B[39;00m \u001B[43m_map_promise\u001B[49m\u001B[43m(\u001B[49m\u001B[38;5;28;43mself\u001B[39;49m\u001B[38;5;241;43m.\u001B[39;49m\u001B[43m_download\u001B[49m\u001B[43m,\u001B[49m\u001B[43m \u001B[49m\u001B[43murl_or_urls\u001B[49m\u001B[43m)\u001B[49m\n",
      "File \u001B[0;32m/project/johannsc/symmetries/RadialBeams/venv/lib/python3.11/site-packages/tensorflow_datasets/core/download/download_manager.py:831\u001B[0m, in \u001B[0;36m_map_promise\u001B[0;34m(map_fn, all_inputs)\u001B[0m\n\u001B[1;32m    827\u001B[0m \u001B[38;5;250m\u001B[39m\u001B[38;5;124;03m\"\"\"Map the function into each element and resolve the promise.\"\"\"\u001B[39;00m\n\u001B[1;32m    828\u001B[0m all_promises \u001B[38;5;241m=\u001B[39m tree_utils\u001B[38;5;241m.\u001B[39mmap_structure(\n\u001B[1;32m    829\u001B[0m     map_fn, all_inputs\n\u001B[1;32m    830\u001B[0m )  \u001B[38;5;66;03m# Apply the function\u001B[39;00m\n\u001B[0;32m--> 831\u001B[0m res \u001B[38;5;241m=\u001B[39m \u001B[43mtree_utils\u001B[49m\u001B[38;5;241;43m.\u001B[39;49m\u001B[43mmap_structure\u001B[49m\u001B[43m(\u001B[49m\n\u001B[1;32m    832\u001B[0m \u001B[43m    \u001B[49m\u001B[38;5;28;43;01mlambda\u001B[39;49;00m\u001B[43m \u001B[49m\u001B[43mp\u001B[49m\u001B[43m:\u001B[49m\u001B[43m \u001B[49m\u001B[43mp\u001B[49m\u001B[38;5;241;43m.\u001B[39;49m\u001B[43mget\u001B[49m\u001B[43m(\u001B[49m\u001B[43m)\u001B[49m\u001B[43m,\u001B[49m\u001B[43m \u001B[49m\u001B[43mall_promises\u001B[49m\n\u001B[1;32m    833\u001B[0m \u001B[43m\u001B[49m\u001B[43m)\u001B[49m  \u001B[38;5;66;03m# Wait promises\u001B[39;00m\n\u001B[1;32m    834\u001B[0m \u001B[38;5;28;01mreturn\u001B[39;00m res\n",
      "File \u001B[0;32m/project/johannsc/symmetries/RadialBeams/venv/lib/python3.11/site-packages/tree/__init__.py:435\u001B[0m, in \u001B[0;36mmap_structure\u001B[0;34m(func, *structures, **kwargs)\u001B[0m\n\u001B[1;32m    432\u001B[0m \u001B[38;5;28;01mfor\u001B[39;00m other \u001B[38;5;129;01min\u001B[39;00m structures[\u001B[38;5;241m1\u001B[39m:]:\n\u001B[1;32m    433\u001B[0m   assert_same_structure(structures[\u001B[38;5;241m0\u001B[39m], other, check_types\u001B[38;5;241m=\u001B[39mcheck_types)\n\u001B[1;32m    434\u001B[0m \u001B[38;5;28;01mreturn\u001B[39;00m unflatten_as(structures[\u001B[38;5;241m0\u001B[39m],\n\u001B[0;32m--> 435\u001B[0m                     \u001B[43m[\u001B[49m\u001B[43mfunc\u001B[49m\u001B[43m(\u001B[49m\u001B[38;5;241;43m*\u001B[39;49m\u001B[43margs\u001B[49m\u001B[43m)\u001B[49m\u001B[43m \u001B[49m\u001B[38;5;28;43;01mfor\u001B[39;49;00m\u001B[43m \u001B[49m\u001B[43margs\u001B[49m\u001B[43m \u001B[49m\u001B[38;5;129;43;01min\u001B[39;49;00m\u001B[43m \u001B[49m\u001B[38;5;28;43mzip\u001B[39;49m\u001B[43m(\u001B[49m\u001B[38;5;241;43m*\u001B[39;49m\u001B[38;5;28;43mmap\u001B[39;49m\u001B[43m(\u001B[49m\u001B[43mflatten\u001B[49m\u001B[43m,\u001B[49m\u001B[43m \u001B[49m\u001B[43mstructures\u001B[49m\u001B[43m)\u001B[49m\u001B[43m)\u001B[49m\u001B[43m]\u001B[49m)\n",
      "File \u001B[0;32m/project/johannsc/symmetries/RadialBeams/venv/lib/python3.11/site-packages/tree/__init__.py:435\u001B[0m, in \u001B[0;36m<listcomp>\u001B[0;34m(.0)\u001B[0m\n\u001B[1;32m    432\u001B[0m \u001B[38;5;28;01mfor\u001B[39;00m other \u001B[38;5;129;01min\u001B[39;00m structures[\u001B[38;5;241m1\u001B[39m:]:\n\u001B[1;32m    433\u001B[0m   assert_same_structure(structures[\u001B[38;5;241m0\u001B[39m], other, check_types\u001B[38;5;241m=\u001B[39mcheck_types)\n\u001B[1;32m    434\u001B[0m \u001B[38;5;28;01mreturn\u001B[39;00m unflatten_as(structures[\u001B[38;5;241m0\u001B[39m],\n\u001B[0;32m--> 435\u001B[0m                     [\u001B[43mfunc\u001B[49m\u001B[43m(\u001B[49m\u001B[38;5;241;43m*\u001B[39;49m\u001B[43margs\u001B[49m\u001B[43m)\u001B[49m \u001B[38;5;28;01mfor\u001B[39;00m args \u001B[38;5;129;01min\u001B[39;00m \u001B[38;5;28mzip\u001B[39m(\u001B[38;5;241m*\u001B[39m\u001B[38;5;28mmap\u001B[39m(flatten, structures))])\n",
      "File \u001B[0;32m/project/johannsc/symmetries/RadialBeams/venv/lib/python3.11/site-packages/tensorflow_datasets/core/download/download_manager.py:832\u001B[0m, in \u001B[0;36m_map_promise.<locals>.<lambda>\u001B[0;34m(p)\u001B[0m\n\u001B[1;32m    827\u001B[0m \u001B[38;5;250m\u001B[39m\u001B[38;5;124;03m\"\"\"Map the function into each element and resolve the promise.\"\"\"\u001B[39;00m\n\u001B[1;32m    828\u001B[0m all_promises \u001B[38;5;241m=\u001B[39m tree_utils\u001B[38;5;241m.\u001B[39mmap_structure(\n\u001B[1;32m    829\u001B[0m     map_fn, all_inputs\n\u001B[1;32m    830\u001B[0m )  \u001B[38;5;66;03m# Apply the function\u001B[39;00m\n\u001B[1;32m    831\u001B[0m res \u001B[38;5;241m=\u001B[39m tree_utils\u001B[38;5;241m.\u001B[39mmap_structure(\n\u001B[0;32m--> 832\u001B[0m     \u001B[38;5;28;01mlambda\u001B[39;00m p: \u001B[43mp\u001B[49m\u001B[38;5;241;43m.\u001B[39;49m\u001B[43mget\u001B[49m\u001B[43m(\u001B[49m\u001B[43m)\u001B[49m, all_promises\n\u001B[1;32m    833\u001B[0m )  \u001B[38;5;66;03m# Wait promises\u001B[39;00m\n\u001B[1;32m    834\u001B[0m \u001B[38;5;28;01mreturn\u001B[39;00m res\n",
      "File \u001B[0;32m/project/johannsc/symmetries/RadialBeams/venv/lib/python3.11/site-packages/promise/promise.py:512\u001B[0m, in \u001B[0;36mPromise.get\u001B[0;34m(self, timeout)\u001B[0m\n\u001B[1;32m    510\u001B[0m target \u001B[38;5;241m=\u001B[39m \u001B[38;5;28mself\u001B[39m\u001B[38;5;241m.\u001B[39m_target()\n\u001B[1;32m    511\u001B[0m \u001B[38;5;28mself\u001B[39m\u001B[38;5;241m.\u001B[39m_wait(timeout \u001B[38;5;129;01mor\u001B[39;00m DEFAULT_TIMEOUT)\n\u001B[0;32m--> 512\u001B[0m \u001B[38;5;28;01mreturn\u001B[39;00m \u001B[38;5;28;43mself\u001B[39;49m\u001B[38;5;241;43m.\u001B[39;49m\u001B[43m_target_settled_value\u001B[49m\u001B[43m(\u001B[49m\u001B[43m_raise\u001B[49m\u001B[38;5;241;43m=\u001B[39;49m\u001B[38;5;28;43;01mTrue\u001B[39;49;00m\u001B[43m)\u001B[49m\n",
      "File \u001B[0;32m/project/johannsc/symmetries/RadialBeams/venv/lib/python3.11/site-packages/promise/promise.py:516\u001B[0m, in \u001B[0;36mPromise._target_settled_value\u001B[0;34m(self, _raise)\u001B[0m\n\u001B[1;32m    514\u001B[0m \u001B[38;5;28;01mdef\u001B[39;00m \u001B[38;5;21m_target_settled_value\u001B[39m(\u001B[38;5;28mself\u001B[39m, _raise\u001B[38;5;241m=\u001B[39m\u001B[38;5;28;01mFalse\u001B[39;00m):\n\u001B[1;32m    515\u001B[0m     \u001B[38;5;66;03m# type: (bool) -> Any\u001B[39;00m\n\u001B[0;32m--> 516\u001B[0m     \u001B[38;5;28;01mreturn\u001B[39;00m \u001B[38;5;28;43mself\u001B[39;49m\u001B[38;5;241;43m.\u001B[39;49m\u001B[43m_target\u001B[49m\u001B[43m(\u001B[49m\u001B[43m)\u001B[49m\u001B[38;5;241;43m.\u001B[39;49m\u001B[43m_settled_value\u001B[49m\u001B[43m(\u001B[49m\u001B[43m_raise\u001B[49m\u001B[43m)\u001B[49m\n",
      "File \u001B[0;32m/project/johannsc/symmetries/RadialBeams/venv/lib/python3.11/site-packages/promise/promise.py:226\u001B[0m, in \u001B[0;36mPromise._settled_value\u001B[0;34m(self, _raise)\u001B[0m\n\u001B[1;32m    224\u001B[0m \u001B[38;5;28;01mif\u001B[39;00m _raise:\n\u001B[1;32m    225\u001B[0m     raise_val \u001B[38;5;241m=\u001B[39m \u001B[38;5;28mself\u001B[39m\u001B[38;5;241m.\u001B[39m_fulfillment_handler0\n\u001B[0;32m--> 226\u001B[0m     \u001B[43mreraise\u001B[49m\u001B[43m(\u001B[49m\u001B[38;5;28;43mtype\u001B[39;49m\u001B[43m(\u001B[49m\u001B[43mraise_val\u001B[49m\u001B[43m)\u001B[49m\u001B[43m,\u001B[49m\u001B[43m \u001B[49m\u001B[43mraise_val\u001B[49m\u001B[43m,\u001B[49m\u001B[43m \u001B[49m\u001B[38;5;28;43mself\u001B[39;49m\u001B[38;5;241;43m.\u001B[39;49m\u001B[43m_traceback\u001B[49m\u001B[43m)\u001B[49m\n\u001B[1;32m    227\u001B[0m \u001B[38;5;28;01mreturn\u001B[39;00m \u001B[38;5;28mself\u001B[39m\u001B[38;5;241m.\u001B[39m_fulfillment_handler0\n",
      "File \u001B[0;32m/project/johannsc/symmetries/RadialBeams/venv/lib/python3.11/site-packages/six.py:719\u001B[0m, in \u001B[0;36mreraise\u001B[0;34m(tp, value, tb)\u001B[0m\n\u001B[1;32m    717\u001B[0m     \u001B[38;5;28;01mif\u001B[39;00m value\u001B[38;5;241m.\u001B[39m__traceback__ \u001B[38;5;129;01mis\u001B[39;00m \u001B[38;5;129;01mnot\u001B[39;00m tb:\n\u001B[1;32m    718\u001B[0m         \u001B[38;5;28;01mraise\u001B[39;00m value\u001B[38;5;241m.\u001B[39mwith_traceback(tb)\n\u001B[0;32m--> 719\u001B[0m     \u001B[38;5;28;01mraise\u001B[39;00m value\n\u001B[1;32m    720\u001B[0m \u001B[38;5;28;01mfinally\u001B[39;00m:\n\u001B[1;32m    721\u001B[0m     value \u001B[38;5;241m=\u001B[39m \u001B[38;5;28;01mNone\u001B[39;00m\n",
      "File \u001B[0;32m/project/johannsc/symmetries/RadialBeams/venv/lib/python3.11/site-packages/promise/promise.py:87\u001B[0m, in \u001B[0;36mtry_catch\u001B[0;34m(handler, *args, **kwargs)\u001B[0m\n\u001B[1;32m     84\u001B[0m \u001B[38;5;28;01mdef\u001B[39;00m \u001B[38;5;21mtry_catch\u001B[39m(handler, \u001B[38;5;241m*\u001B[39margs, \u001B[38;5;241m*\u001B[39m\u001B[38;5;241m*\u001B[39mkwargs):\n\u001B[1;32m     85\u001B[0m     \u001B[38;5;66;03m# type: (Callable, Any, Any) -> Union[Tuple[Any, None], Tuple[None, Tuple[Exception, Optional[TracebackType]]]]\u001B[39;00m\n\u001B[1;32m     86\u001B[0m     \u001B[38;5;28;01mtry\u001B[39;00m:\n\u001B[0;32m---> 87\u001B[0m         \u001B[38;5;28;01mreturn\u001B[39;00m (\u001B[43mhandler\u001B[49m\u001B[43m(\u001B[49m\u001B[38;5;241;43m*\u001B[39;49m\u001B[43margs\u001B[49m\u001B[43m,\u001B[49m\u001B[43m \u001B[49m\u001B[38;5;241;43m*\u001B[39;49m\u001B[38;5;241;43m*\u001B[39;49m\u001B[43mkwargs\u001B[49m\u001B[43m)\u001B[49m, \u001B[38;5;28;01mNone\u001B[39;00m)\n\u001B[1;32m     88\u001B[0m     \u001B[38;5;28;01mexcept\u001B[39;00m \u001B[38;5;167;01mException\u001B[39;00m \u001B[38;5;28;01mas\u001B[39;00m e:\n\u001B[1;32m     89\u001B[0m         tb \u001B[38;5;241m=\u001B[39m exc_info()[\u001B[38;5;241m2\u001B[39m]\n",
      "File \u001B[0;32m/project/johannsc/symmetries/RadialBeams/venv/lib/python3.11/site-packages/tensorflow_datasets/core/download/download_manager.py:408\u001B[0m, in \u001B[0;36mDownloadManager._download.<locals>.<lambda>\u001B[0;34m(dl_result)\u001B[0m\n\u001B[1;32m    402\u001B[0m   future \u001B[38;5;241m=\u001B[39m \u001B[38;5;28mself\u001B[39m\u001B[38;5;241m.\u001B[39m_downloader\u001B[38;5;241m.\u001B[39mdownload(\n\u001B[1;32m    403\u001B[0m       url, download_tmp_dir, verify\u001B[38;5;241m=\u001B[39m\u001B[38;5;28mself\u001B[39m\u001B[38;5;241m.\u001B[39m_verify_ssl\n\u001B[1;32m    404\u001B[0m   )\n\u001B[1;32m    406\u001B[0m \u001B[38;5;66;03m# Post-process the result\u001B[39;00m\n\u001B[1;32m    407\u001B[0m \u001B[38;5;28;01mreturn\u001B[39;00m future\u001B[38;5;241m.\u001B[39mthen(\n\u001B[0;32m--> 408\u001B[0m     \u001B[38;5;28;01mlambda\u001B[39;00m dl_result: \u001B[38;5;28;43mself\u001B[39;49m\u001B[38;5;241;43m.\u001B[39;49m\u001B[43m_register_or_validate_checksums\u001B[49m\u001B[43m(\u001B[49m\u001B[43m  \u001B[49m\u001B[38;5;66;43;03m# pylint: disable=g-long-lambda\u001B[39;49;00m\n\u001B[1;32m    409\u001B[0m \u001B[43m        \u001B[49m\u001B[43murl\u001B[49m\u001B[38;5;241;43m=\u001B[39;49m\u001B[43murl\u001B[49m\u001B[43m,\u001B[49m\n\u001B[1;32m    410\u001B[0m \u001B[43m        \u001B[49m\u001B[43mpath\u001B[49m\u001B[38;5;241;43m=\u001B[39;49m\u001B[43mdl_result\u001B[49m\u001B[38;5;241;43m.\u001B[39;49m\u001B[43mpath\u001B[49m\u001B[43m,\u001B[49m\n\u001B[1;32m    411\u001B[0m \u001B[43m        \u001B[49m\u001B[43mcomputed_url_info\u001B[49m\u001B[38;5;241;43m=\u001B[39;49m\u001B[43mdl_result\u001B[49m\u001B[38;5;241;43m.\u001B[39;49m\u001B[43murl_info\u001B[49m\u001B[43m,\u001B[49m\n\u001B[1;32m    412\u001B[0m \u001B[43m        \u001B[49m\u001B[43mexpected_url_info\u001B[49m\u001B[38;5;241;43m=\u001B[39;49m\u001B[43mexpected_url_info\u001B[49m\u001B[43m,\u001B[49m\n\u001B[1;32m    413\u001B[0m \u001B[43m        \u001B[49m\u001B[43mchecksum_path\u001B[49m\u001B[38;5;241;43m=\u001B[39;49m\u001B[43mchecksum_path\u001B[49m\u001B[43m,\u001B[49m\n\u001B[1;32m    414\u001B[0m \u001B[43m        \u001B[49m\u001B[43murl_path\u001B[49m\u001B[38;5;241;43m=\u001B[39;49m\u001B[43murl_path\u001B[49m\u001B[43m,\u001B[49m\n\u001B[1;32m    415\u001B[0m \u001B[43m    \u001B[49m\u001B[43m)\u001B[49m\n\u001B[1;32m    416\u001B[0m )\n",
      "File \u001B[0;32m/project/johannsc/symmetries/RadialBeams/venv/lib/python3.11/site-packages/tensorflow_datasets/core/download/download_manager.py:465\u001B[0m, in \u001B[0;36mDownloadManager._register_or_validate_checksums\u001B[0;34m(self, path, url, expected_url_info, computed_url_info, checksum_path, url_path)\u001B[0m\n\u001B[1;32m    454\u001B[0m   checksum_path \u001B[38;5;241m=\u001B[39m \u001B[38;5;28mself\u001B[39m\u001B[38;5;241m.\u001B[39m_get_dl_path(url, computed_url_info\u001B[38;5;241m.\u001B[39mchecksum)\n\u001B[1;32m    455\u001B[0m \u001B[38;5;28;01melse\u001B[39;00m:\n\u001B[1;32m    456\u001B[0m   \u001B[38;5;66;03m# Eventually validate checksums\u001B[39;00m\n\u001B[1;32m    457\u001B[0m   \u001B[38;5;66;03m# Note:\u001B[39;00m\n\u001B[0;32m   (...)\u001B[0m\n\u001B[1;32m    463\u001B[0m   \u001B[38;5;66;03m#   download). This is expected as it might mean the downloaded file\u001B[39;00m\n\u001B[1;32m    464\u001B[0m   \u001B[38;5;66;03m#   was corrupted. Note: The tmp file isn't deleted to allow inspection.\u001B[39;00m\n\u001B[0;32m--> 465\u001B[0m   \u001B[43m_validate_checksums\u001B[49m\u001B[43m(\u001B[49m\n\u001B[1;32m    466\u001B[0m \u001B[43m      \u001B[49m\u001B[43murl\u001B[49m\u001B[38;5;241;43m=\u001B[39;49m\u001B[43murl\u001B[49m\u001B[43m,\u001B[49m\n\u001B[1;32m    467\u001B[0m \u001B[43m      \u001B[49m\u001B[43mpath\u001B[49m\u001B[38;5;241;43m=\u001B[39;49m\u001B[43mpath\u001B[49m\u001B[43m,\u001B[49m\n\u001B[1;32m    468\u001B[0m \u001B[43m      \u001B[49m\u001B[43mexpected_url_info\u001B[49m\u001B[38;5;241;43m=\u001B[39;49m\u001B[43mexpected_url_info\u001B[49m\u001B[43m,\u001B[49m\n\u001B[1;32m    469\u001B[0m \u001B[43m      \u001B[49m\u001B[43mcomputed_url_info\u001B[49m\u001B[38;5;241;43m=\u001B[39;49m\u001B[43mcomputed_url_info\u001B[49m\u001B[43m,\u001B[49m\n\u001B[1;32m    470\u001B[0m \u001B[43m      \u001B[49m\u001B[43mforce_checksums_validation\u001B[49m\u001B[38;5;241;43m=\u001B[39;49m\u001B[38;5;28;43mself\u001B[39;49m\u001B[38;5;241;43m.\u001B[39;49m\u001B[43m_force_checksums_validation\u001B[49m\u001B[43m,\u001B[49m\n\u001B[1;32m    471\u001B[0m \u001B[43m  \u001B[49m\u001B[43m)\u001B[49m\n\u001B[1;32m    473\u001B[0m \u001B[38;5;28;01mreturn\u001B[39;00m \u001B[38;5;28mself\u001B[39m\u001B[38;5;241m.\u001B[39m_rename_and_get_final_dl_path(\n\u001B[1;32m    474\u001B[0m     url\u001B[38;5;241m=\u001B[39murl,\n\u001B[1;32m    475\u001B[0m     path\u001B[38;5;241m=\u001B[39mpath,\n\u001B[0;32m   (...)\u001B[0m\n\u001B[1;32m    479\u001B[0m     url_path\u001B[38;5;241m=\u001B[39murl_path,\n\u001B[1;32m    480\u001B[0m )\n",
      "File \u001B[0;32m/project/johannsc/symmetries/RadialBeams/venv/lib/python3.11/site-packages/tensorflow_datasets/core/download/download_manager.py:809\u001B[0m, in \u001B[0;36m_validate_checksums\u001B[0;34m(url, path, computed_url_info, expected_url_info, force_checksums_validation)\u001B[0m\n\u001B[1;32m    797\u001B[0m \u001B[38;5;28;01mif\u001B[39;00m (\n\u001B[1;32m    798\u001B[0m     expected_url_info\n\u001B[1;32m    799\u001B[0m     \u001B[38;5;129;01mand\u001B[39;00m computed_url_info\n\u001B[1;32m    800\u001B[0m     \u001B[38;5;129;01mand\u001B[39;00m expected_url_info \u001B[38;5;241m!=\u001B[39m computed_url_info\n\u001B[1;32m    801\u001B[0m ):\n\u001B[1;32m    802\u001B[0m   msg \u001B[38;5;241m=\u001B[39m (\n\u001B[1;32m    803\u001B[0m       \u001B[38;5;124mf\u001B[39m\u001B[38;5;124m'\u001B[39m\u001B[38;5;124mArtifact \u001B[39m\u001B[38;5;132;01m{\u001B[39;00murl\u001B[38;5;132;01m}\u001B[39;00m\u001B[38;5;124m, downloaded to \u001B[39m\u001B[38;5;132;01m{\u001B[39;00mpath\u001B[38;5;132;01m}\u001B[39;00m\u001B[38;5;124m, has wrong checksum:\u001B[39m\u001B[38;5;130;01m\\n\u001B[39;00m\u001B[38;5;124m'\u001B[39m\n\u001B[1;32m    804\u001B[0m       \u001B[38;5;124mf\u001B[39m\u001B[38;5;124m'\u001B[39m\u001B[38;5;124m* Expected: \u001B[39m\u001B[38;5;132;01m{\u001B[39;00mexpected_url_info\u001B[38;5;132;01m}\u001B[39;00m\u001B[38;5;130;01m\\n\u001B[39;00m\u001B[38;5;124m'\u001B[39m\n\u001B[0;32m   (...)\u001B[0m\n\u001B[1;32m    807\u001B[0m       \u001B[38;5;124m'\u001B[39m\u001B[38;5;124mhttps://www.tensorflow.org/datasets/overview#fixing_nonmatchingchecksumerror\u001B[39m\u001B[38;5;124m'\u001B[39m\n\u001B[1;32m    808\u001B[0m   )\n\u001B[0;32m--> 809\u001B[0m   \u001B[38;5;28;01mraise\u001B[39;00m NonMatchingChecksumError(msg)\n",
      "\u001B[0;31mNonMatchingChecksumError\u001B[0m: Artifact https://drive.google.com/uc?export=download&id=0B7EVK8r0v71pZjFTYXZWM3FlRnM, downloaded to /home/johannsc/tensorflow_datasets/downloads/ucexport_download_id_0B7EVK8r0v71pZjFTYXZWM3FlDDaXUAQO8EGH_a7VqGNLRtW52mva1LzDrb-V723OQN8.tmp.bca38633463f4337b902e38888056674/download, has wrong checksum:\n* Expected: UrlInfo(size=1.34 GiB, checksum='46fb89443c578308acf364d7d379fe1b9efb793042c0af734b6112e4fd3a8c74', filename='img_align_celeba.zip')\n* Got: UrlInfo(size=2.37 KiB, checksum='73507410d2f51a53e84d584c32865d3dda92ea1aa18a86ce4ab27bbb310979ec', filename='download')\nTo debug, see: https://www.tensorflow.org/datasets/overview#fixing_nonmatchingchecksumerror"
     ]
    }
   ],
   "source": [
    "train_dataset = torchvision.datasets.CelebA(split=\"train\", transform=polar_transform, download=True)\n",
    "test_dataset = tfds.load(dataset_name, split='test', shuffle_files=False)\n",
    "\n",
    "def preprocess(example):\n",
    "    image = tf.cast(example['image'], tf.float32) / 255.\n",
    "    image = apply_circular_mask(image)\n",
    "    return {\n",
    "        'image': image,\n",
    "        'label': example['label'],\n",
    "        'polar': polar_transform(image)\n",
    "    }\n",
    "\n",
    "train_dataset = train_dataset.map(preprocess).shuffle(buffer_size=10000).batch(batch_size)\n",
    "test_dataset = test_dataset.map(preprocess).batch(batch_size)"
   ],
   "metadata": {
    "collapsed": false,
    "ExecuteTime": {
     "end_time": "2024-02-16T07:42:54.381884Z",
     "start_time": "2024-02-16T07:42:52.269501Z"
    }
   },
   "id": "148bfdbe0cfd8b4e",
   "execution_count": 11
  },
  {
   "cell_type": "code",
   "outputs": [
    {
     "name": "stderr",
     "output_type": "stream",
     "text": [
      "2024-02-15 12:08:16.430135: W tensorflow/core/kernels/data/cache_dataset_ops.cc:854] The calling iterator did not fully read the dataset being cached. In order to avoid unexpected truncation of the dataset, the partially cached contents of the dataset  will be discarded. This can happen if you have an input pipeline similar to `dataset.cache().take(k).repeat()`. You should use `dataset.take(k).cache().repeat()` instead.\n"
     ]
    },
    {
     "data": {
      "text/plain": "<Figure size 640x480 with 9 Axes>",
      "image/png": "[encoded data removed]"
     },
     "metadata": {},
     "output_type": "display_data"
    }
   ],
   "source": [
    "%matplotlib inline\n",
    "fig, axs = plt.subplots(3,3)\n",
    "\n",
    "batch_idx = 1\n",
    "\n",
    "data = next(iter(test_dataset))\n",
    "image = data['image'][batch_idx]\n",
    "\n",
    "rot_image = tfa.image.rotate(image, 90., interpolation='bilinear')\n",
    "rot_image = tf.cast(rot_image, tf.float32)\n",
    "\n",
    "axs[0, 0].imshow(image)\n",
    "axs[1, 0].imshow(rot_image)\n",
    "axs[2, 0].imshow(image)\n",
    "\n",
    "polar = data['polar'][batch_idx]\n",
    "rot_polar = polar_transform(rot_image)\n",
    "shifted_polar = tf.roll(polar, shift=50, axis=1)\n",
    "\n",
    "axs[0, 1].imshow(polar)\n",
    "axs[1, 1].imshow(rot_polar)\n",
    "axs[2, 1].imshow(shifted_polar)\n",
    "\n",
    "polar_inv = polar_transform_inv(polar.numpy(), output=(image_size, image_size))\n",
    "rot_polar_inv = polar_transform_inv(rot_polar.numpy(), output=(image_size, image_size))\n",
    "shifted_polar_inv = polar_transform_inv(shifted_polar.numpy(), output=(image_size, image_size))\n",
    "\n",
    "axs[0, 2].imshow(polar_inv)\n",
    "axs[1, 2].imshow(rot_polar_inv)\n",
    "axs[2, 2].imshow(rot_polar_inv)\n",
    "\n",
    "plt.show()"
   ],
   "metadata": {
    "collapsed": false,
    "ExecuteTime": {
     "end_time": "2024-02-15T12:08:18.885914Z",
     "start_time": "2024-02-15T12:08:15.797117Z"
    }
   },
   "id": "e8fa2d13939153d7",
   "execution_count": 4
  },
  {
   "cell_type": "code",
   "outputs": [
    {
     "name": "stdout",
     "output_type": "stream",
     "text": [
      "Model: \"polar_regressor\"\n",
      "_________________________________________________________________\n",
      " Layer (type)                Output Shape              Param #   \n",
      "=================================================================\n",
      " sequential (Sequential)     (None, 23, 174, 16)       83824     \n",
      "                                                                 \n",
      " sequential_1 (Sequential)   (None, 142)               23681     \n",
      "                                                                 \n",
      "=================================================================\n",
      "Total params: 107505 (419.94 KB)\n",
      "Trainable params: 107505 (419.94 KB)\n",
      "Non-trainable params: 0 (0.00 Byte)\n",
      "_________________________________________________________________\n"
     ]
    },
    {
     "name": "stderr",
     "output_type": "stream",
     "text": [
      "2024-02-15 12:08:19.367837: I tensorflow/compiler/xla/stream_executor/cuda/cuda_dnn.cc:442] Loaded cuDNN version 8700\n"
     ]
    },
    {
     "data": {
      "text/plain": "TensorShape([1024, 142])"
     },
     "execution_count": 5,
     "metadata": {},
     "output_type": "execute_result"
    }
   ],
   "source": [
    "from tensorflow.keras import layers, models\n",
    "\n",
    "def cyclic_beam_padding(x, padding=1):\n",
    "    return tf.concat([x[:, :, x.shape[2]-padding:], x, x[:, :, :padding]], axis=-2)\n",
    "    \n",
    "class PolarRegressor(tf.keras.Model):\n",
    "    def __init__(self):\n",
    "        super().__init__()\n",
    "        # padding such that kernels of size 3 on the edges use cyclic padded values\n",
    "        # padding = kernel_size - 1 using \"same\" padding\n",
    "        self.padding = 16\n",
    "        self.encoder = models.Sequential([\n",
    "            layers.InputLayer(input_shape=(len_beam, n_beams+2*self.padding, n_channels)),\n",
    "\n",
    "            layers.Conv2D(16, (3, 3), activation='gelu', padding='same'),\n",
    "            layers.Conv2D(32, (3, 3), activation='gelu', padding='same'),\n",
    "            layers.LayerNormalization(),\n",
    "            \n",
    "            layers.Conv2D(64, (3, 3), activation='gelu', padding='same'),\n",
    "            layers.Conv2D(64, (3, 3), activation='gelu', padding='same'),\n",
    "            layers.LayerNormalization(),\n",
    "\n",
    "            layers.Conv2D(32, (3, 3), activation='gelu', padding='same'),\n",
    "            layers.Conv2D(16, (3, 3), activation='gelu', padding='same'),\n",
    "            layers.LayerNormalization(),\n",
    "        ])\n",
    "        self.encoder2 = models.Sequential([\n",
    "            layers.InputLayer(input_shape=(n_beams, 368)),\n",
    "            layers.Dense(64, activation='gelu'),\n",
    "            layers.Dense(1),\n",
    "            layers.Flatten()\n",
    "        ])\n",
    "    \n",
    "    def call(self, x):\n",
    "        if self.padding > 0:\n",
    "            x = cyclic_beam_padding(x, padding=self.padding)\n",
    "        z = self.encoder(x)\n",
    "        z = tf.transpose(z, (0, 2, 1, 3))\n",
    "        z = tf.reshape(z, (z.shape[0], z.shape[1], -1))\n",
    "        if self.padding > 0:\n",
    "            z = z[:, self.padding//2:n_beams+self.padding//2]\n",
    "        z = self.encoder2(z)\n",
    "        # z = tf.nn.softmax(z, axis=-1)\n",
    "        return z / tf.norm(z, axis=-1, keepdims=True)\n",
    "\n",
    "model = PolarRegressor()\n",
    "model.build(input_shape=(batch_size, len_beam, n_beams, n_channels))\n",
    "model.summary()\n",
    "model(tf.zeros((batch_size, len_beam, n_beams, n_channels))).shape"
   ],
   "metadata": {
    "collapsed": false,
    "ExecuteTime": {
     "end_time": "2024-02-15T12:08:41.191397Z",
     "start_time": "2024-02-15T12:08:18.815636Z"
    }
   },
   "id": "7dd4e2e9016f1c7e",
   "execution_count": 5
  },
  {
   "cell_type": "code",
   "outputs": [
    {
     "name": "stderr",
     "output_type": "stream",
     "text": [
      "  0%|                                                                                                                                                                                | 0/10 [00:00<?, ?it/s]2024-02-15 12:08:41.044157: I tensorflow/compiler/xla/service/service.cc:168] XLA service 0xf8b2da0 initialized for platform CUDA (this does not guarantee that XLA will be used). Devices:\n",
      "2024-02-15 12:08:41.044216: I tensorflow/compiler/xla/service/service.cc:176]   StreamExecutor device (0): NVIDIA A40, Compute Capability 8.6\n",
      "2024-02-15 12:08:41.047795: I tensorflow/compiler/mlir/tensorflow/utils/dump_mlir_util.cc:269] disabling MLIR crash reproducer, set env var `MLIR_CRASH_REPRODUCER_DIRECTORY` to enable.\n",
      "2024-02-15 12:08:41.157514: I ./tensorflow/compiler/jit/device_compiler.h:186] Compiled cluster using XLA!  This line is logged at most once for the lifetime of the process.\n"
     ]
    },
    {
     "name": "stdout",
     "output_type": "stream",
     "text": [
      "WARNING:tensorflow:5 out of the last 5 calls to <function _BaseOptimizer._update_step_xla at 0x7f10406c4a40> triggered tf.function retracing. Tracing is expensive and the excessive number of tracings could be due to (1) creating @tf.function repeatedly in a loop, (2) passing tensors with different shapes, (3) passing Python objects instead of tensors. For (1), please define your @tf.function outside of the loop. For (2), @tf.function has reduce_retracing=True option that can avoid unnecessary retracing. For (3), please refer to https://www.tensorflow.org/guide/function#controlling_retracing and https://www.tensorflow.org/api_docs/python/tf/function for  more details.\n"
     ]
    },
    {
     "name": "stderr",
     "output_type": "stream",
     "text": [
      "WARNING:tensorflow:5 out of the last 5 calls to <function _BaseOptimizer._update_step_xla at 0x7f10406c4a40> triggered tf.function retracing. Tracing is expensive and the excessive number of tracings could be due to (1) creating @tf.function repeatedly in a loop, (2) passing tensors with different shapes, (3) passing Python objects instead of tensors. For (1), please define your @tf.function outside of the loop. For (2), @tf.function has reduce_retracing=True option that can avoid unnecessary retracing. For (3), please refer to https://www.tensorflow.org/guide/function#controlling_retracing and https://www.tensorflow.org/api_docs/python/tf/function for  more details.\n"
     ]
    },
    {
     "name": "stdout",
     "output_type": "stream",
     "text": [
      "WARNING:tensorflow:6 out of the last 6 calls to <function _BaseOptimizer._update_step_xla at 0x7f10406c4a40> triggered tf.function retracing. Tracing is expensive and the excessive number of tracings could be due to (1) creating @tf.function repeatedly in a loop, (2) passing tensors with different shapes, (3) passing Python objects instead of tensors. For (1), please define your @tf.function outside of the loop. For (2), @tf.function has reduce_retracing=True option that can avoid unnecessary retracing. For (3), please refer to https://www.tensorflow.org/guide/function#controlling_retracing and https://www.tensorflow.org/api_docs/python/tf/function for  more details.\n"
     ]
    },
    {
     "name": "stderr",
     "output_type": "stream",
     "text": [
      "WARNING:tensorflow:6 out of the last 6 calls to <function _BaseOptimizer._update_step_xla at 0x7f10406c4a40> triggered tf.function retracing. Tracing is expensive and the excessive number of tracings could be due to (1) creating @tf.function repeatedly in a loop, (2) passing tensors with different shapes, (3) passing Python objects instead of tensors. For (1), please define your @tf.function outside of the loop. For (2), @tf.function has reduce_retracing=True option that can avoid unnecessary retracing. For (3), please refer to https://www.tensorflow.org/guide/function#controlling_retracing and https://www.tensorflow.org/api_docs/python/tf/function for  more details.\n",
      " 10%|████████████████▊                                                                                                                                                       | 1/10 [01:38<14:46, 98.49s/it]"
     ]
    },
    {
     "name": "stdout",
     "output_type": "stream",
     "text": [
      "0.7383\n"
     ]
    },
    {
     "name": "stderr",
     "output_type": "stream",
     "text": [
      " 20%|█████████████████████████████████▌                                                                                                                                      | 2/10 [02:42<10:27, 78.49s/it]"
     ]
    },
    {
     "name": "stdout",
     "output_type": "stream",
     "text": [
      "0.2959\n"
     ]
    },
    {
     "name": "stderr",
     "output_type": "stream",
     "text": [
      " 30%|██████████████████████████████████████████████████▍                                                                                                                     | 3/10 [03:47<08:24, 72.01s/it]"
     ]
    },
    {
     "name": "stdout",
     "output_type": "stream",
     "text": [
      "0.1847\n"
     ]
    },
    {
     "name": "stderr",
     "output_type": "stream",
     "text": [
      " 40%|███████████████████████████████████████████████████████████████████▏                                                                                                    | 4/10 [04:51<06:54, 69.03s/it]"
     ]
    },
    {
     "name": "stdout",
     "output_type": "stream",
     "text": [
      "0.1222\n"
     ]
    },
    {
     "name": "stderr",
     "output_type": "stream",
     "text": [
      " 50%|████████████████████████████████████████████████████████████████████████████████████                                                                                    | 5/10 [05:56<05:36, 67.33s/it]"
     ]
    },
    {
     "name": "stdout",
     "output_type": "stream",
     "text": [
      "0.1005\n"
     ]
    },
    {
     "name": "stderr",
     "output_type": "stream",
     "text": [
      " 60%|████████████████████████████████████████████████████████████████████████████████████████████████████▊                                                                   | 6/10 [07:00<04:25, 66.28s/it]"
     ]
    },
    {
     "name": "stdout",
     "output_type": "stream",
     "text": [
      "0.1358\n"
     ]
    }
   ],
   "source": [
    "def roll_batch(tensor, roll_values, axis=2):\n",
    "  return tf.stack([tf.roll(tensor[i], roll_values[i], axis=axis-1) for i in range(tensor.shape[0])])\n",
    "\n",
    "true = np.zeros((n_beams, image.shape[0]))\n",
    "true[n_beams//2] = 1\n",
    "true = tf.convert_to_tensor(true, dtype=tf.float32)\n",
    "\n",
    "optimizer = tf.keras.optimizers.AdamW(learning_rate=0.001)\n",
    "for e in  tqdm(range(n_epochs)):\n",
    "    # training loop\n",
    "    for s, sample in enumerate(train_dataset):\n",
    "        image, label = sample['polar'], sample['label']\n",
    "        with tf.GradientTape() as tape:\n",
    "            k_distribution = model(image)\n",
    "            # cosine of hyper-unit-vectors -> normalization not needed \n",
    "            loss = 1. - (k_distribution @ true) \n",
    "            grad = tape.gradient(loss, model.trainable_variables)\n",
    "        optimizer.apply_gradients(zip(grad, model.trainable_variables))\n",
    "        wandb.log({\"training loss\": np.mean(loss.numpy())}, step=e*len(train_dataset)+s)\n",
    "        # equivariance test loop\n",
    "        image = tf.roll(image, shift=20, axis=2) # see example above shift to right\n",
    "        k_true = tf.cast(tf.fill((image.shape[0], ), 20), tf.int64)\n",
    "        test_loss = tf.abs(k_true + n_beams//2-tf.argmax(model(image), axis=-1))\n",
    "        wandb.log({\"equivariance test\": np.mean(test_loss.numpy())}, step=e*len(train_dataset)+s)\n",
    "    # pseudo-equivariant test loop\n",
    "    test_loss = []\n",
    "    for s, sample in enumerate(test_dataset):\n",
    "        image, label = sample['polar'], sample['label']\n",
    "        k = tf.random.uniform(shape=(image.shape[0],), minval=-n_beams//2, maxval=n_beams//2, dtype=tf.int64)\n",
    "        image = roll_batch(image, k, axis=2)\n",
    "        k_distribution = model(image)\n",
    "        test_loss.append(tf.abs(k + n_beams//2-tf.argmax(k_distribution, axis=-1)).numpy())\n",
    "    wandb.log({\"testing loss\": np.concatenate(test_loss, axis=0).mean()})\n",
    "    print(np.concatenate(test_loss, axis=0).mean())\n",
    "# todo implement load and save of models "
   ],
   "metadata": {
    "collapsed": false,
    "ExecuteTime": {
     "start_time": "2024-02-15T12:08:21.885654Z"
    }
   },
   "id": "f8df01c736bea877",
   "execution_count": null
  },
  {
   "cell_type": "code",
   "outputs": [],
   "source": [
    "fig, axs = plt.subplots(1,4)\n",
    "for s, sample in enumerate(train_dataset):\n",
    "    image, label = sample['polar'], sample['label']\n",
    "    axs[0].imshow(polar_transform_inv(image[0].numpy()))\n",
    "    image = tf.roll(image, shift=50, axis=2)\n",
    "    axs[1].imshow(polar_transform_inv(image[0].numpy()))\n",
    "    k_distribution = model(image)\n",
    "    k = tf.argmax(k_distribution, axis=-1)\n",
    "    image_undo = tf.roll(image[0], shift=93+k[0], axis=1)\n",
    "    axs[2].imshow(polar_transform_inv(image_undo.numpy()))\n",
    "    axs[2].set_title(k[0])\n",
    "    image_undo = tf.roll(image[0], shift=93-k[0], axis=1)\n",
    "    axs[3].imshow(polar_transform_inv(image_undo.numpy()))\n",
    "    plt.show()\n",
    "    break"
   ],
   "metadata": {
    "collapsed": false
   },
   "id": "75cff1f44de5bcb5",
   "execution_count": null
  }
 ],
 "metadata": {
  "kernelspec": {
   "display_name": "Python 3",
   "language": "python",
   "name": "python3"
  },
  "language_info": {
   "codemirror_mode": {
    "name": "ipython",
    "version": 2
   },
   "file_extension": ".py",
   "mimetype": "text/x-python",
   "name": "python",
   "nbconvert_exporter": "python",
   "pygments_lexer": "ipython2",
   "version": "2.7.6"
  }
 },
 "nbformat": 4,
 "nbformat_minor": 5
}
