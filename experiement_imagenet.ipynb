{
 "cells": [
  {
   "cell_type": "code",
   "execution_count": 5,
   "id": "initial_id",
   "metadata": {
    "collapsed": true,
    "ExecuteTime": {
     "end_time": "2024-02-15T12:52:42.052683Z",
     "start_time": "2024-02-15T12:52:41.780593Z"
    }
   },
   "outputs": [
    {
     "name": "stdout",
     "output_type": "stream",
     "text": [
      "nvcc: NVIDIA (R) Cuda compiler driver\r\n",
      "Copyright (c) 2005-2022 NVIDIA Corporation\r\n",
      "Built on Wed_Sep_21_10:33:58_PDT_2022\r\n",
      "Cuda compilation tools, release 11.8, V11.8.89\r\n",
      "Build cuda_11.8.r11.8/compiler.31833905_0\r\n",
      "Num GPUs Available:  4\n"
     ]
    }
   ],
   "source": [
    "# https://www.tensorflow.org/install/source#gpu\n",
    "! nvcc  --version\n",
    "\n",
    "import os \n",
    "os.environ[\"CUDA_VISIBLE_DEVICES\"] = \"0\"\n",
    "\n",
    "import math\n",
    "import copy\n",
    "import numpy as np\n",
    "import pandas as pd\n",
    "import matplotlib\n",
    "import matplotlib.pyplot as plt\n",
    "from tqdm import tqdm\n",
    "import tensorflow as tf\n",
    "import tensorflow_datasets as tfds\n",
    "import tensorflow_addons as tfa\n",
    "\n",
    "print(\"Num GPUs Available: \", len(tf.config.list_physical_devices('GPU')))\n",
    "\n",
    "from src.utils import apply_circular_mask, cartesian_to_polar_grid, polar_transform, polar_transform_inv\n",
    "from src.model import toeplitz_extractor\n",
    "from src.visu import add_grad_coloring"
   ]
  },
  {
   "cell_type": "code",
   "outputs": [
    {
     "name": "stdout",
     "output_type": "stream",
     "text": [
      "23 142\n"
     ]
    },
    {
     "name": "stderr",
     "output_type": "stream",
     "text": [
      "Failed to detect the name of this notebook, you can set it manually with the WANDB_NOTEBOOK_NAME environment variable to enable code saving.\n",
      "\u001B[34m\u001B[1mwandb\u001B[0m: Currently logged in as: \u001B[33mjohschm\u001B[0m. Use \u001B[1m`wandb login --relogin`\u001B[0m to force relogin\n"
     ]
    },
    {
     "data": {
      "text/plain": "<IPython.core.display.HTML object>",
      "text/html": "Tracking run with wandb version 0.16.3"
     },
     "metadata": {},
     "output_type": "display_data"
    },
    {
     "data": {
      "text/plain": "<IPython.core.display.HTML object>",
      "text/html": "Run data is saved locally in <code>/project/johannsc/symmetries/RadialBeams/wandb/run-20240215_124835-4mgu8aqj</code>"
     },
     "metadata": {},
     "output_type": "display_data"
    },
    {
     "data": {
      "text/plain": "<IPython.core.display.HTML object>",
      "text/html": "Syncing run <strong><a href='https://wandb.ai/johschm/RadialBeams/runs/4mgu8aqj' target=\"_blank\">0215-1248</a></strong> to <a href='https://wandb.ai/johschm/RadialBeams' target=\"_blank\">Weights & Biases</a> (<a href='https://wandb.me/run' target=\"_blank\">docs</a>)<br/>"
     },
     "metadata": {},
     "output_type": "display_data"
    },
    {
     "data": {
      "text/plain": "<IPython.core.display.HTML object>",
      "text/html": " View project at <a href='https://wandb.ai/johschm/RadialBeams' target=\"_blank\">https://wandb.ai/johschm/RadialBeams</a>"
     },
     "metadata": {},
     "output_type": "display_data"
    },
    {
     "data": {
      "text/plain": "<IPython.core.display.HTML object>",
      "text/html": " View run at <a href='https://wandb.ai/johschm/RadialBeams/runs/4mgu8aqj' target=\"_blank\">https://wandb.ai/johschm/RadialBeams/runs/4mgu8aqj</a>"
     },
     "metadata": {},
     "output_type": "display_data"
    },
    {
     "data": {
      "text/html": "<button onClick=\"this.nextSibling.style.display='block';this.style.display='none';\">Display W&B run</button><iframe src='https://wandb.ai/johschm/RadialBeams/runs/4mgu8aqj?jupyter=true' style='border:none;width:100%;height:420px;display:none;'></iframe>",
      "text/plain": "<wandb.sdk.wandb_run.Run at 0x7fd1ac387d50>"
     },
     "execution_count": 2,
     "metadata": {},
     "output_type": "execute_result"
    }
   ],
   "source": [
    "import wandb\n",
    "from datetime import datetime\n",
    "\n",
    "dataset_name = 'imagenet'\n",
    "image_size = 224\n",
    "batch_size = 128\n",
    "n_epochs = 10\n",
    "n_channels = 3\n",
    "n_classes = 1000\n",
    "\n",
    "# see polar_transform\n",
    "radius = (np.array([image_size, image_size])**2).sum()**0.5/2\n",
    "len_beam = int(round(radius))\n",
    "n_beams = int(round(radius*2*np.pi))\n",
    "print(len_beam, n_beams)\n",
    "\n",
    "config = {\n",
    "}\n",
    "\n",
    "wandb.init(project=\"RadialBeams\", config=config, group=dataset_name, name=datetime.now().strftime(\"%m%d-%H%M\"))"
   ],
   "metadata": {
    "collapsed": false,
    "ExecuteTime": {
     "end_time": "2024-02-15T12:48:36.291172Z",
     "start_time": "2024-02-15T12:48:33.492115Z"
    }
   },
   "id": "c463b08573696d7c",
   "execution_count": 2
  },
  {
   "cell_type": "code",
   "outputs": [],
   "source": [
    "%matplotlib inline\n",
    "fig, axs = plt.subplots(3,3)\n",
    "\n",
    "batch_idx = 1\n",
    "\n",
    "data = next(iter(test_dataset))\n",
    "image = data['image'][batch_idx]\n",
    "\n",
    "rot_image = tfa.image.rotate(image, 90., interpolation='bilinear')\n",
    "rot_image = tf.cast(rot_image, tf.float32)\n",
    "\n",
    "axs[0, 0].imshow(image)\n",
    "axs[1, 0].imshow(rot_image)\n",
    "axs[2, 0].imshow(image)\n",
    "\n",
    "polar = data['polar'][batch_idx]\n",
    "rot_polar = polar_transform(rot_image)\n",
    "shifted_polar = tf.roll(polar, shift=50, axis=1)\n",
    "\n",
    "axs[0, 1].imshow(polar)\n",
    "axs[1, 1].imshow(rot_polar)\n",
    "axs[2, 1].imshow(shifted_polar)\n",
    "\n",
    "polar_inv = polar_transform_inv(polar.numpy(), output=(image_size, image_size))\n",
    "rot_polar_inv = polar_transform_inv(rot_polar.numpy(), output=(image_size, image_size))\n",
    "shifted_polar_inv = polar_transform_inv(shifted_polar.numpy(), output=(image_size, image_size))\n",
    "\n",
    "axs[0, 2].imshow(polar_inv)\n",
    "axs[1, 2].imshow(rot_polar_inv)\n",
    "axs[2, 2].imshow(rot_polar_inv)\n",
    "\n",
    "plt.show()"
   ],
   "metadata": {
    "collapsed": false,
    "ExecuteTime": {
     "end_time": "2024-02-15T12:48:43.918283Z",
     "start_time": "2024-02-15T12:48:43.917906Z"
    }
   },
   "id": "e8fa2d13939153d7",
   "execution_count": null
  },
  {
   "cell_type": "code",
   "outputs": [],
   "source": [
    "from tensorflow.keras import layers, models\n",
    "\n",
    "def cyclic_beam_padding(x, padding=1):\n",
    "    return tf.concat([x[:, :, x.shape[2]-padding:], x, x[:, :, :padding]], axis=-2)\n",
    "    \n",
    "class PolarRegressor(tf.keras.Model):\n",
    "    def __init__(self):\n",
    "        super().__init__()\n",
    "        # padding such that kernels of size 3 on the edges use cyclic padded values\n",
    "        # padding = kernel_size - 1 using \"same\" padding\n",
    "        self.padding = 16\n",
    "        self.encoder = models.Sequential([\n",
    "            layers.InputLayer(input_shape=(len_beam, n_beams+2*self.padding, n_channels)),\n",
    "\n",
    "            layers.Conv2D(32, (3, 3), activation='gelu', padding='same'),\n",
    "            layers.Conv2D(64, (3, 3), activation='gelu', padding='same'),\n",
    "            layers.LayerNormalization(),\n",
    "            \n",
    "            layers.Conv2D(128, (3, 3), activation='gelu', padding='same'),\n",
    "            layers.Conv2D(128, (3, 3), activation='gelu', padding='same'),\n",
    "            layers.LayerNormalization(),\n",
    "\n",
    "            layers.Conv2D(64, (3, 3), activation='gelu', padding='same'),\n",
    "            layers.Conv2D(32, (3, 3), activation='gelu', padding='same'),\n",
    "            layers.LayerNormalization(),\n",
    "        ])\n",
    "        self.encoder2 = models.Sequential([\n",
    "            layers.InputLayer(input_shape=(n_beams, 2*368)),\n",
    "            layers.Dense(64, activation='gelu'),\n",
    "            layers.Dense(1),\n",
    "            layers.Flatten()\n",
    "        ])\n",
    "    \n",
    "    def call(self, x):\n",
    "        if self.padding > 0:\n",
    "            x = cyclic_beam_padding(x, padding=self.padding)\n",
    "        z = self.encoder(x)\n",
    "        z = tf.transpose(z, (0, 2, 1, 3))\n",
    "        z = tf.reshape(z, (z.shape[0], z.shape[1], -1))\n",
    "        if self.padding > 0:\n",
    "            z = z[:, self.padding//2:n_beams+self.padding//2]\n",
    "        z = self.encoder2(z)\n",
    "        # z = tf.nn.softmax(z, axis=-1)\n",
    "        return z / tf.norm(z, axis=-1, keepdims=True)\n",
    "\n",
    "model = PolarRegressor()\n",
    "model.build(input_shape=(batch_size, len_beam, n_beams, n_channels))\n",
    "model.summary()\n",
    "model(tf.zeros((batch_size, len_beam, n_beams, n_channels))).shape"
   ],
   "metadata": {
    "collapsed": false,
    "ExecuteTime": {
     "end_time": "2024-02-15T12:48:43.924093Z",
     "start_time": "2024-02-15T12:48:43.919121Z"
    }
   },
   "id": "7dd4e2e9016f1c7e",
   "execution_count": null
  },
  {
   "cell_type": "code",
   "outputs": [],
   "source": [
    "def roll_batch(tensor, roll_values, axis=2):\n",
    "  return tf.stack([tf.roll(tensor[i], roll_values[i], axis=axis-1) for i in range(tensor.shape[0])])\n",
    "\n",
    "true = np.zeros((n_beams, image.shape[0]))\n",
    "true[n_beams//2] = 1\n",
    "true = tf.convert_to_tensor(true, dtype=tf.float32)\n",
    "\n",
    "optimizer = tf.keras.optimizers.AdamW(learning_rate=0.001)\n",
    "for e in  tqdm(range(n_epochs)):\n",
    "    # training loop\n",
    "    for s, sample in enumerate(train_dataset):\n",
    "        image, label = sample['polar'], sample['label']\n",
    "        with tf.GradientTape() as tape:\n",
    "            k_distribution = model(image)\n",
    "            # cosine of hyper-unit-vectors -> normalization not needed \n",
    "            loss = 1. - (k_distribution @ true) \n",
    "            grad = tape.gradient(loss, model.trainable_variables)\n",
    "        optimizer.apply_gradients(zip(grad, model.trainable_variables))\n",
    "        wandb.log({\"training loss\": np.mean(loss.numpy())}, step=e*len(train_dataset)+s)\n",
    "        # equivariance test loop\n",
    "        image = tf.roll(image, shift=100, axis=2) # see example above shift to right\n",
    "        k_true = tf.cast(tf.fill((image.shape[0], ), 100), tf.int64)\n",
    "        test_loss = tf.abs(k_true + n_beams//2-tf.argmax(model(image), axis=-1))\n",
    "        wandb.log({\"equivariance test\": np.mean(test_loss.numpy())}, step=e*len(train_dataset)+s)\n",
    "    # pseudo-equivariant test loop\n",
    "    test_loss = []\n",
    "    for s, sample in enumerate(test_dataset):\n",
    "        image, label = sample['polar'], sample['label']\n",
    "        k = tf.random.uniform(shape=(image.shape[0],), minval=-n_beams//2, maxval=n_beams//2, dtype=tf.int64)\n",
    "        image = roll_batch(image, k, axis=2)\n",
    "        k_distribution = model(image)\n",
    "        test_loss.append(tf.abs(k + n_beams//2-tf.argmax(k_distribution, axis=-1)).numpy())\n",
    "    wandb.log({\"testing loss\": np.concatenate(test_loss, axis=0).mean()})\n",
    "    print(np.concatenate(test_loss, axis=0).mean())\n",
    "# todo implement load and save of models "
   ],
   "metadata": {
    "collapsed": false,
    "ExecuteTime": {
     "start_time": "2024-02-15T12:48:43.919159Z"
    }
   },
   "id": "f8df01c736bea877",
   "execution_count": null
  },
  {
   "cell_type": "code",
   "outputs": [],
   "source": [
    "fig, axs = plt.subplots(1,4)\n",
    "for s, sample in enumerate(train_dataset):\n",
    "    image, label = sample['polar'], sample['label']\n",
    "    axs[0].imshow(polar_transform_inv(image[0].numpy()))\n",
    "    image = tf.roll(image, shift=50, axis=2)\n",
    "    axs[1].imshow(polar_transform_inv(image[0].numpy()))\n",
    "    k_distribution = model(image)\n",
    "    k = tf.argmax(k_distribution, axis=-1)\n",
    "    image_undo = tf.roll(image[0], shift=93+k[0], axis=1)\n",
    "    axs[2].imshow(polar_transform_inv(image_undo.numpy()))\n",
    "    axs[2].set_title(k[0])\n",
    "    image_undo = tf.roll(image[0], shift=93-k[0], axis=1)\n",
    "    axs[3].imshow(polar_transform_inv(image_undo.numpy()))\n",
    "    plt.show()\n",
    "    break"
   ],
   "metadata": {
    "collapsed": false,
    "ExecuteTime": {
     "start_time": "2024-02-15T12:48:43.919183Z"
    }
   },
   "id": "75cff1f44de5bcb5",
   "execution_count": null
  }
 ],
 "metadata": {
  "kernelspec": {
   "display_name": "Python 3",
   "language": "python",
   "name": "python3"
  },
  "language_info": {
   "codemirror_mode": {
    "name": "ipython",
    "version": 2
   },
   "file_extension": ".py",
   "mimetype": "text/x-python",
   "name": "python",
   "nbconvert_exporter": "python",
   "pygments_lexer": "ipython2",
   "version": "2.7.6"
  }
 },
 "nbformat": 4,
 "nbformat_minor": 5
}
