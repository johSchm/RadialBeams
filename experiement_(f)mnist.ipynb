{
 "cells": [
  {
   "cell_type": "code",
   "execution_count": 1,
   "id": "initial_id",
   "metadata": {
    "collapsed": true,
    "ExecuteTime": {
     "end_time": "2024-02-19T15:14:18.887432Z",
     "start_time": "2024-02-19T15:14:12.239082Z"
    }
   },
   "outputs": [
    {
     "name": "stdout",
     "output_type": "stream",
     "text": [
      "nvcc: NVIDIA (R) Cuda compiler driver\r\n",
      "Copyright (c) 2005-2022 NVIDIA Corporation\r\n",
      "Built on Wed_Sep_21_10:33:58_PDT_2022\r\n",
      "Cuda compilation tools, release 11.8, V11.8.89\r\n",
      "Build cuda_11.8.r11.8/compiler.31833905_0\r\n"
     ]
    },
    {
     "name": "stderr",
     "output_type": "stream",
     "text": [
      "2024-02-19 15:14:13.732304: E external/local_xla/xla/stream_executor/cuda/cuda_dnn.cc:9261] Unable to register cuDNN factory: Attempting to register factory for plugin cuDNN when one has already been registered\n",
      "2024-02-19 15:14:13.732387: E external/local_xla/xla/stream_executor/cuda/cuda_fft.cc:607] Unable to register cuFFT factory: Attempting to register factory for plugin cuFFT when one has already been registered\n",
      "2024-02-19 15:14:13.733311: E external/local_xla/xla/stream_executor/cuda/cuda_blas.cc:1515] Unable to register cuBLAS factory: Attempting to register factory for plugin cuBLAS when one has already been registered\n",
      "2024-02-19 15:14:13.738274: I tensorflow/core/platform/cpu_feature_guard.cc:182] This TensorFlow binary is optimized to use available CPU instructions in performance-critical operations.\n",
      "To enable the following instructions: AVX2 FMA, in other operations, rebuild TensorFlow with the appropriate compiler flags.\n",
      "2024-02-19 15:14:15.086418: W tensorflow/compiler/tf2tensorrt/utils/py_utils.cc:38] TF-TRT Warning: Could not find TensorRT\n",
      "/project/johannsc/symmetries/RadialBeams/venv/lib/python3.11/site-packages/tensorflow_addons/utils/tfa_eol_msg.py:23: UserWarning: \n",
      "\n",
      "TensorFlow Addons (TFA) has ended development and introduction of new features.\n",
      "TFA has entered a minimal maintenance and release mode until a planned end of life in May 2024.\n",
      "Please modify downstream libraries to take dependencies from other repositories in our TensorFlow community (e.g. Keras, Keras-CV, and Keras-NLP). \n",
      "\n",
      "For more information see: https://github.com/tensorflow/addons/issues/2807 \n",
      "\n",
      "  warnings.warn(\n"
     ]
    },
    {
     "name": "stdout",
     "output_type": "stream",
     "text": [
      "Num GPUs Available:  1\n"
     ]
    },
    {
     "name": "stderr",
     "output_type": "stream",
     "text": [
      "2024-02-19 15:14:18.400460: I tensorflow/core/common_runtime/gpu/gpu_device.cc:1929] Created device /job:localhost/replica:0/task:0/device:GPU:0 with 43606 MB memory:  -> device: 0, name: NVIDIA A40, pci bus id: 0000:03:00.0, compute capability: 8.6\n"
     ]
    }
   ],
   "source": [
    "# https://www.tensorflow.org/install/source#gpu\n",
    "! nvcc  --version\n",
    "\n",
    "import os \n",
    "os.environ[\"CUDA_VISIBLE_DEVICES\"] = str(0)\n",
    "\n",
    "import math\n",
    "import copy\n",
    "import numpy as np\n",
    "import matplotlib\n",
    "import matplotlib.pyplot as plt\n",
    "from tqdm import tqdm\n",
    "import tensorflow as tf\n",
    "import tensorflow_datasets as tfds\n",
    "import tensorflow_addons as tfa\n",
    "\n",
    "print(\"Num GPUs Available: \", len(tf.config.list_physical_devices('GPU')))\n",
    "\n",
    "from src.utils import apply_circular_mask, cartesian_to_polar_grid, polar_transform, polar_transform_inv\n",
    "from src.model import toeplitz_extractor\n",
    "from src.visu import add_grad_coloring"
   ]
  },
  {
   "cell_type": "code",
   "outputs": [
    {
     "name": "stdout",
     "output_type": "stream",
     "text": [
      "20 124\n"
     ]
    },
    {
     "name": "stderr",
     "output_type": "stream",
     "text": [
      "Failed to detect the name of this notebook, you can set it manually with the WANDB_NOTEBOOK_NAME environment variable to enable code saving.\n",
      "\u001B[34m\u001B[1mwandb\u001B[0m: Currently logged in as: \u001B[33mjohschm\u001B[0m. Use \u001B[1m`wandb login --relogin`\u001B[0m to force relogin\n"
     ]
    },
    {
     "data": {
      "text/plain": "<IPython.core.display.HTML object>",
      "text/html": "Tracking run with wandb version 0.16.3"
     },
     "metadata": {},
     "output_type": "display_data"
    },
    {
     "data": {
      "text/plain": "<IPython.core.display.HTML object>",
      "text/html": "Run data is saved locally in <code>/project/johannsc/symmetries/RadialBeams/wandb/run-20240219_151421-fd9fpkq1</code>"
     },
     "metadata": {},
     "output_type": "display_data"
    },
    {
     "data": {
      "text/plain": "<IPython.core.display.HTML object>",
      "text/html": "Syncing run <strong><a href='https://wandb.ai/johschm/RadialBeams/runs/fd9fpkq1' target=\"_blank\">0219-1514</a></strong> to <a href='https://wandb.ai/johschm/RadialBeams' target=\"_blank\">Weights & Biases</a> (<a href='https://wandb.me/run' target=\"_blank\">docs</a>)<br/>"
     },
     "metadata": {},
     "output_type": "display_data"
    },
    {
     "data": {
      "text/plain": "<IPython.core.display.HTML object>",
      "text/html": " View project at <a href='https://wandb.ai/johschm/RadialBeams' target=\"_blank\">https://wandb.ai/johschm/RadialBeams</a>"
     },
     "metadata": {},
     "output_type": "display_data"
    },
    {
     "data": {
      "text/plain": "<IPython.core.display.HTML object>",
      "text/html": " View run at <a href='https://wandb.ai/johschm/RadialBeams/runs/fd9fpkq1' target=\"_blank\">https://wandb.ai/johschm/RadialBeams/runs/fd9fpkq1</a>"
     },
     "metadata": {},
     "output_type": "display_data"
    },
    {
     "data": {
      "text/html": "<button onClick=\"this.nextSibling.style.display='block';this.style.display='none';\">Display W&B run</button><iframe src='https://wandb.ai/johschm/RadialBeams/runs/fd9fpkq1?jupyter=true' style='border:none;width:100%;height:420px;display:none;'></iframe>",
      "text/plain": "<wandb.sdk.wandb_run.Run at 0x7fd7a8313350>"
     },
     "execution_count": 2,
     "metadata": {},
     "output_type": "execute_result"
    }
   ],
   "source": [
    "import wandb\n",
    "from datetime import datetime\n",
    "\n",
    "dataset_name = 'fashion_mnist' # fashion_mnist\n",
    "image_size = 28\n",
    "batch_size = 1024\n",
    "n_epochs = 10\n",
    "n_classes = 10\n",
    "\n",
    "# see polar_transform\n",
    "radius = (np.array([image_size, image_size])**2).sum()**0.5/2\n",
    "len_beam = int(round(radius))\n",
    "n_beams = int(round(radius*2*np.pi))\n",
    "print(len_beam, n_beams)\n",
    "\n",
    "config = {\n",
    "}\n",
    "\n",
    "wandb.init(project=\"RadialBeams\", config=config, group='f-mnist', name=datetime.now().strftime(\"%m%d-%H%M\"))"
   ],
   "metadata": {
    "collapsed": false,
    "ExecuteTime": {
     "end_time": "2024-02-19T15:14:21.658026Z",
     "start_time": "2024-02-19T15:14:18.887369Z"
    }
   },
   "id": "c463b08573696d7c",
   "execution_count": 2
  },
  {
   "cell_type": "code",
   "outputs": [],
   "source": [
    "plt.rcParams[\"image.cmap\"] = \"gray\"\n",
    "\n",
    "train_dataset = tfds.load(dataset_name, split='train', shuffle_files=False)\n",
    "test_dataset = tfds.load(dataset_name, split='test', shuffle_files=False)\n",
    "\n",
    "def preprocess(example):\n",
    "    image = tf.cast(example['image'], tf.float32) / 255.\n",
    "    return {\n",
    "        'image': image,\n",
    "        'label': example['label'],\n",
    "        'polar': polar_transform(image)\n",
    "    }\n",
    "\n",
    "train_dataset = train_dataset.map(preprocess).shuffle(buffer_size=10000).batch(batch_size)\n",
    "test_dataset = test_dataset.map(preprocess).batch(batch_size)"
   ],
   "metadata": {
    "collapsed": false,
    "ExecuteTime": {
     "end_time": "2024-02-19T15:14:22.711786Z",
     "start_time": "2024-02-19T15:14:21.657311Z"
    }
   },
   "id": "148bfdbe0cfd8b4e",
   "execution_count": 3
  },
  {
   "cell_type": "code",
   "outputs": [
    {
     "name": "stderr",
     "output_type": "stream",
     "text": [
      "2024-02-19 15:14:23.167220: W tensorflow/core/kernels/data/cache_dataset_ops.cc:858] The calling iterator did not fully read the dataset being cached. In order to avoid unexpected truncation of the dataset, the partially cached contents of the dataset  will be discarded. This can happen if you have an input pipeline similar to `dataset.cache().take(k).repeat()`. You should use `dataset.take(k).cache().repeat()` instead.\n"
     ]
    },
    {
     "data": {
      "text/plain": "<Figure size 640x480 with 9 Axes>",
      "image/png": "[encoded data removed]"
     },
     "metadata": {},
     "output_type": "display_data"
    }
   ],
   "source": [
    "# %matplotlib inline\n",
    "fig, axs = plt.subplots(3,3)\n",
    "\n",
    "data = next(iter(test_dataset))\n",
    "image = data['image'][1]\n",
    "image = add_grad_coloring(image)\n",
    "\n",
    "rot_image = tfa.image.rotate(image, np.pi/2, interpolation='bilinear')\n",
    "rot_image = tf.cast(rot_image, tf.float32)\n",
    "\n",
    "axs[0, 0].imshow(image)\n",
    "axs[1, 0].imshow(rot_image)\n",
    "axs[2, 0].imshow(image)\n",
    "\n",
    "polar = polar_transform(image)\n",
    "rot_polar = polar_transform(rot_image)\n",
    "shifted_polar = tf.roll(polar, shift=-n_beams//4, axis=1)\n",
    "\n",
    "axs[0, 1].imshow(polar)\n",
    "axs[1, 1].imshow(rot_polar)\n",
    "axs[2, 1].imshow(shifted_polar)\n",
    "\n",
    "polar_inv = polar_transform_inv(polar.numpy(), output=(image_size, image_size))\n",
    "rot_polar_inv = polar_transform_inv(rot_polar.numpy(), output=(image_size, image_size))\n",
    "shifted_polar_inv = polar_transform_inv(shifted_polar.numpy(), output=(image_size, image_size))\n",
    "\n",
    "axs[0, 2].imshow(polar_inv)\n",
    "axs[1, 2].imshow(rot_polar_inv)\n",
    "axs[2, 2].imshow(shifted_polar_inv)\n",
    "\n",
    "# plt.show()\n",
    "plt.savefig('./img/f-mnist-polar-maps.pdf')"
   ],
   "metadata": {
    "collapsed": false,
    "ExecuteTime": {
     "end_time": "2024-02-19T15:14:25.851099Z",
     "start_time": "2024-02-19T15:14:22.715004Z"
    }
   },
   "id": "e8fa2d13939153d7",
   "execution_count": 4
  },
  {
   "cell_type": "code",
   "outputs": [
    {
     "name": "stdout",
     "output_type": "stream",
     "text": [
      "Model: \"polar_regressor\"\n",
      "_________________________________________________________________\n",
      " Layer (type)                Output Shape              Param #   \n",
      "=================================================================\n",
      " sequential (Sequential)     (None, 20, 156, 16)       83536     \n",
      "                                                                 \n",
      " sequential_1 (Sequential)   (None, 124)               20609     \n",
      "                                                                 \n",
      "=================================================================\n",
      "Total params: 104145 (406.82 KB)\n",
      "Trainable params: 104145 (406.82 KB)\n",
      "Non-trainable params: 0 (0.00 Byte)\n",
      "_________________________________________________________________\n"
     ]
    },
    {
     "name": "stderr",
     "output_type": "stream",
     "text": [
      "2024-02-19 15:14:26.104435: E external/local_xla/xla/stream_executor/cuda/cuda_dnn.cc:447] Loaded runtime CuDNN library: 8.7.0 but source was compiled with: 8.9.4.  CuDNN library needs to have matching major version and equal or higher minor version. If using a binary install, upgrade your CuDNN library.  If building from sources, make sure the library loaded at runtime is compatible with the version specified during compile configuration.\n",
      "2024-02-19 15:14:26.110206: W tensorflow/core/framework/op_kernel.cc:1839] OP_REQUIRES failed at conv_ops_impl.h:1199 : UNIMPLEMENTED: DNN library is not found.\n"
     ]
    },
    {
     "ename": "UnimplementedError",
     "evalue": "Exception encountered when calling layer 'conv2d' (type Conv2D).\n\n{{function_node __wrapped__Conv2D_device_/job:localhost/replica:0/task:0/device:GPU:0}} DNN library is not found. [Op:Conv2D] name: \n\nCall arguments received by layer 'conv2d' (type Conv2D):\n  • inputs=tf.Tensor(shape=(1024, 20, 156, 1), dtype=float32)",
     "output_type": "error",
     "traceback": [
      "\u001B[0;31m---------------------------------------------------------------------------\u001B[0m",
      "\u001B[0;31mUnimplementedError\u001B[0m                        Traceback (most recent call last)",
      "Cell \u001B[0;32mIn[5], line 55\u001B[0m\n\u001B[1;32m     53\u001B[0m model\u001B[38;5;241m.\u001B[39mbuild(input_shape\u001B[38;5;241m=\u001B[39m(batch_size, len_beam, n_beams, \u001B[38;5;241m1\u001B[39m))\n\u001B[1;32m     54\u001B[0m model\u001B[38;5;241m.\u001B[39msummary()\n\u001B[0;32m---> 55\u001B[0m \u001B[43mmodel\u001B[49m\u001B[43m(\u001B[49m\u001B[43mtf\u001B[49m\u001B[38;5;241;43m.\u001B[39;49m\u001B[43mzeros\u001B[49m\u001B[43m(\u001B[49m\u001B[43m(\u001B[49m\u001B[43mbatch_size\u001B[49m\u001B[43m,\u001B[49m\u001B[43m \u001B[49m\u001B[43mlen_beam\u001B[49m\u001B[43m,\u001B[49m\u001B[43m \u001B[49m\u001B[43mn_beams\u001B[49m\u001B[43m,\u001B[49m\u001B[43m \u001B[49m\u001B[38;5;241;43m1\u001B[39;49m\u001B[43m)\u001B[49m\u001B[43m)\u001B[49m\u001B[43m)\u001B[49m\u001B[38;5;241m.\u001B[39mshape\n",
      "File \u001B[0;32m/project/johannsc/symmetries/RadialBeams/venv/lib/python3.11/site-packages/keras/src/utils/traceback_utils.py:70\u001B[0m, in \u001B[0;36mfilter_traceback.<locals>.error_handler\u001B[0;34m(*args, **kwargs)\u001B[0m\n\u001B[1;32m     67\u001B[0m     filtered_tb \u001B[38;5;241m=\u001B[39m _process_traceback_frames(e\u001B[38;5;241m.\u001B[39m__traceback__)\n\u001B[1;32m     68\u001B[0m     \u001B[38;5;66;03m# To get the full stack trace, call:\u001B[39;00m\n\u001B[1;32m     69\u001B[0m     \u001B[38;5;66;03m# `tf.debugging.disable_traceback_filtering()`\u001B[39;00m\n\u001B[0;32m---> 70\u001B[0m     \u001B[38;5;28;01mraise\u001B[39;00m e\u001B[38;5;241m.\u001B[39mwith_traceback(filtered_tb) \u001B[38;5;28;01mfrom\u001B[39;00m \u001B[38;5;28;01mNone\u001B[39;00m\n\u001B[1;32m     71\u001B[0m \u001B[38;5;28;01mfinally\u001B[39;00m:\n\u001B[1;32m     72\u001B[0m     \u001B[38;5;28;01mdel\u001B[39;00m filtered_tb\n",
      "Cell \u001B[0;32mIn[5], line 43\u001B[0m, in \u001B[0;36mPolarRegressor.call\u001B[0;34m(self, x)\u001B[0m\n\u001B[1;32m     41\u001B[0m \u001B[38;5;28;01mif\u001B[39;00m \u001B[38;5;28mself\u001B[39m\u001B[38;5;241m.\u001B[39mpadding \u001B[38;5;241m>\u001B[39m \u001B[38;5;241m0\u001B[39m:\n\u001B[1;32m     42\u001B[0m     x \u001B[38;5;241m=\u001B[39m cyclic_beam_padding(x, padding\u001B[38;5;241m=\u001B[39m\u001B[38;5;28mself\u001B[39m\u001B[38;5;241m.\u001B[39mpadding)\n\u001B[0;32m---> 43\u001B[0m z \u001B[38;5;241m=\u001B[39m \u001B[38;5;28;43mself\u001B[39;49m\u001B[38;5;241;43m.\u001B[39;49m\u001B[43mencoder\u001B[49m\u001B[43m(\u001B[49m\u001B[43mx\u001B[49m\u001B[43m)\u001B[49m\n\u001B[1;32m     44\u001B[0m z \u001B[38;5;241m=\u001B[39m tf\u001B[38;5;241m.\u001B[39mtranspose(z, (\u001B[38;5;241m0\u001B[39m, \u001B[38;5;241m2\u001B[39m, \u001B[38;5;241m1\u001B[39m, \u001B[38;5;241m3\u001B[39m))\n\u001B[1;32m     45\u001B[0m z \u001B[38;5;241m=\u001B[39m tf\u001B[38;5;241m.\u001B[39mreshape(z, (z\u001B[38;5;241m.\u001B[39mshape[\u001B[38;5;241m0\u001B[39m], z\u001B[38;5;241m.\u001B[39mshape[\u001B[38;5;241m1\u001B[39m], \u001B[38;5;241m-\u001B[39m\u001B[38;5;241m1\u001B[39m))\n",
      "\u001B[0;31mUnimplementedError\u001B[0m: Exception encountered when calling layer 'conv2d' (type Conv2D).\n\n{{function_node __wrapped__Conv2D_device_/job:localhost/replica:0/task:0/device:GPU:0}} DNN library is not found. [Op:Conv2D] name: \n\nCall arguments received by layer 'conv2d' (type Conv2D):\n  • inputs=tf.Tensor(shape=(1024, 20, 156, 1), dtype=float32)"
     ]
    }
   ],
   "source": [
    "from tensorflow.keras import layers, models\n",
    "\n",
    "def cyclic_beam_padding(x, padding=1):\n",
    "    return tf.concat([x[:, :, x.shape[2]-padding:], x, x[:, :, :padding]], axis=-2)\n",
    "    \n",
    "class PolarRegressor(tf.keras.Model):\n",
    "    def __init__(self):\n",
    "        super().__init__()\n",
    "        # padding such that kernels of size 3 on the edges use cyclic padded values\n",
    "        # padding = kernel_size - 1 using \"same\" padding\n",
    "        self.padding = 16\n",
    "        self.encoder = models.Sequential([\n",
    "            layers.InputLayer(input_shape=(len_beam, n_beams+2*self.padding, 1)),\n",
    "            # WARNING \"same\" padding as otherwise information along the beams would be dropped\n",
    "            # layers.Conv2D(16, (3, 1), activation='gelu', padding='same'),\n",
    "            layers.Conv2D(16, (3, 3), activation='gelu', padding='same'),\n",
    "            layers.Conv2D(32, (3, 3), activation='gelu', padding='same'),\n",
    "            layers.LayerNormalization(),\n",
    "            \n",
    "            # layers.Conv2D(32, (3, 1), activation='gelu', padding='same'),\n",
    "            layers.Conv2D(64, (3, 3), activation='gelu', padding='same'),\n",
    "            layers.Conv2D(64, (3, 3), activation='gelu', padding='same'),\n",
    "            layers.LayerNormalization(),\n",
    "            # WARNING max pooling along beams removes spatial information, which is important, though\n",
    "            # layers.MaxPooling2D((2, 1)),\n",
    "            \n",
    "            # layers.Conv2D(64, (3, 1), activation='gelu', padding='same'),\n",
    "            layers.Conv2D(32, (3, 3), activation='gelu', padding='same'),\n",
    "            layers.Conv2D(16, (3, 3), activation='gelu', padding='same'),\n",
    "            layers.LayerNormalization(),\n",
    "            # layers.MaxPooling2D((2, 1)),\n",
    "        ])\n",
    "        self.encoder2 = models.Sequential([\n",
    "            layers.InputLayer(input_shape=(n_beams, 320)),\n",
    "            layers.Dense(64, activation='gelu'),\n",
    "            layers.Dense(1),\n",
    "            layers.Flatten()\n",
    "        ])\n",
    "    \n",
    "    def call(self, x):\n",
    "        if self.padding > 0:\n",
    "            x = cyclic_beam_padding(x, padding=self.padding)\n",
    "        z = self.encoder(x)\n",
    "        z = tf.transpose(z, (0, 2, 1, 3))\n",
    "        z = tf.reshape(z, (z.shape[0], z.shape[1], -1))\n",
    "        if self.padding > 0:\n",
    "            z = z[:, self.padding//2:n_beams+self.padding//2]\n",
    "        z = self.encoder2(z)\n",
    "        # z = tf.nn.softmax(z, axis=-1)\n",
    "        return z / tf.norm(z, axis=-1, keepdims=True)\n",
    "\n",
    "model = PolarRegressor()\n",
    "model.build(input_shape=(batch_size, len_beam, n_beams, 1))\n",
    "model.summary()\n",
    "model(tf.zeros((batch_size, len_beam, n_beams, 1))).shape"
   ],
   "metadata": {
    "collapsed": false,
    "ExecuteTime": {
     "end_time": "2024-02-19T15:14:26.703774Z",
     "start_time": "2024-02-19T15:14:25.850937Z"
    }
   },
   "id": "7dd4e2e9016f1c7e",
   "execution_count": 5
  },
  {
   "cell_type": "code",
   "outputs": [],
   "source": [
    "def roll_batch(tensor, roll_values, axis=2):\n",
    "  return tf.stack([tf.roll(tensor[i], roll_values[i], axis=axis-1) for i in range(tensor.shape[0])])\n",
    "\n",
    "true = np.zeros((n_beams, image.shape[0]))\n",
    "true[n_beams//2] = 1\n",
    "true = tf.convert_to_tensor(true, dtype=tf.float32)\n",
    "\n",
    "optimizer = tf.keras.optimizers.AdamW(learning_rate=0.001)\n",
    "for e in  tqdm(range(n_epochs)):\n",
    "    # training loop\n",
    "    for s, sample in enumerate(train_dataset):\n",
    "        image, label = sample['polar'], sample['label']\n",
    "        with tf.GradientTape() as tape:\n",
    "            k_distribution = model(image)\n",
    "            # cosine of hyper-unit-vectors -> normalization not needed \n",
    "            loss = 1. - (k_distribution @ true) \n",
    "            grad = tape.gradient(loss, model.trainable_variables)\n",
    "        optimizer.apply_gradients(zip(grad, model.trainable_variables))\n",
    "        wandb.log({\"training loss\": np.mean(loss.numpy())}, step=e*len(train_dataset)+s)\n",
    "        # equivariance test loop\n",
    "        image = tf.roll(image, shift=20, axis=2) # see example above shift to right\n",
    "        k_true = tf.cast(tf.fill((image.shape[0], ), 20), tf.int64) + n_beams//2\n",
    "        test_loss = tf.abs(k_true - tf.argmax(model(image), axis=-1))\n",
    "        wandb.log({\"equivariance test\": np.mean(test_loss.numpy())}, step=e*len(train_dataset)+s)\n",
    "    # pseudo-equivariant test loop\n",
    "    test_loss = []\n",
    "    for s, sample in enumerate(test_dataset):\n",
    "        image, label = sample['polar'], sample['label']\n",
    "        k = tf.random.uniform(shape=(image.shape[0],), minval=-n_beams//2, maxval=n_beams//2, dtype=tf.int64)\n",
    "        image = roll_batch(image, k, axis=2)\n",
    "        k_distribution = model(image)\n",
    "        test_loss.append(tf.abs(k + n_beams//2 - tf.argmax(k_distribution, axis=-1)).numpy())\n",
    "    wandb.log({\"testing loss\": np.concatenate(test_loss, axis=0).mean()})\n",
    "    print(np.concatenate(test_loss, axis=0).mean())\n",
    "# todo implement load and save of models "
   ],
   "metadata": {
    "collapsed": false,
    "ExecuteTime": {
     "start_time": "2024-02-19T15:14:26.703657Z"
    }
   },
   "id": "f8df01c736bea877",
   "execution_count": null
  },
  {
   "cell_type": "code",
   "outputs": [],
   "source": [
    "fig, axs = plt.subplots(1,4)\n",
    "for s, sample in enumerate(train_dataset):\n",
    "    image, label = sample['polar'], sample['label']\n",
    "    axs[0].imshow(polar_transform_inv(image[0].numpy()))\n",
    "    image = tf.roll(image, shift=50, axis=2)\n",
    "    axs[1].imshow(polar_transform_inv(image[0].numpy()))\n",
    "    k_distribution = model(image)\n",
    "    k = tf.argmax(k_distribution, axis=-1)\n",
    "    image_undo = tf.roll(image[0], shift=n_beams//2+k[0], axis=1)\n",
    "    axs[2].imshow(polar_transform_inv(image_undo.numpy()))\n",
    "    axs[2].set_title(k[0])\n",
    "    image_undo = tf.roll(image[0], shift=n_beams//2-k[0], axis=1)\n",
    "    axs[3].imshow(polar_transform_inv(image_undo.numpy()))\n",
    "    plt.show()\n",
    "    break"
   ],
   "metadata": {
    "collapsed": false,
    "ExecuteTime": {
     "start_time": "2024-02-19T15:14:26.703729Z"
    }
   },
   "id": "75cff1f44de5bcb5",
   "execution_count": null
  }
 ],
 "metadata": {
  "kernelspec": {
   "display_name": "Python 3",
   "language": "python",
   "name": "python3"
  },
  "language_info": {
   "codemirror_mode": {
    "name": "ipython",
    "version": 2
   },
   "file_extension": ".py",
   "mimetype": "text/x-python",
   "name": "python",
   "nbconvert_exporter": "python",
   "pygments_lexer": "ipython2",
   "version": "2.7.6"
  }
 },
 "nbformat": 4,
 "nbformat_minor": 5
}
