{
 "cells": [
  {
   "cell_type": "code",
   "execution_count": 1,
   "id": "initial_id",
   "metadata": {
    "collapsed": true,
    "ExecuteTime": {
     "end_time": "2024-02-15T11:47:25.619362Z",
     "start_time": "2024-02-15T11:47:19.541806Z"
    }
   },
   "outputs": [
    {
     "name": "stdout",
     "output_type": "stream",
     "text": [
      "nvcc: NVIDIA (R) Cuda compiler driver\r\n",
      "Copyright (c) 2005-2022 NVIDIA Corporation\r\n",
      "Built on Wed_Sep_21_10:33:58_PDT_2022\r\n",
      "Cuda compilation tools, release 11.8, V11.8.89\r\n",
      "Build cuda_11.8.r11.8/compiler.31833905_0\r\n"
     ]
    },
    {
     "name": "stderr",
     "output_type": "stream",
     "text": [
      "/var/tmp/ipykernel_425682/3154163727.py:10: DeprecationWarning: \n",
      "Pyarrow will become a required dependency of pandas in the next major release of pandas (pandas 3.0),\n",
      "(to allow more performant data types, such as the Arrow string type, and better interoperability with other libraries)\n",
      "but was not found to be installed on your system.\n",
      "If this would cause problems for you,\n",
      "please provide us feedback at https://github.com/pandas-dev/pandas/issues/54466\n",
      "        \n",
      "  import pandas as pd\n",
      "2024-02-15 11:47:21.008675: E tensorflow/compiler/xla/stream_executor/cuda/cuda_dnn.cc:9342] Unable to register cuDNN factory: Attempting to register factory for plugin cuDNN when one has already been registered\n",
      "2024-02-15 11:47:21.008773: E tensorflow/compiler/xla/stream_executor/cuda/cuda_fft.cc:609] Unable to register cuFFT factory: Attempting to register factory for plugin cuFFT when one has already been registered\n",
      "2024-02-15 11:47:21.008798: E tensorflow/compiler/xla/stream_executor/cuda/cuda_blas.cc:1518] Unable to register cuBLAS factory: Attempting to register factory for plugin cuBLAS when one has already been registered\n",
      "2024-02-15 11:47:21.014739: I tensorflow/core/platform/cpu_feature_guard.cc:182] This TensorFlow binary is optimized to use available CPU instructions in performance-critical operations.\n",
      "To enable the following instructions: AVX2 FMA, in other operations, rebuild TensorFlow with the appropriate compiler flags.\n",
      "/project/johannsc/symmetries/RadialBeams/venv/lib/python3.11/site-packages/tensorflow_addons/utils/tfa_eol_msg.py:23: UserWarning: \n",
      "\n",
      "TensorFlow Addons (TFA) has ended development and introduction of new features.\n",
      "TFA has entered a minimal maintenance and release mode until a planned end of life in May 2024.\n",
      "Please modify downstream libraries to take dependencies from other repositories in our TensorFlow community (e.g. Keras, Keras-CV, and Keras-NLP). \n",
      "\n",
      "For more information see: https://github.com/tensorflow/addons/issues/2807 \n",
      "\n",
      "  warnings.warn(\n"
     ]
    },
    {
     "name": "stdout",
     "output_type": "stream",
     "text": [
      "Num GPUs Available:  1\n"
     ]
    },
    {
     "name": "stderr",
     "output_type": "stream",
     "text": [
      "2024-02-15 11:47:25.224789: I tensorflow/core/common_runtime/gpu/gpu_device.cc:1886] Created device /job:localhost/replica:0/task:0/device:GPU:0 with 43606 MB memory:  -> device: 0, name: NVIDIA A40, pci bus id: 0000:03:00.0, compute capability: 8.6\n"
     ]
    }
   ],
   "source": [
    "# https://www.tensorflow.org/install/source#gpu\n",
    "! nvcc  --version\n",
    "\n",
    "import os \n",
    "os.environ[\"CUDA_VISIBLE_DEVICES\"] = str(0)\n",
    "\n",
    "import math\n",
    "import copy\n",
    "import numpy as np\n",
    "import pandas as pd\n",
    "import matplotlib\n",
    "import matplotlib.pyplot as plt\n",
    "from tqdm import tqdm\n",
    "import tensorflow as tf\n",
    "import tensorflow_datasets as tfds\n",
    "import tensorflow_addons as tfa\n",
    "\n",
    "print(\"Num GPUs Available: \", len(tf.config.list_physical_devices('GPU')))\n",
    "\n",
    "from src.utils import apply_circular_mask, cartesian_to_polar_grid, polar_transform, polar_transform_inv\n",
    "from src.model import toeplitz_extractor\n",
    "from src.visu import add_grad_coloring"
   ]
  },
  {
   "cell_type": "code",
   "outputs": [
    {
     "name": "stdout",
     "output_type": "stream",
     "text": [
      "20 124\n"
     ]
    },
    {
     "name": "stderr",
     "output_type": "stream",
     "text": [
      "Failed to detect the name of this notebook, you can set it manually with the WANDB_NOTEBOOK_NAME environment variable to enable code saving.\n",
      "\u001B[34m\u001B[1mwandb\u001B[0m: Currently logged in as: \u001B[33mjohschm\u001B[0m. Use \u001B[1m`wandb login --relogin`\u001B[0m to force relogin\n"
     ]
    },
    {
     "data": {
      "text/plain": "<IPython.core.display.HTML object>",
      "text/html": "Tracking run with wandb version 0.16.3"
     },
     "metadata": {},
     "output_type": "display_data"
    },
    {
     "data": {
      "text/plain": "<IPython.core.display.HTML object>",
      "text/html": "Run data is saved locally in <code>/project/johannsc/symmetries/RadialBeams/wandb/run-20240215_114727-pqo8hheg</code>"
     },
     "metadata": {},
     "output_type": "display_data"
    },
    {
     "data": {
      "text/plain": "<IPython.core.display.HTML object>",
      "text/html": "Syncing run <strong><a href='https://wandb.ai/johschm/RadialBeams/runs/pqo8hheg' target=\"_blank\">0215-1147</a></strong> to <a href='https://wandb.ai/johschm/RadialBeams' target=\"_blank\">Weights & Biases</a> (<a href='https://wandb.me/run' target=\"_blank\">docs</a>)<br/>"
     },
     "metadata": {},
     "output_type": "display_data"
    },
    {
     "data": {
      "text/plain": "<IPython.core.display.HTML object>",
      "text/html": " View project at <a href='https://wandb.ai/johschm/RadialBeams' target=\"_blank\">https://wandb.ai/johschm/RadialBeams</a>"
     },
     "metadata": {},
     "output_type": "display_data"
    },
    {
     "data": {
      "text/plain": "<IPython.core.display.HTML object>",
      "text/html": " View run at <a href='https://wandb.ai/johschm/RadialBeams/runs/pqo8hheg' target=\"_blank\">https://wandb.ai/johschm/RadialBeams/runs/pqo8hheg</a>"
     },
     "metadata": {},
     "output_type": "display_data"
    },
    {
     "data": {
      "text/html": "<button onClick=\"this.nextSibling.style.display='block';this.style.display='none';\">Display W&B run</button><iframe src='https://wandb.ai/johschm/RadialBeams/runs/pqo8hheg?jupyter=true' style='border:none;width:100%;height:420px;display:none;'></iframe>",
      "text/plain": "<wandb.sdk.wandb_run.Run at 0x7f0fd44ca9d0>"
     },
     "execution_count": 2,
     "metadata": {},
     "output_type": "execute_result"
    }
   ],
   "source": [
    "import wandb\n",
    "from datetime import datetime\n",
    "\n",
    "dataset_name = 'fashion_mnist' # fashion_mnist\n",
    "image_size = 28\n",
    "batch_size = 1024\n",
    "n_epochs = 10\n",
    "n_classes = 10\n",
    "\n",
    "# see polar_transform\n",
    "radius = (np.array([image_size, image_size])**2).sum()**0.5/2\n",
    "len_beam = int(round(radius))\n",
    "n_beams = int(round(radius*2*np.pi))\n",
    "print(len_beam, n_beams)\n",
    "\n",
    "config = {\n",
    "}\n",
    "\n",
    "wandb.init(project=\"RadialBeams\", config=config, group='f-mnist', name=datetime.now().strftime(\"%m%d-%H%M\"))"
   ],
   "metadata": {
    "collapsed": false,
    "ExecuteTime": {
     "end_time": "2024-02-15T11:47:28.498140Z",
     "start_time": "2024-02-15T11:47:25.618554Z"
    }
   },
   "id": "c463b08573696d7c",
   "execution_count": 2
  },
  {
   "cell_type": "code",
   "outputs": [],
   "source": [
    "plt.rcParams[\"image.cmap\"] = \"gray\"\n",
    "\n",
    "train_dataset = tfds.load(dataset_name, split='train', shuffle_files=False)\n",
    "test_dataset = tfds.load(dataset_name, split='test', shuffle_files=False)\n",
    "\n",
    "def preprocess(example):\n",
    "    image = tf.cast(example['image'], tf.float32) / 255.\n",
    "    return {\n",
    "        'image': image,\n",
    "        'label': example['label'],\n",
    "        'polar': polar_transform(image)\n",
    "    }\n",
    "\n",
    "train_dataset = train_dataset.map(preprocess).shuffle(buffer_size=10000).batch(batch_size)\n",
    "test_dataset = test_dataset.map(preprocess).batch(batch_size)"
   ],
   "metadata": {
    "collapsed": false,
    "ExecuteTime": {
     "end_time": "2024-02-15T11:47:29.454906Z",
     "start_time": "2024-02-15T11:47:28.497653Z"
    }
   },
   "id": "148bfdbe0cfd8b4e",
   "execution_count": 3
  },
  {
   "cell_type": "code",
   "outputs": [
    {
     "name": "stderr",
     "output_type": "stream",
     "text": [
      "2024-02-15 11:47:29.983363: W tensorflow/core/kernels/data/cache_dataset_ops.cc:854] The calling iterator did not fully read the dataset being cached. In order to avoid unexpected truncation of the dataset, the partially cached contents of the dataset  will be discarded. This can happen if you have an input pipeline similar to `dataset.cache().take(k).repeat()`. You should use `dataset.take(k).cache().repeat()` instead.\n"
     ]
    },
    {
     "data": {
      "text/plain": "<Figure size 640x480 with 9 Axes>",
      "image/png": "[encoded data removed]"
     },
     "metadata": {},
     "output_type": "display_data"
    }
   ],
   "source": [
    "%matplotlib inline\n",
    "fig, axs = plt.subplots(3,3)\n",
    "\n",
    "data = next(iter(test_dataset))\n",
    "image = data['image'][1]\n",
    "image = add_grad_coloring(image)\n",
    "\n",
    "rot_image = tfa.image.rotate(image, np.pi/2, interpolation='bilinear')\n",
    "rot_image = tf.cast(rot_image, tf.float32)\n",
    "\n",
    "axs[0, 0].imshow(image)\n",
    "axs[1, 0].imshow(rot_image)\n",
    "axs[2, 0].imshow(image)\n",
    "\n",
    "polar = polar_transform(image)\n",
    "rot_polar = polar_transform(rot_image)\n",
    "shifted_polar = tf.roll(polar, shift=-n_beams//4, axis=1)\n",
    "\n",
    "axs[0, 1].imshow(polar)\n",
    "axs[1, 1].imshow(rot_polar)\n",
    "axs[2, 1].imshow(shifted_polar)\n",
    "\n",
    "polar_inv = polar_transform_inv(polar.numpy(), output=(image_size, image_size))\n",
    "rot_polar_inv = polar_transform_inv(rot_polar.numpy(), output=(image_size, image_size))\n",
    "shifted_polar_inv = polar_transform_inv(shifted_polar.numpy(), output=(image_size, image_size))\n",
    "\n",
    "axs[0, 2].imshow(polar_inv)\n",
    "axs[1, 2].imshow(rot_polar_inv)\n",
    "axs[2, 2].imshow(shifted_polar_inv)\n",
    "\n",
    "plt.show()"
   ],
   "metadata": {
    "collapsed": false,
    "ExecuteTime": {
     "end_time": "2024-02-15T11:47:32.336213Z",
     "start_time": "2024-02-15T11:47:29.463476Z"
    }
   },
   "id": "e8fa2d13939153d7",
   "execution_count": 4
  },
  {
   "cell_type": "code",
   "outputs": [
    {
     "name": "stdout",
     "output_type": "stream",
     "text": [
      "Model: \"polar_regressor\"\n",
      "_________________________________________________________________\n",
      " Layer (type)                Output Shape              Param #   \n",
      "=================================================================\n",
      " sequential (Sequential)     (None, 20, 156, 16)       83536     \n",
      "                                                                 \n",
      " sequential_1 (Sequential)   (None, 124)               20609     \n",
      "                                                                 \n",
      "=================================================================\n",
      "Total params: 104145 (406.82 KB)\n",
      "Trainable params: 104145 (406.82 KB)\n",
      "Non-trainable params: 0 (0.00 Byte)\n",
      "_________________________________________________________________\n"
     ]
    },
    {
     "name": "stderr",
     "output_type": "stream",
     "text": [
      "2024-02-15 11:47:33.166856: I tensorflow/compiler/xla/stream_executor/cuda/cuda_dnn.cc:442] Loaded cuDNN version 8700\n"
     ]
    },
    {
     "data": {
      "text/plain": "TensorShape([1024, 124])"
     },
     "execution_count": 5,
     "metadata": {},
     "output_type": "execute_result"
    }
   ],
   "source": [
    "from tensorflow.keras import layers, models\n",
    "\n",
    "def cyclic_beam_padding(x, padding=1):\n",
    "    return tf.concat([x[:, :, x.shape[2]-padding:], x, x[:, :, :padding]], axis=-2)\n",
    "    \n",
    "class PolarRegressor(tf.keras.Model):\n",
    "    def __init__(self):\n",
    "        super().__init__()\n",
    "        # padding such that kernels of size 3 on the edges use cyclic padded values\n",
    "        # padding = kernel_size - 1 using \"same\" padding\n",
    "        self.padding = 16\n",
    "        self.encoder = models.Sequential([\n",
    "            layers.InputLayer(input_shape=(len_beam, n_beams+2*self.padding, 1)),\n",
    "            # WARNING \"same\" padding as otherwise information along the beams would be dropped\n",
    "            # layers.Conv2D(16, (3, 1), activation='gelu', padding='same'),\n",
    "            layers.Conv2D(16, (3, 3), activation='gelu', padding='same'),\n",
    "            layers.Conv2D(32, (3, 3), activation='gelu', padding='same'),\n",
    "            layers.LayerNormalization(),\n",
    "            \n",
    "            # layers.Conv2D(32, (3, 1), activation='gelu', padding='same'),\n",
    "            layers.Conv2D(64, (3, 3), activation='gelu', padding='same'),\n",
    "            layers.Conv2D(64, (3, 3), activation='gelu', padding='same'),\n",
    "            layers.LayerNormalization(),\n",
    "            # WARNING max pooling along beams removes spatial information, which is important, though\n",
    "            # layers.MaxPooling2D((2, 1)),\n",
    "            \n",
    "            # layers.Conv2D(64, (3, 1), activation='gelu', padding='same'),\n",
    "            layers.Conv2D(32, (3, 3), activation='gelu', padding='same'),\n",
    "            layers.Conv2D(16, (3, 3), activation='gelu', padding='same'),\n",
    "            layers.LayerNormalization(),\n",
    "            # layers.MaxPooling2D((2, 1)),\n",
    "        ])\n",
    "        self.encoder2 = models.Sequential([\n",
    "            layers.InputLayer(input_shape=(n_beams, 320)),\n",
    "            layers.Dense(64, activation='gelu'),\n",
    "            layers.Dense(1),\n",
    "            layers.Flatten()\n",
    "        ])\n",
    "    \n",
    "    def call(self, x):\n",
    "        if self.padding > 0:\n",
    "            x = cyclic_beam_padding(x, padding=self.padding)\n",
    "        z = self.encoder(x)\n",
    "        z = tf.transpose(z, (0, 2, 1, 3))\n",
    "        z = tf.reshape(z, (z.shape[0], z.shape[1], -1))\n",
    "        if self.padding > 0:\n",
    "            z = z[:, self.padding//2:n_beams+self.padding//2]\n",
    "        z = self.encoder2(z)\n",
    "        # z = tf.nn.softmax(z, axis=-1)\n",
    "        return z / tf.norm(z, axis=-1, keepdims=True)\n",
    "\n",
    "model = PolarRegressor()\n",
    "model.build(input_shape=(batch_size, len_beam, n_beams, 1))\n",
    "model.summary()\n",
    "model(tf.zeros((batch_size, len_beam, n_beams, 1))).shape"
   ],
   "metadata": {
    "collapsed": false,
    "ExecuteTime": {
     "end_time": "2024-02-15T11:47:35.342193Z",
     "start_time": "2024-02-15T11:47:32.335106Z"
    }
   },
   "id": "7dd4e2e9016f1c7e",
   "execution_count": 5
  },
  {
   "cell_type": "code",
   "outputs": [
    {
     "name": "stderr",
     "output_type": "stream",
     "text": [
      "  0%|                                                                                                                                                                                | 0/10 [00:00<?, ?it/s]2024-02-15 11:47:49.481033: I tensorflow/compiler/xla/service/service.cc:168] XLA service 0xe99e6e0 initialized for platform CUDA (this does not guarantee that XLA will be used). Devices:\n",
      "2024-02-15 11:47:49.481090: I tensorflow/compiler/xla/service/service.cc:176]   StreamExecutor device (0): NVIDIA A40, Compute Capability 8.6\n",
      "2024-02-15 11:47:49.484629: I tensorflow/compiler/mlir/tensorflow/utils/dump_mlir_util.cc:269] disabling MLIR crash reproducer, set env var `MLIR_CRASH_REPRODUCER_DIRECTORY` to enable.\n",
      "2024-02-15 11:47:49.592967: I ./tensorflow/compiler/jit/device_compiler.h:186] Compiled cluster using XLA!  This line is logged at most once for the lifetime of the process.\n"
     ]
    },
    {
     "name": "stdout",
     "output_type": "stream",
     "text": [
      "WARNING:tensorflow:5 out of the last 5 calls to <function _BaseOptimizer._update_step_xla at 0x7f0fb0238cc0> triggered tf.function retracing. Tracing is expensive and the excessive number of tracings could be due to (1) creating @tf.function repeatedly in a loop, (2) passing tensors with different shapes, (3) passing Python objects instead of tensors. For (1), please define your @tf.function outside of the loop. For (2), @tf.function has reduce_retracing=True option that can avoid unnecessary retracing. For (3), please refer to https://www.tensorflow.org/guide/function#controlling_retracing and https://www.tensorflow.org/api_docs/python/tf/function for  more details.\n"
     ]
    },
    {
     "name": "stderr",
     "output_type": "stream",
     "text": [
      "WARNING:tensorflow:5 out of the last 5 calls to <function _BaseOptimizer._update_step_xla at 0x7f0fb0238cc0> triggered tf.function retracing. Tracing is expensive and the excessive number of tracings could be due to (1) creating @tf.function repeatedly in a loop, (2) passing tensors with different shapes, (3) passing Python objects instead of tensors. For (1), please define your @tf.function outside of the loop. For (2), @tf.function has reduce_retracing=True option that can avoid unnecessary retracing. For (3), please refer to https://www.tensorflow.org/guide/function#controlling_retracing and https://www.tensorflow.org/api_docs/python/tf/function for  more details.\n"
     ]
    },
    {
     "name": "stdout",
     "output_type": "stream",
     "text": [
      "WARNING:tensorflow:6 out of the last 6 calls to <function _BaseOptimizer._update_step_xla at 0x7f0fb0238cc0> triggered tf.function retracing. Tracing is expensive and the excessive number of tracings could be due to (1) creating @tf.function repeatedly in a loop, (2) passing tensors with different shapes, (3) passing Python objects instead of tensors. For (1), please define your @tf.function outside of the loop. For (2), @tf.function has reduce_retracing=True option that can avoid unnecessary retracing. For (3), please refer to https://www.tensorflow.org/guide/function#controlling_retracing and https://www.tensorflow.org/api_docs/python/tf/function for  more details.\n"
     ]
    },
    {
     "name": "stderr",
     "output_type": "stream",
     "text": [
      "WARNING:tensorflow:6 out of the last 6 calls to <function _BaseOptimizer._update_step_xla at 0x7f0fb0238cc0> triggered tf.function retracing. Tracing is expensive and the excessive number of tracings could be due to (1) creating @tf.function repeatedly in a loop, (2) passing tensors with different shapes, (3) passing Python objects instead of tensors. For (1), please define your @tf.function outside of the loop. For (2), @tf.function has reduce_retracing=True option that can avoid unnecessary retracing. For (3), please refer to https://www.tensorflow.org/guide/function#controlling_retracing and https://www.tensorflow.org/api_docs/python/tf/function for  more details.\n",
      " 10%|████████████████▊                                                                                                                                                       | 1/10 [01:21<12:16, 81.86s/it]"
     ]
    },
    {
     "name": "stdout",
     "output_type": "stream",
     "text": [
      "15.8413\n"
     ]
    },
    {
     "name": "stderr",
     "output_type": "stream",
     "text": [
      " 20%|█████████████████████████████████▌                                                                                                                                      | 2/10 [02:20<09:05, 68.14s/it]"
     ]
    },
    {
     "name": "stdout",
     "output_type": "stream",
     "text": [
      "12.1716\n"
     ]
    },
    {
     "name": "stderr",
     "output_type": "stream",
     "text": [
      " 30%|██████████████████████████████████████████████████▍                                                                                                                     | 3/10 [03:18<07:24, 63.55s/it]"
     ]
    },
    {
     "name": "stdout",
     "output_type": "stream",
     "text": [
      "5.7904\n"
     ]
    },
    {
     "name": "stderr",
     "output_type": "stream",
     "text": [
      " 40%|███████████████████████████████████████████████████████████████████▏                                                                                                    | 4/10 [04:16<06:08, 61.45s/it]"
     ]
    },
    {
     "name": "stdout",
     "output_type": "stream",
     "text": [
      "3.2511\n"
     ]
    },
    {
     "name": "stderr",
     "output_type": "stream",
     "text": [
      " 50%|████████████████████████████████████████████████████████████████████████████████████                                                                                    | 5/10 [05:15<05:02, 60.58s/it]"
     ]
    },
    {
     "name": "stdout",
     "output_type": "stream",
     "text": [
      "2.1228\n"
     ]
    },
    {
     "name": "stderr",
     "output_type": "stream",
     "text": [
      " 60%|████████████████████████████████████████████████████████████████████████████████████████████████████▊                                                                   | 6/10 [06:14<03:59, 59.84s/it]"
     ]
    },
    {
     "name": "stdout",
     "output_type": "stream",
     "text": [
      "1.1532\n"
     ]
    },
    {
     "name": "stderr",
     "output_type": "stream",
     "text": [
      " 70%|█████████████████████████████████████████████████████████████████████████████████████████████████████████████████████▌                                                  | 7/10 [07:12<02:58, 59.42s/it]"
     ]
    },
    {
     "name": "stdout",
     "output_type": "stream",
     "text": [
      "1.042\n"
     ]
    },
    {
     "name": "stderr",
     "output_type": "stream",
     "text": [
      " 80%|██████████████████████████████████████████████████████████████████████████████████████████████████████████████████████████████████████▍                                 | 8/10 [08:10<01:58, 59.05s/it]"
     ]
    },
    {
     "name": "stdout",
     "output_type": "stream",
     "text": [
      "0.7662\n"
     ]
    },
    {
     "name": "stderr",
     "output_type": "stream",
     "text": [
      " 90%|███████████████████████████████████████████████████████████████████████████████████████████████████████████████████████████████████████████████████████▏                | 9/10 [09:08<00:58, 58.68s/it]"
     ]
    },
    {
     "name": "stdout",
     "output_type": "stream",
     "text": [
      "0.8136\n"
     ]
    },
    {
     "name": "stderr",
     "output_type": "stream",
     "text": [
      "100%|███████████████████████████████████████████████████████████████████████████████████████████████████████████████████████████████████████████████████████████████████████| 10/10 [10:07<00:00, 60.70s/it]"
     ]
    },
    {
     "name": "stdout",
     "output_type": "stream",
     "text": [
      "0.5154\n"
     ]
    },
    {
     "name": "stderr",
     "output_type": "stream",
     "text": [
      "\n"
     ]
    }
   ],
   "source": [
    "def roll_batch(tensor, roll_values, axis=2):\n",
    "  return tf.stack([tf.roll(tensor[i], roll_values[i], axis=axis-1) for i in range(tensor.shape[0])])\n",
    "\n",
    "true = np.zeros((n_beams, image.shape[0]))\n",
    "true[n_beams//2] = 1\n",
    "true = tf.convert_to_tensor(true, dtype=tf.float32)\n",
    "\n",
    "optimizer = tf.keras.optimizers.AdamW(learning_rate=0.001)\n",
    "for e in  tqdm(range(n_epochs)):\n",
    "    # training loop\n",
    "    for s, sample in enumerate(train_dataset):\n",
    "        image, label = sample['polar'], sample['label']\n",
    "        with tf.GradientTape() as tape:\n",
    "            k_distribution = model(image)\n",
    "            # cosine of hyper-unit-vectors -> normalization not needed \n",
    "            loss = 1. - (k_distribution @ true) \n",
    "            grad = tape.gradient(loss, model.trainable_variables)\n",
    "        optimizer.apply_gradients(zip(grad, model.trainable_variables))\n",
    "        wandb.log({\"training loss\": np.mean(loss.numpy())}, step=e*len(train_dataset)+s)\n",
    "        # equivariance test loop\n",
    "        image = tf.roll(image, shift=20, axis=2) # see example above shift to right\n",
    "        k_true = tf.cast(tf.fill((image.shape[0], ), 20), tf.int64) + n_beams//2\n",
    "        test_loss = tf.abs(k_true - tf.argmax(model(image), axis=-1))\n",
    "        wandb.log({\"equivariance test\": np.mean(test_loss.numpy())}, step=e*len(train_dataset)+s)\n",
    "    # pseudo-equivariant test loop\n",
    "    test_loss = []\n",
    "    for s, sample in enumerate(test_dataset):\n",
    "        image, label = sample['polar'], sample['label']\n",
    "        k = tf.random.uniform(shape=(image.shape[0],), minval=-n_beams//2, maxval=n_beams//2, dtype=tf.int64)\n",
    "        image = roll_batch(image, k, axis=2)\n",
    "        k_distribution = model(image)\n",
    "        test_loss.append(tf.abs(k + n_beams//2 - tf.argmax(k_distribution, axis=-1)).numpy())\n",
    "    wandb.log({\"testing loss\": np.concatenate(test_loss, axis=0).mean()})\n",
    "    print(np.concatenate(test_loss, axis=0).mean())\n",
    "# todo implement load and save of models "
   ],
   "metadata": {
    "collapsed": false,
    "ExecuteTime": {
     "end_time": "2024-02-15T11:57:42.565819Z",
     "start_time": "2024-02-15T11:47:35.351258Z"
    }
   },
   "id": "f8df01c736bea877",
   "execution_count": 6
  },
  {
   "cell_type": "code",
   "outputs": [
    {
     "data": {
      "text/plain": "<Figure size 640x480 with 4 Axes>",
      "image/png": "[encoded data removed]"
     },
     "metadata": {},
     "output_type": "display_data"
    }
   ],
   "source": [
    "fig, axs = plt.subplots(1,4)\n",
    "for s, sample in enumerate(train_dataset):\n",
    "    image, label = sample['polar'], sample['label']\n",
    "    axs[0].imshow(polar_transform_inv(image[0].numpy()))\n",
    "    image = tf.roll(image, shift=50, axis=2)\n",
    "    axs[1].imshow(polar_transform_inv(image[0].numpy()))\n",
    "    k_distribution = model(image)\n",
    "    k = tf.argmax(k_distribution, axis=-1)\n",
    "    image_undo = tf.roll(image[0], shift=n_beams//2+k[0], axis=1)\n",
    "    axs[2].imshow(polar_transform_inv(image_undo.numpy()))\n",
    "    axs[2].set_title(k[0])\n",
    "    image_undo = tf.roll(image[0], shift=n_beams//2-k[0], axis=1)\n",
    "    axs[3].imshow(polar_transform_inv(image_undo.numpy()))\n",
    "    plt.show()\n",
    "    break"
   ],
   "metadata": {
    "collapsed": false,
    "ExecuteTime": {
     "end_time": "2024-02-15T12:02:54.942373Z",
     "start_time": "2024-02-15T12:02:52.552321Z"
    }
   },
   "id": "75cff1f44de5bcb5",
   "execution_count": 8
  }
 ],
 "metadata": {
  "kernelspec": {
   "display_name": "Python 3",
   "language": "python",
   "name": "python3"
  },
  "language_info": {
   "codemirror_mode": {
    "name": "ipython",
    "version": 2
   },
   "file_extension": ".py",
   "mimetype": "text/x-python",
   "name": "python",
   "nbconvert_exporter": "python",
   "pygments_lexer": "ipython2",
   "version": "2.7.6"
  }
 },
 "nbformat": 4,
 "nbformat_minor": 5
}
