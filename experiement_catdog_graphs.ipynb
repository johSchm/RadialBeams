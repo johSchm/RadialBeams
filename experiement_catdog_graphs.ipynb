{
 "cells": [
  {
   "cell_type": "code",
   "execution_count": 1,
   "id": "initial_id",
   "metadata": {
    "collapsed": true,
    "ExecuteTime": {
     "end_time": "2024-03-04T11:52:37.245885Z",
     "start_time": "2024-03-04T11:52:29.137179Z"
    }
   },
   "outputs": [
    {
     "name": "stdout",
     "output_type": "stream",
     "text": [
      "nvcc: NVIDIA (R) Cuda compiler driver\r\n",
      "Copyright (c) 2005-2022 NVIDIA Corporation\r\n",
      "Built on Wed_Sep_21_10:33:58_PDT_2022\r\n",
      "Cuda compilation tools, release 11.8, V11.8.89\r\n",
      "Build cuda_11.8.r11.8/compiler.31833905_0\r\n"
     ]
    },
    {
     "name": "stderr",
     "output_type": "stream",
     "text": [
      "2024-03-04 11:52:31.177155: E tensorflow/compiler/xla/stream_executor/cuda/cuda_dnn.cc:9342] Unable to register cuDNN factory: Attempting to register factory for plugin cuDNN when one has already been registered\n",
      "2024-03-04 11:52:31.177250: E tensorflow/compiler/xla/stream_executor/cuda/cuda_fft.cc:609] Unable to register cuFFT factory: Attempting to register factory for plugin cuFFT when one has already been registered\n",
      "2024-03-04 11:52:31.177273: E tensorflow/compiler/xla/stream_executor/cuda/cuda_blas.cc:1518] Unable to register cuBLAS factory: Attempting to register factory for plugin cuBLAS when one has already been registered\n",
      "2024-03-04 11:52:31.185129: I tensorflow/core/platform/cpu_feature_guard.cc:182] This TensorFlow binary is optimized to use available CPU instructions in performance-critical operations.\n",
      "To enable the following instructions: AVX2 FMA, in other operations, rebuild TensorFlow with the appropriate compiler flags.\n",
      "/project/johannsc/symmetries/RadialBeams/venv/lib/python3.11/site-packages/tensorflow_addons/utils/tfa_eol_msg.py:23: UserWarning: \n",
      "\n",
      "TensorFlow Addons (TFA) has ended development and introduction of new features.\n",
      "TFA has entered a minimal maintenance and release mode until a planned end of life in May 2024.\n",
      "Please modify downstream libraries to take dependencies from other repositories in our TensorFlow community (e.g. Keras, Keras-CV, and Keras-NLP). \n",
      "\n",
      "For more information see: https://github.com/tensorflow/addons/issues/2807 \n",
      "\n",
      "  warnings.warn(\n"
     ]
    },
    {
     "name": "stdout",
     "output_type": "stream",
     "text": [
      "Num GPUs Available:  1\n"
     ]
    },
    {
     "name": "stderr",
     "output_type": "stream",
     "text": [
      "2024-03-04 11:52:37.124113: W tensorflow/core/common_runtime/gpu/gpu_bfc_allocator.cc:47] Overriding orig_value setting because the TF_FORCE_GPU_ALLOW_GROWTH environment variable is set. Original config value was 0.\n",
      "2024-03-04 11:52:37.125663: I tensorflow/core/common_runtime/gpu/gpu_device.cc:1886] Created device /job:localhost/replica:0/task:0/device:GPU:0 with 43606 MB memory:  -> device: 0, name: NVIDIA A40, pci bus id: 0000:03:00.0, compute capability: 8.6\n"
     ]
    }
   ],
   "source": [
    "# https://www.tensorflow.org/install/source#gpu\n",
    "! nvcc  --version\n",
    "\n",
    "import os \n",
    "os.environ[\"CUDA_VISIBLE_DEVICES\"] = \"0\"\n",
    "os.environ['TF_FORCE_GPU_ALLOW_GROWTH'] = 'true'\n",
    "\n",
    "import math\n",
    "import wandb\n",
    "import numpy as np\n",
    "import matplotlib.pyplot as plt\n",
    "from tqdm import tqdm\n",
    "import tensorflow as tf\n",
    "import tensorflow_datasets as tfds\n",
    "import tensorflow_addons as tfa\n",
    "from datetime import datetime\n",
    "\n",
    "print(\"Num GPUs Available: \", len(tf.config.list_physical_devices('GPU')))\n",
    "\n",
    "from src.learning import get_laplace\n",
    "from src.utils import (polar_transform, polar_transform_inv, apply_circular_mask, roll_batch, \n",
    "                       random_roll, log_biases, log_weights, log_gradients)\n",
    "from src.visu import (plot_conv_filters, saliency_map, weighted_saliency_map, grad_cam, energy_map, \n",
    "                      plot_output_shift, process_until)"
   ]
  },
  {
   "cell_type": "code",
   "outputs": [
    {
     "name": "stderr",
     "output_type": "stream",
     "text": [
      "Failed to detect the name of this notebook, you can set it manually with the WANDB_NOTEBOOK_NAME environment variable to enable code saving.\n",
      "\u001B[34m\u001B[1mwandb\u001B[0m: Currently logged in as: \u001B[33mjohschm\u001B[0m. Use \u001B[1m`wandb login --relogin`\u001B[0m to force relogin\n"
     ]
    },
    {
     "data": {
      "text/plain": "<IPython.core.display.HTML object>",
      "text/html": "Tracking run with wandb version 0.16.3"
     },
     "metadata": {},
     "output_type": "display_data"
    },
    {
     "data": {
      "text/plain": "<IPython.core.display.HTML object>",
      "text/html": "Run data is saved locally in <code>/project/johannsc/symmetries/RadialBeams/wandb/run-20240304_115239-c60cuqgl</code>"
     },
     "metadata": {},
     "output_type": "display_data"
    },
    {
     "data": {
      "text/plain": "<IPython.core.display.HTML object>",
      "text/html": "Syncing run <strong><a href='https://wandb.ai/johschm/RadialBeams/runs/c60cuqgl' target=\"_blank\">0304-1152</a></strong> to <a href='https://wandb.ai/johschm/RadialBeams' target=\"_blank\">Weights & Biases</a> (<a href='https://wandb.me/run' target=\"_blank\">docs</a>)<br/>"
     },
     "metadata": {},
     "output_type": "display_data"
    },
    {
     "data": {
      "text/plain": "<IPython.core.display.HTML object>",
      "text/html": " View project at <a href='https://wandb.ai/johschm/RadialBeams' target=\"_blank\">https://wandb.ai/johschm/RadialBeams</a>"
     },
     "metadata": {},
     "output_type": "display_data"
    },
    {
     "data": {
      "text/plain": "<IPython.core.display.HTML object>",
      "text/html": " View run at <a href='https://wandb.ai/johschm/RadialBeams/runs/c60cuqgl' target=\"_blank\">https://wandb.ai/johschm/RadialBeams/runs/c60cuqgl</a>"
     },
     "metadata": {},
     "output_type": "display_data"
    },
    {
     "data": {
      "text/html": "<button onClick=\"this.nextSibling.style.display='block';this.style.display='none';\">Display W&B run</button><iframe src='https://wandb.ai/johschm/RadialBeams/runs/c60cuqgl?jupyter=true' style='border:none;width:100%;height:420px;display:none;'></iframe>",
      "text/plain": "<wandb.sdk.wandb_run.Run at 0x7f03d028b050>"
     },
     "execution_count": 2,
     "metadata": {},
     "output_type": "execute_result"
    }
   ],
   "source": [
    "config = {\n",
    "    \"dataset\": 'stanford_dogs',\n",
    "    \"image_size\": 100,\n",
    "    \"noise_factor\": 0.1,\n",
    "    \"batch_size\": 200,\n",
    "    \"n_filters\": 64,\n",
    "    \"n_epochs\": 250,\n",
    "    \"n_channels\": 3,\n",
    "    \"n_classes\": 1000,\n",
    "    \"learning_rate\": 5e-4,\n",
    "}\n",
    "config |= {\n",
    "    \"radius\": config[\"image_size\"]//2, #- 5,\n",
    "}\n",
    "config |= {\n",
    "    \"len_beam\": int(round(config['radius'])),\n",
    "    \"n_beams\": int(round(config['radius']*2*np.pi))\n",
    "}\n",
    "\n",
    "wandb.init(project=\"RadialBeams\", config=config, group=config['dataset'],\n",
    "           name=datetime.now().strftime(\"%m%d-%H%M\"))"
   ],
   "metadata": {
    "collapsed": false,
    "ExecuteTime": {
     "end_time": "2024-03-04T11:52:40.286648Z",
     "start_time": "2024-03-04T11:52:37.263173Z"
    }
   },
   "id": "c463b08573696d7c",
   "execution_count": 2
  },
  {
   "cell_type": "code",
   "outputs": [
    {
     "data": {
      "text/plain": "TensorShape([200, 50, 314, 3])"
     },
     "execution_count": 3,
     "metadata": {},
     "output_type": "execute_result"
    }
   ],
   "source": [
    "def preprocess(example):\n",
    "    image = tf.cast(example['image'], tf.float32) / 255.\n",
    "    image = tf.image.resize(image, [config['image_size'], config['image_size']], antialias=True)\n",
    "    image = apply_circular_mask(image)\n",
    "    return {\n",
    "        'image': image,\n",
    "        'label': example['label'],\n",
    "        'polar': polar_transform(image, radius=config['radius'])\n",
    "    }\n",
    "\n",
    "def preprocess_test(example):\n",
    "    example = preprocess(example)\n",
    "    # random rotation angle\n",
    "    k = tf.random.uniform(shape=(), minval=-config['n_beams'] // 2, maxval=config['n_beams'] // 2, dtype=tf.int64)\n",
    "    angle = -tf.cast(k, tf.float32)*math.pi/(config['n_beams']//2)\n",
    "    # resample + rotation\n",
    "    polar_resrot = tf.roll(example['polar'], k, axis=1)\n",
    "    # rotation + resample\n",
    "    polar_rotres = tfa.image.rotate(example['image'], interpolation='bilinear', angles=angle)\n",
    "    polar_rotres = polar_transform(polar_rotres, radius=config['radius'])\n",
    "    return {\n",
    "        'image': example['image'],\n",
    "        'label': example['label'],\n",
    "        'polar': example['polar'],\n",
    "        'polar_resrot': polar_resrot,\n",
    "        'polar_rotres': polar_rotres,\n",
    "        'k': k,\n",
    "        'angle': angle\n",
    "    }\n",
    "\n",
    "train_dataset = tfds.load(config['dataset'], split='train', shuffle_files=False)\n",
    "test_dataset = tfds.load(config['dataset'], split='test', shuffle_files=False)\n",
    "\n",
    "train_dataset = (train_dataset.map(preprocess, num_parallel_calls=8).cache()\n",
    "                 .batch(config['batch_size']).prefetch(config['batch_size']))\n",
    "test_dataset = (test_dataset.map(preprocess_test, num_parallel_calls=8).cache()\n",
    "                .batch(config['batch_size']).prefetch(config['batch_size']))\n",
    "\n",
    "train_dataset.save('./data/{}_train'.format(config['dataset']))\n",
    "test_dataset.save('./data/{}_test'.format(config['dataset']))\n",
    "\n",
    "train_dataset = tf.data.Dataset.load('./data/{}_train'.format(config['dataset']))\n",
    "test_dataset = tf.data.Dataset.load('./data/{}_test'.format(config['dataset']))\n",
    "\n",
    "next(iter(test_dataset))['polar'].shape"
   ],
   "metadata": {
    "collapsed": false,
    "ExecuteTime": {
     "end_time": "2024-03-04T11:53:08.803225Z",
     "start_time": "2024-03-04T11:52:40.285304Z"
    }
   },
   "id": "4d5febf3f4f4a946",
   "execution_count": 3
  },
  {
   "cell_type": "code",
   "outputs": [
    {
     "data": {
      "text/plain": "<matplotlib.image.AxesImage at 0x7f0350504f90>"
     },
     "execution_count": 14,
     "metadata": {},
     "output_type": "execute_result"
    },
    {
     "data": {
      "text/plain": "<Figure size 640x480 with 2 Axes>",
      "image/png": "[encoded data removed]"
     },
     "metadata": {},
     "output_type": "display_data"
    }
   ],
   "source": [
    "import networkx as nx\n",
    "\n",
    "def circular_graph_adjacency_matrix(n_vectors):\n",
    "    adjacency = np.zeros([n_vectors, n_vectors])\n",
    "    adjacency[0, 1] = 1\n",
    "    adjacency[0, n_vectors - 1] = 1\n",
    "    for i in range(1, n_vectors - 1):\n",
    "        adjacency[i, i-1] = 1\n",
    "    adjacency[n_vectors - 1, n_vectors - 2] = 1\n",
    "    adjacency[n_vectors - 1, 0] = 1\n",
    "    return adjacency\n",
    "\n",
    "A = circular_graph_adjacency_matrix(config['n_beams']//16)\n",
    "G = nx.from_numpy_array(A)\n",
    "fig, axs = plt.subplots(1,2)\n",
    "nx.draw(G, ax=axs[0])\n",
    "axs[1].imshow(A, cmap='grey')"
   ],
   "metadata": {
    "collapsed": false,
    "ExecuteTime": {
     "end_time": "2024-03-04T14:09:44.231790Z",
     "start_time": "2024-03-04T14:09:43.998592Z"
    }
   },
   "id": "7914a4847b7bae32",
   "execution_count": 14
  },
  {
   "cell_type": "code",
   "outputs": [
    {
     "ename": "ValueError",
     "evalue": "Input 0 of layer \"enc2\" is incompatible with the layer: expected shape=(None, 314, 64), found shape=(200, 18, 314, 64)",
     "output_type": "error",
     "traceback": [
      "\u001B[0;31m---------------------------------------------------------------------------\u001B[0m",
      "\u001B[0;31mValueError\u001B[0m                                Traceback (most recent call last)",
      "Cell \u001B[0;32mIn[16], line 105\u001B[0m\n\u001B[1;32m    100\u001B[0m         \u001B[38;5;28;01mreturn\u001B[39;00m tf\u001B[38;5;241m.\u001B[39mnn\u001B[38;5;241m.\u001B[39mlog_softmax(tf\u001B[38;5;241m.\u001B[39msqueeze(\u001B[38;5;28mself\u001B[39m\u001B[38;5;241m.\u001B[39mradial_energy, axis\u001B[38;5;241m=\u001B[39m\u001B[38;5;241m-\u001B[39m\u001B[38;5;241m1\u001B[39m), axis\u001B[38;5;241m=\u001B[39m\u001B[38;5;241m-\u001B[39m\u001B[38;5;241m1\u001B[39m)\n\u001B[1;32m    103\u001B[0m model \u001B[38;5;241m=\u001B[39m PolarRegressor(len_beam\u001B[38;5;241m=\u001B[39mconfig[\u001B[38;5;124m'\u001B[39m\u001B[38;5;124mlen_beam\u001B[39m\u001B[38;5;124m'\u001B[39m], n_beams\u001B[38;5;241m=\u001B[39mconfig[\u001B[38;5;124m'\u001B[39m\u001B[38;5;124mn_beams\u001B[39m\u001B[38;5;124m'\u001B[39m],\n\u001B[1;32m    104\u001B[0m                        n_channels\u001B[38;5;241m=\u001B[39mconfig[\u001B[38;5;124m'\u001B[39m\u001B[38;5;124mn_channels\u001B[39m\u001B[38;5;124m'\u001B[39m], n_filters\u001B[38;5;241m=\u001B[39mconfig[\u001B[38;5;124m'\u001B[39m\u001B[38;5;124mn_filters\u001B[39m\u001B[38;5;124m'\u001B[39m])\n\u001B[0;32m--> 105\u001B[0m \u001B[43mmodel\u001B[49m\u001B[38;5;241;43m.\u001B[39;49m\u001B[43mbuild\u001B[49m\u001B[43m(\u001B[49m\u001B[43minput_shape\u001B[49m\u001B[38;5;241;43m=\u001B[39;49m\u001B[43m(\u001B[49m\u001B[43mconfig\u001B[49m\u001B[43m[\u001B[49m\u001B[38;5;124;43m'\u001B[39;49m\u001B[38;5;124;43mbatch_size\u001B[39;49m\u001B[38;5;124;43m'\u001B[39;49m\u001B[43m]\u001B[49m\u001B[43m,\u001B[49m\u001B[43m \u001B[49m\u001B[43mconfig\u001B[49m\u001B[43m[\u001B[49m\u001B[38;5;124;43m'\u001B[39;49m\u001B[38;5;124;43mlen_beam\u001B[39;49m\u001B[38;5;124;43m'\u001B[39;49m\u001B[43m]\u001B[49m\u001B[43m,\u001B[49m\u001B[43m \u001B[49m\u001B[43mconfig\u001B[49m\u001B[43m[\u001B[49m\u001B[38;5;124;43m'\u001B[39;49m\u001B[38;5;124;43mn_beams\u001B[39;49m\u001B[38;5;124;43m'\u001B[39;49m\u001B[43m]\u001B[49m\u001B[43m,\u001B[49m\u001B[43m \u001B[49m\u001B[43mconfig\u001B[49m\u001B[43m[\u001B[49m\u001B[38;5;124;43m'\u001B[39;49m\u001B[38;5;124;43mn_channels\u001B[39;49m\u001B[38;5;124;43m'\u001B[39;49m\u001B[43m]\u001B[49m\u001B[43m)\u001B[49m\u001B[43m)\u001B[49m\n\u001B[1;32m    106\u001B[0m model(tf\u001B[38;5;241m.\u001B[39mzeros((config[\u001B[38;5;124m'\u001B[39m\u001B[38;5;124mbatch_size\u001B[39m\u001B[38;5;124m'\u001B[39m], config[\u001B[38;5;124m'\u001B[39m\u001B[38;5;124mlen_beam\u001B[39m\u001B[38;5;124m'\u001B[39m], config[\u001B[38;5;124m'\u001B[39m\u001B[38;5;124mn_beams\u001B[39m\u001B[38;5;124m'\u001B[39m], config[\u001B[38;5;124m'\u001B[39m\u001B[38;5;124mn_channels\u001B[39m\u001B[38;5;124m'\u001B[39m])))\n\u001B[1;32m    107\u001B[0m model\u001B[38;5;241m.\u001B[39msummary()\n",
      "File \u001B[0;32m/project/johannsc/symmetries/RadialBeams/venv/lib/python3.11/site-packages/keras/src/engine/training.py:541\u001B[0m, in \u001B[0;36mModel.build\u001B[0;34m(self, input_shape)\u001B[0m\n\u001B[1;32m    536\u001B[0m     \u001B[38;5;28;01mraise\u001B[39;00m \u001B[38;5;167;01mValueError\u001B[39;00m(\n\u001B[1;32m    537\u001B[0m         \u001B[38;5;124m\"\u001B[39m\u001B[38;5;124mYou can only call `build()` on a model if its \u001B[39m\u001B[38;5;124m\"\u001B[39m\n\u001B[1;32m    538\u001B[0m         \u001B[38;5;124m\"\u001B[39m\u001B[38;5;124m`call()` method accepts an `inputs` argument.\u001B[39m\u001B[38;5;124m\"\u001B[39m\n\u001B[1;32m    539\u001B[0m     )\n\u001B[1;32m    540\u001B[0m \u001B[38;5;28;01mtry\u001B[39;00m:\n\u001B[0;32m--> 541\u001B[0m     \u001B[38;5;28;43mself\u001B[39;49m\u001B[38;5;241;43m.\u001B[39;49m\u001B[43mcall\u001B[49m\u001B[43m(\u001B[49m\u001B[43mx\u001B[49m\u001B[43m,\u001B[49m\u001B[43m \u001B[49m\u001B[38;5;241;43m*\u001B[39;49m\u001B[38;5;241;43m*\u001B[39;49m\u001B[43mkwargs\u001B[49m\u001B[43m)\u001B[49m\n\u001B[1;32m    542\u001B[0m \u001B[38;5;28;01mexcept\u001B[39;00m (tf\u001B[38;5;241m.\u001B[39merrors\u001B[38;5;241m.\u001B[39mInvalidArgumentError, \u001B[38;5;167;01mTypeError\u001B[39;00m) \u001B[38;5;28;01mas\u001B[39;00m e:\n\u001B[1;32m    543\u001B[0m     \u001B[38;5;28;01mraise\u001B[39;00m \u001B[38;5;167;01mValueError\u001B[39;00m(\n\u001B[1;32m    544\u001B[0m         \u001B[38;5;124m\"\u001B[39m\u001B[38;5;124mYou cannot build your model by calling `build` \u001B[39m\u001B[38;5;124m\"\u001B[39m\n\u001B[1;32m    545\u001B[0m         \u001B[38;5;124m\"\u001B[39m\u001B[38;5;124mif your layers do not support float type inputs. \u001B[39m\u001B[38;5;124m\"\u001B[39m\n\u001B[0;32m   (...)\u001B[0m\n\u001B[1;32m    549\u001B[0m         \u001B[38;5;124mf\u001B[39m\u001B[38;5;124m\"\u001B[39m\u001B[38;5;124m`call` is: \u001B[39m\u001B[38;5;132;01m{\u001B[39;00me\u001B[38;5;132;01m}\u001B[39;00m\u001B[38;5;124m.\u001B[39m\u001B[38;5;124m\"\u001B[39m\n\u001B[1;32m    550\u001B[0m     )\n",
      "Cell \u001B[0;32mIn[16], line 94\u001B[0m, in \u001B[0;36mPolarRegressor.call\u001B[0;34m(self, x)\u001B[0m\n\u001B[1;32m     91\u001B[0m \u001B[38;5;28mself\u001B[39m\u001B[38;5;241m.\u001B[39mlatent_radial_energy \u001B[38;5;241m=\u001B[39m \u001B[38;5;28mself\u001B[39m\u001B[38;5;241m.\u001B[39mlatent_radial_energy_encoder(\u001B[38;5;28mself\u001B[39m\u001B[38;5;241m.\u001B[39mlatent_polar_map)\n\u001B[1;32m     92\u001B[0m \u001B[38;5;66;03m# from the energy map, we estimate an energy function over S^1\u001B[39;00m\n\u001B[1;32m     93\u001B[0m \u001B[38;5;66;03m# z = tf.transpose(self.energy_map, (0, 2, 1, 3)) # tf.squeeze(self.energy_map, axis=-1)\u001B[39;00m\n\u001B[0;32m---> 94\u001B[0m \u001B[38;5;28mself\u001B[39m\u001B[38;5;241m.\u001B[39mradial_energy \u001B[38;5;241m=\u001B[39m \u001B[38;5;28;43mself\u001B[39;49m\u001B[38;5;241;43m.\u001B[39;49m\u001B[43mradial_energy_encoder\u001B[49m\u001B[43m(\u001B[49m\u001B[43mtf\u001B[49m\u001B[38;5;241;43m.\u001B[39;49m\u001B[43msqueeze\u001B[49m\u001B[43m(\u001B[49m\u001B[38;5;28;43mself\u001B[39;49m\u001B[38;5;241;43m.\u001B[39;49m\u001B[43mlatent_radial_energy\u001B[49m\u001B[43m)\u001B[49m\u001B[43m)\u001B[49m\n\u001B[1;32m     95\u001B[0m \u001B[38;5;66;03m# we convolve this radial energy by a learned kernel \u001B[39;00m\n\u001B[1;32m     96\u001B[0m \u001B[38;5;66;03m# z = self.angle_encoder(self.radial_energy)\u001B[39;00m\n\u001B[1;32m     97\u001B[0m \u001B[38;5;66;03m# normalise the angle vector \u001B[39;00m\n\u001B[1;32m     98\u001B[0m \u001B[38;5;66;03m# return z / tf.norm(z, axis=-1, keepdims=True) \u001B[39;00m\n\u001B[1;32m     99\u001B[0m \u001B[38;5;66;03m# log-probabilities\u001B[39;00m\n\u001B[1;32m    100\u001B[0m \u001B[38;5;28;01mreturn\u001B[39;00m tf\u001B[38;5;241m.\u001B[39mnn\u001B[38;5;241m.\u001B[39mlog_softmax(tf\u001B[38;5;241m.\u001B[39msqueeze(\u001B[38;5;28mself\u001B[39m\u001B[38;5;241m.\u001B[39mradial_energy, axis\u001B[38;5;241m=\u001B[39m\u001B[38;5;241m-\u001B[39m\u001B[38;5;241m1\u001B[39m), axis\u001B[38;5;241m=\u001B[39m\u001B[38;5;241m-\u001B[39m\u001B[38;5;241m1\u001B[39m)\n",
      "File \u001B[0;32m/project/johannsc/symmetries/RadialBeams/venv/lib/python3.11/site-packages/keras/src/utils/traceback_utils.py:70\u001B[0m, in \u001B[0;36mfilter_traceback.<locals>.error_handler\u001B[0;34m(*args, **kwargs)\u001B[0m\n\u001B[1;32m     67\u001B[0m     filtered_tb \u001B[38;5;241m=\u001B[39m _process_traceback_frames(e\u001B[38;5;241m.\u001B[39m__traceback__)\n\u001B[1;32m     68\u001B[0m     \u001B[38;5;66;03m# To get the full stack trace, call:\u001B[39;00m\n\u001B[1;32m     69\u001B[0m     \u001B[38;5;66;03m# `tf.debugging.disable_traceback_filtering()`\u001B[39;00m\n\u001B[0;32m---> 70\u001B[0m     \u001B[38;5;28;01mraise\u001B[39;00m e\u001B[38;5;241m.\u001B[39mwith_traceback(filtered_tb) \u001B[38;5;28;01mfrom\u001B[39;00m \u001B[38;5;28;01mNone\u001B[39;00m\n\u001B[1;32m     71\u001B[0m \u001B[38;5;28;01mfinally\u001B[39;00m:\n\u001B[1;32m     72\u001B[0m     \u001B[38;5;28;01mdel\u001B[39;00m filtered_tb\n",
      "File \u001B[0;32m/project/johannsc/symmetries/RadialBeams/venv/lib/python3.11/site-packages/keras/src/engine/input_spec.py:298\u001B[0m, in \u001B[0;36massert_input_compatibility\u001B[0;34m(input_spec, inputs, layer_name)\u001B[0m\n\u001B[1;32m    296\u001B[0m \u001B[38;5;28;01mif\u001B[39;00m spec_dim \u001B[38;5;129;01mis\u001B[39;00m \u001B[38;5;129;01mnot\u001B[39;00m \u001B[38;5;28;01mNone\u001B[39;00m \u001B[38;5;129;01mand\u001B[39;00m dim \u001B[38;5;129;01mis\u001B[39;00m \u001B[38;5;129;01mnot\u001B[39;00m \u001B[38;5;28;01mNone\u001B[39;00m:\n\u001B[1;32m    297\u001B[0m     \u001B[38;5;28;01mif\u001B[39;00m spec_dim \u001B[38;5;241m!=\u001B[39m dim:\n\u001B[0;32m--> 298\u001B[0m         \u001B[38;5;28;01mraise\u001B[39;00m \u001B[38;5;167;01mValueError\u001B[39;00m(\n\u001B[1;32m    299\u001B[0m             \u001B[38;5;124mf\u001B[39m\u001B[38;5;124m'\u001B[39m\u001B[38;5;124mInput \u001B[39m\u001B[38;5;132;01m{\u001B[39;00minput_index\u001B[38;5;132;01m}\u001B[39;00m\u001B[38;5;124m of layer \u001B[39m\u001B[38;5;124m\"\u001B[39m\u001B[38;5;132;01m{\u001B[39;00mlayer_name\u001B[38;5;132;01m}\u001B[39;00m\u001B[38;5;124m\"\u001B[39m\u001B[38;5;124m is \u001B[39m\u001B[38;5;124m'\u001B[39m\n\u001B[1;32m    300\u001B[0m             \u001B[38;5;124m\"\u001B[39m\u001B[38;5;124mincompatible with the layer: \u001B[39m\u001B[38;5;124m\"\u001B[39m\n\u001B[1;32m    301\u001B[0m             \u001B[38;5;124mf\u001B[39m\u001B[38;5;124m\"\u001B[39m\u001B[38;5;124mexpected shape=\u001B[39m\u001B[38;5;132;01m{\u001B[39;00mspec\u001B[38;5;241m.\u001B[39mshape\u001B[38;5;132;01m}\u001B[39;00m\u001B[38;5;124m, \u001B[39m\u001B[38;5;124m\"\u001B[39m\n\u001B[1;32m    302\u001B[0m             \u001B[38;5;124mf\u001B[39m\u001B[38;5;124m\"\u001B[39m\u001B[38;5;124mfound shape=\u001B[39m\u001B[38;5;132;01m{\u001B[39;00mdisplay_shape(x\u001B[38;5;241m.\u001B[39mshape)\u001B[38;5;132;01m}\u001B[39;00m\u001B[38;5;124m\"\u001B[39m\n\u001B[1;32m    303\u001B[0m         )\n",
      "\u001B[0;31mValueError\u001B[0m: Input 0 of layer \"enc2\" is incompatible with the layer: expected shape=(None, 314, 64), found shape=(200, 18, 314, 64)"
     ]
    }
   ],
   "source": [
    "from tensorflow.keras import initializers, regularizers, constraints\n",
    "from tensorflow.keras import activations\n",
    "from tensorflow.keras import layers, models\n",
    "\n",
    "class GraphConvolutionLayer(tf.keras.layers.Layer):\n",
    "\n",
    "    def __init__(self, units, A, activation=tf.identity, rate=0.0, l2=0.0):\n",
    "        super(GraphConvolutionLayer, self).__init__()\n",
    "        self.activation = activation\n",
    "        self.units = units\n",
    "        self.rate = rate\n",
    "        self.l2 = l2 \n",
    "        self.A = A\n",
    "\n",
    "    def build(self, input_shape):\n",
    "        self.W = self.add_weight(\n",
    "          shape=(input_shape[-1], self.units),\n",
    "          dtype=self.dtype,\n",
    "          name='gnn_weights',\n",
    "          initializer='glorot_uniform',\n",
    "          regularizer=tf.keras.regularizers.l2(self.l2)\n",
    "        )\n",
    "\n",
    "    def call(self, X):\n",
    "        \"\"\"\n",
    "        input (batch x vector x hidden)\n",
    "        output (batch x vector x hidden)\n",
    "        \"\"\"\n",
    "        X = tf.nn.dropout(X, self.rate)\n",
    "        X = self.A @ X @ self.W\n",
    "        return self.activation(X)\n",
    "    \n",
    "class PolarRegressor(tf.keras.Model):\n",
    "    \"\"\" Using Cyclic Feature Encoding.\n",
    "    \"\"\"\n",
    "    \n",
    "    def __init__(self, n_beams, len_beam, n_filters=128, n_channels=3, l2_bias=0.01):\n",
    "        super().__init__()\n",
    "        \n",
    "        # This embeds each beam into a latent representation, mapping (C=3) -> (L)\n",
    "        self.beam_encoding = None\n",
    "        self.beam_encoder = models.Sequential([\n",
    "            layers.InputLayer(input_shape=(len_beam, n_beams, n_channels)),\n",
    "            layers.Dense(units=n_filters, activation='elu')\n",
    "        ], name='enc0')\n",
    "    \n",
    "        # This encodes the polar representation of the image (batch x len_beams x n_beams+padding x channels)\n",
    "        # down to an energy map of shape (batch x len_beams x n_beams x 1), which preservers translation-equivariance.\n",
    "        self.latent_polar_map = None\n",
    "        A = circular_graph_adjacency_matrix(n_beams)\n",
    "        self.latent_polar_encoder = models.Sequential([\n",
    "            layers.InputLayer(input_shape=(len_beam, n_beams, n_filters)),\n",
    "            GraphConvolutionLayer(units=n_filters, A=A),\n",
    "            GraphConvolutionLayer(units=n_filters, A=A),\n",
    "            GraphConvolutionLayer(units=n_filters, A=A),\n",
    "        ], name='enc0')\n",
    "        \n",
    "        self.latent_radial_energy = None\n",
    "        self.latent_radial_energy_encoder = models.Sequential([\n",
    "            layers.InputLayer(input_shape=(len_beam, n_beams, n_filters)),\n",
    "            layers.Conv2D(n_filters, (9, 1), activation='elu', padding='valid', \n",
    "                          kernel_initializer=tf.keras.initializers.HeNormal(),\n",
    "                          bias_initializer='zeros', bias_regularizer=tf.keras.regularizers.l2()),\n",
    "            layers.Conv2D(n_filters, (9, 1), activation='elu', padding='valid', \n",
    "                          kernel_initializer=tf.keras.initializers.HeNormal(),\n",
    "                          bias_initializer='zeros', bias_regularizer=tf.keras.regularizers.l2()),\n",
    "            layers.LayerNormalization(center=False),\n",
    "            \n",
    "            layers.Conv2D(n_filters, (9, 1), activation='elu', padding='valid', \n",
    "                          kernel_initializer=tf.keras.initializers.HeNormal(),\n",
    "                          bias_initializer='zeros', bias_regularizer=tf.keras.regularizers.l2()),\n",
    "            layers.Conv2D(n_filters, (9, 1), activation='elu', padding='valid', \n",
    "                          kernel_initializer=tf.keras.initializers.HeNormal(),\n",
    "                          bias_initializer='zeros', bias_regularizer=tf.keras.regularizers.l2()),\n",
    "            layers.LayerNormalization(center=False),\n",
    "        ], name='enc1')\n",
    "        \n",
    "        # This maps the transposed energy map (batch x n_beams x len_beams) down to a radial energy over S^1\n",
    "        # of shape (batch x n_beams), which preservers translation-equivariance.\n",
    "        self.radial_energy = None\n",
    "        self.radial_energy_encoder = models.Sequential([\n",
    "            layers.InputLayer(input_shape=(n_beams, n_filters)),\n",
    "            layers.Dense(n_filters),\n",
    "            layers.Dense(1),\n",
    "        ], name='enc2')\n",
    "    \n",
    "    def call(self, x):\n",
    "        self.beam_encoding = self.beam_encoder(x)\n",
    "        # compute the energy map of the input\n",
    "        self.latent_polar_map = self.latent_polar_encoder(self.beam_encoding)\n",
    "        self.latent_radial_energy = self.latent_radial_energy_encoder(self.latent_polar_map)\n",
    "        # from the energy map, we estimate an energy function over S^1\n",
    "        # z = tf.transpose(self.energy_map, (0, 2, 1, 3)) # tf.squeeze(self.energy_map, axis=-1)\n",
    "        self.radial_energy = self.radial_energy_encoder(tf.squeeze(self.latent_radial_energy))\n",
    "        # we convolve this radial energy by a learned kernel \n",
    "        # z = self.angle_encoder(self.radial_energy)\n",
    "        # normalise the angle vector \n",
    "        # return z / tf.norm(z, axis=-1, keepdims=True) \n",
    "        # log-probabilities\n",
    "        return tf.nn.log_softmax(tf.squeeze(self.radial_energy, axis=-1), axis=-1)\n",
    "\n",
    "\n",
    "model = PolarRegressor(len_beam=config['len_beam'], n_beams=config['n_beams'],\n",
    "                       n_channels=config['n_channels'], n_filters=config['n_filters'])\n",
    "model.build(input_shape=(config['batch_size'], config['len_beam'], config['n_beams'], config['n_channels']))\n",
    "model(tf.zeros((config['batch_size'], config['len_beam'], config['n_beams'], config['n_channels'])))\n",
    "model.summary()"
   ],
   "metadata": {
    "collapsed": false,
    "ExecuteTime": {
     "end_time": "2024-03-04T14:10:00.273574Z",
     "start_time": "2024-03-04T14:09:59.913574Z"
    }
   },
   "id": "62e314a1d012c1f1",
   "execution_count": 16
  }
 ],
 "metadata": {
  "kernelspec": {
   "display_name": "Python 3",
   "language": "python",
   "name": "python3"
  },
  "language_info": {
   "codemirror_mode": {
    "name": "ipython",
    "version": 2
   },
   "file_extension": ".py",
   "mimetype": "text/x-python",
   "name": "python",
   "nbconvert_exporter": "python",
   "pygments_lexer": "ipython2",
   "version": "2.7.6"
  }
 },
 "nbformat": 4,
 "nbformat_minor": 5
}
