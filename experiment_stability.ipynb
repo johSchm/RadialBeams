{
 "cells": [
  {
   "cell_type": "code",
   "execution_count": 1,
   "id": "226a7f82",
   "metadata": {},
   "outputs": [
    {
     "name": "stdout",
     "output_type": "stream",
     "text": [
      "TF Version: 2.8.0\n",
      "GPUs: [PhysicalDevice(name='/physical_device:GPU:0', device_type='GPU')]\n"
     ]
    }
   ],
   "source": [
    "import os\n",
    "\n",
    "os.environ[\"CUDA_VISIBLE_DEVICES\"] = str(0)\n",
    "\n",
    "import tensorflow as tf\n",
    "print('TF Version: ' + str(tf.__version__))\n",
    "physical_devices = tf.config.list_physical_devices('GPU')\n",
    "print('GPUs: ' + str(physical_devices))\n",
    "if len(physical_devices) > 0:\n",
    "    tf.config.experimental.set_memory_growth(physical_devices[0], True)"
   ]
  },
  {
   "cell_type": "code",
   "execution_count": 3,
   "id": "f6e6edee",
   "metadata": {},
   "outputs": [],
   "source": [
    "import random\n",
    "import math\n",
    "import numpy as np\n",
    "import matplotlib.pyplot as plt\n",
    "from tqdm import tqdm\n",
    "\n",
    "from src.model import BIC\n",
    "from src.parsing import load_dataset\n",
    "from src.parsing import preprocess\n",
    "from src.parsing import instantiate_radial_vectors\n",
    "from src.learning import loss_func"
   ]
  },
  {
   "cell_type": "markdown",
   "id": "7b0f3a9e",
   "metadata": {},
   "source": [
    "### Parameters\n",
    "Here especially the `translation` is of interest."
   ]
  },
  {
   "cell_type": "code",
   "execution_count": 23,
   "id": "2de080fb",
   "metadata": {},
   "outputs": [],
   "source": [
    "dataset_name = 'coil100' # 'coil100' 'lfw', 'fashion_mnist', 'cifar10', 'cifar100', 'imagenet', 'celeba', 'widerface'\n",
    "target_size = 128 // 2\n",
    "model_path = './model/coil100.h5py'\n",
    "margin_padding = math.ceil(target_size * (math.sqrt(2) - 1))\n",
    "translation = -4\n",
    "batch_size = 128\n",
    "n_beams = 16\n",
    "continuous = False\n",
    "n_pixels = 64\n",
    "n_channels = 3"
   ]
  },
  {
   "cell_type": "markdown",
   "id": "5e258932",
   "metadata": {},
   "source": [
    "### BIC Model Building"
   ]
  },
  {
   "cell_type": "code",
   "execution_count": 15,
   "id": "1ad536ab",
   "metadata": {},
   "outputs": [
    {
     "name": "stdout",
     "output_type": "stream",
     "text": [
      "WARNING:tensorflow:No training configuration found in save file, so the model was *not* compiled. Compile it manually.\n"
     ]
    },
    {
     "name": "stderr",
     "output_type": "stream",
     "text": [
      "WARNING:tensorflow:No training configuration found in save file, so the model was *not* compiled. Compile it manually.\n"
     ]
    },
    {
     "name": "stdout",
     "output_type": "stream",
     "text": [
      "Model: \"bic\"\n",
      "_________________________________________________________________\n",
      " Layer (type)                Output Shape              Param #   \n",
      "=================================================================\n",
      " beams (InputLayer)          [(None, 2, 16, 3, 64, 3)  0         \n",
      "                             ]                                   \n",
      "                                                                 \n",
      " bic (BIC)                   ((None, 16),              560226    \n",
      "                              (None, 2),                         \n",
      "                              (None, 2, 16, 128),                \n",
      "                              (None, 2, 128),                    \n",
      "                              (None, 16, 16),                    \n",
      "                              (None, 16, 128),                   \n",
      "                              (None, 16, 128),                   \n",
      "                              (None, 16, 16),                    \n",
      "                              (None, 128))                       \n",
      "                                                                 \n",
      "=================================================================\n",
      "Total params: 560,226\n",
      "Trainable params: 560,226\n",
      "Non-trainable params: 0\n",
      "_________________________________________________________________\n"
     ]
    }
   ],
   "source": [
    "# input tensor (batch x (zero, theta) x beams x (2epsilon + 1) x D x C)\n",
    "in_beams = tf.keras.layers.Input([2, n_beams, 3, n_pixels, n_channels])\n",
    "\n",
    "bic = BIC(hidden=128, activation=tf.nn.leaky_relu, context=True,\n",
    "          l2_regularization=0.0, edge_factor=0.5, gcn_layers=3, dropout=0.0,\n",
    "          size_vector_field=n_beams, pixel_count_per_vector=n_pixels)\n",
    "\n",
    "# multiple output for introspection; for training and inference: prior and unit_vec are essential\n",
    "prior, unit_vec, beamencoding, ctx, similarity, \\\n",
    "beamencoding_zero, beamencoding_theta, angle_energy, rnn_encoding = bic(inputs=in_beams)\n",
    "\n",
    "model = tf.keras.models.Model(inputs=in_beams, name='bic',\n",
    "                              outputs=(prior, unit_vec, beamencoding, ctx, similarity, \\\n",
    "                                       beamencoding_zero, beamencoding_theta, angle_energy, rnn_encoding))\n",
    "\n",
    "model = tf.keras.models.load_model(model_path)\n",
    "\n",
    "model.summary()"
   ]
  },
  {
   "cell_type": "markdown",
   "id": "0044595b",
   "metadata": {},
   "source": [
    "### Load Dataset\n",
    "Due to the additional translation, we load and pre-process the dataset from skretch."
   ]
  },
  {
   "cell_type": "code",
   "execution_count": 16,
   "id": "e9217d7b",
   "metadata": {},
   "outputs": [],
   "source": [
    "dataset = load_dataset(dataset_name, partial=None)\n",
    "\n",
    "margin_padding = math.ceil(target_size * (math.sqrt(2) - 1))\n",
    "\n",
    "n_train = int(0.8 * float(dataset.cardinality()))\n",
    "n_val = int(0.1 * float(dataset.cardinality()))\n",
    "n_test = int(0.1 * float(dataset.cardinality()))"
   ]
  },
  {
   "cell_type": "markdown",
   "id": "33e2d197",
   "metadata": {},
   "source": [
    "### Test BIC on a range of translation pertubations\n",
    "Due to the symmetric and centered beam field, the direction of the translation does not matter.\n",
    "Here we translate the image to one corner."
   ]
  },
  {
   "cell_type": "code",
   "execution_count": 25,
   "id": "58302909",
   "metadata": {},
   "outputs": [],
   "source": [
    "translation_lower_bound = -5 \n",
    "translation_upper_bound = 6\n",
    "\n",
    "performance = []\n",
    "for translation in tqdm(np.arange(translation_lower_bound, translation_upper_bound)):\n",
    "    train_dataset = dataset.take(n_train)\n",
    "    val_dataset = dataset.skip(n_train).take(n_val)\n",
    "    test_dataset = dataset.skip(n_train).skip(n_val).take(n_train)\n",
    "    \n",
    "    img_size = int(train_dataset.element_spec['image'].shape[0])\n",
    "    lines, angles = instantiate_radial_vectors(img_size + margin_padding, img_size + margin_padding,\n",
    "                                               beam_set_size=n_beams,\n",
    "                                               max_len=target_size)\n",
    "    \n",
    "    test_dataset = preprocess(test_dataset, lines, angles, target_size=img_size + margin_padding,\n",
    "                              batch_size=batch_size, path='./test_dataset', continuous=continuous,\n",
    "                              horizontal_translation=translation,\n",
    "                              vertical_translation=translation)\n",
    "\n",
    "    _, n_vec, _, n_pixels, n_channels = test_dataset.element_spec['vec'].shape\n",
    "\n",
    "    angles = tf.cast(angles, tf.float32)\n",
    "\n",
    "    losses = []\n",
    "    for sample in test_dataset:\n",
    "        x = tf.concat([sample['vec'][:, None], sample['vec_rot'][:, None]], axis=1)\n",
    "        pred_facts, pred_angle, conv_latents, gnn_latents, distance_matrix, \\\n",
    "        x1_emb, x2_emb, angle_energy, rnn_encoding = model(x)\n",
    "\n",
    "        unit_circle_loss, toeplitz_loss = loss_func(pred_angle, pred_facts, angles,\n",
    "                                                    sample['angle'], continuous=continuous)\n",
    "        losses.append(unit_circle_loss)\n",
    "    performance.append(losses)"
   ]
  },
  {
   "cell_type": "code",
   "execution_count": 26,
   "id": "65659477",
   "metadata": {},
   "outputs": [
    {
     "data": {
      "image/png": "[encoded data removed]",
      "text/plain": [
       "<Figure size 360x360 with 1 Axes>"
      ]
     },
     "metadata": {
      "needs_background": "light"
     },
     "output_type": "display_data"
    }
   ],
   "source": [
    "plt.figure(figsize=(5, 5))\n",
    "plt.violinplot(performance, np.arange(-5, 6), points=20, widths=0.5,\n",
    "               showmeans=True, showextrema=True, showmedians=True)\n",
    "plt.xticks(np.arange(-5, 6))\n",
    "plt.ylabel('circle loss')\n",
    "plt.xlabel('horizontal and vertical translation in pixels')\n",
    "plt.grid(True)\n",
    "plt.show()"
   ]
  }
 ],
 "metadata": {
  "kernelspec": {
   "display_name": "mykernel",
   "language": "python",
   "name": "mykernel"
  },
  "language_info": {
   "codemirror_mode": {
    "name": "ipython",
    "version": 3
   },
   "file_extension": ".py",
   "mimetype": "text/x-python",
   "name": "python",
   "nbconvert_exporter": "python",
   "pygments_lexer": "ipython3",
   "version": "3.8.10"
  }
 },
 "nbformat": 4,
 "nbformat_minor": 5
}
