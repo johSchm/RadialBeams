{
 "cells": [
  {
   "cell_type": "code",
   "execution_count": 1,
   "id": "287138e1",
   "metadata": {},
   "outputs": [
    {
     "name": "stdout",
     "output_type": "stream",
     "text": [
      "TF Version: 2.9.1\n",
      "GPUs: [PhysicalDevice(name='/physical_device:GPU:0', device_type='GPU')]\n"
     ]
    }
   ],
   "source": [
    "import os\n",
    "\n",
    "os.environ[\"CUDA_VISIBLE_DEVICES\"] = str(0)\n",
    "\n",
    "import tensorflow as tf\n",
    "print('TF Version: ' + str(tf.__version__))\n",
    "physical_devices = tf.config.list_physical_devices('GPU')\n",
    "print('GPUs: ' + str(physical_devices))\n",
    "if len(physical_devices) > 0:\n",
    "    tf.config.experimental.set_memory_growth(physical_devices[0], True)"
   ]
  },
  {
   "cell_type": "code",
   "execution_count": 2,
   "id": "1ead39f8",
   "metadata": {},
   "outputs": [],
   "source": [
    "# todo why MNIST performance worse as COIL100 -> MNIST numbers have natural tilts anyway which makes the fine-grain angle prediction nearly impossible\n",
    "\n",
    "import math\n",
    "import seaborn as sns\n",
    "import tensorflow_addons as tfa\n",
    "from tqdm import tqdm\n",
    "import pandas as pd\n",
    "import numpy as np\n",
    "from sklearn.metrics import accuracy_score\n",
    "import matplotlib.pyplot as plt\n",
    "\n",
    "from src.model import VGG11\n",
    "from src.utils import angle_between\n",
    "from src.model import BIC\n",
    "from src.parsing import load_dataset\n",
    "from src.parsing import preprocess\n",
    "from src.parsing import instantiate_radial_beams"
   ]
  },
  {
   "cell_type": "code",
   "execution_count": 3,
   "id": "e4c4158d",
   "metadata": {},
   "outputs": [],
   "source": [
    "dataset_name = 'mnist'\n",
    "target_size = 28 // 2\n",
    "model_path = './model/mnist_off_16_False.h5'\n",
    "margin_padding = math.ceil(target_size * (math.sqrt(2) - 1))\n",
    "batch_size = 128\n",
    "n_beams = 16\n",
    "continuous = False"
   ]
  },
  {
   "cell_type": "markdown",
   "id": "4beaff59",
   "metadata": {},
   "source": [
    "### Load datasets\n",
    "Reminder: First, load, pre-process and store a dataset via the [RadialBeam](./radialbeamsampling.ipynb) routine."
   ]
  },
  {
   "cell_type": "code",
   "execution_count": 4,
   "id": "6c4f652a",
   "metadata": {},
   "outputs": [
    {
     "name": "stderr",
     "output_type": "stream",
     "text": [
      "2023-03-17 10:28:33.557241: I tensorflow/core/platform/cpu_feature_guard.cc:193] This TensorFlow binary is optimized with oneAPI Deep Neural Network Library (oneDNN) to use the following CPU instructions in performance-critical operations:  AVX2 FMA\n",
      "To enable them in other operations, rebuild TensorFlow with the appropriate compiler flags.\n",
      "2023-03-17 10:28:34.778335: I tensorflow/core/common_runtime/gpu/gpu_device.cc:1532] Created device /job:localhost/replica:0/task:0/device:GPU:0 with 43660 MB memory:  -> device: 0, name: NVIDIA A40, pci bus id: 0000:43:00.0, compute capability: 8.6\n"
     ]
    },
    {
     "name": "stdout",
     "output_type": "stream",
     "text": [
      "Padding mode default9/59999\n",
      "Padding mode default\n",
      "Padding mode default\n"
     ]
    }
   ],
   "source": [
    "en_load_dataset = False\n",
    "\n",
    "if en_load_dataset:\n",
    "    train_dataset = tf.data.experimental.load('./data/{0}_train'.format(dataset_name)).batch(batch_size)\n",
    "    val_dataset = tf.data.experimental.load('./data/{0}_val'.format(dataset_name)).batch(batch_size)\n",
    "    test_dataset = tf.data.experimental.load('./data/{0}_test'.format(dataset_name)).batch(batch_size)\n",
    "else:\n",
    "    splits = [0.8, 0.1, 0.1]\n",
    "    dataset = load_dataset(dataset_name)\n",
    "\n",
    "    if dataset_name == 'mnist':\n",
    "        # remove 9 from MNIST since equal 6 if rotated\n",
    "        # filter function of tf.data does not seem to work\n",
    "        images, labels, = [], []\n",
    "        for d, data in enumerate(dataset):\n",
    "            print('Filtering MNIST {0}/{1}'.format(d, dataset.cardinality() - 1), end='\\r')\n",
    "            if data['label'] != 9:\n",
    "                images.append(data['image'])\n",
    "                labels.append(data['label'])\n",
    "        dataset = tf.data.Dataset.from_tensor_slices({'image': images, 'label': labels})\n",
    "\n",
    "    n_train = int(splits[0] * float(dataset.cardinality()))\n",
    "    n_val = int(splits[1] * float(dataset.cardinality()))\n",
    "    n_test = int(splits[2] * float(dataset.cardinality()))\n",
    "\n",
    "    canonic_train_dataset = dataset.take(n_train)\n",
    "    canonic_val_dataset = dataset.skip(n_train).take(n_val)\n",
    "    canonic_test_dataset = dataset.skip(n_train).skip(n_val).take(n_train)\n",
    "\n",
    "    img_size = int(canonic_train_dataset.element_spec['image'].shape[0])\n",
    "    lines, angles = instantiate_radial_beams(img_size + margin_padding, img_size + margin_padding,\n",
    "                                             beam_set_size=n_beams,\n",
    "                                             max_len=target_size)\n",
    "    train_dataset = preprocess(canonic_train_dataset, lines, angles, target_size=img_size + margin_padding,\n",
    "                               batch_size=batch_size, path='./training_dataset', continuous=continuous)\n",
    "    val_dataset = preprocess(canonic_val_dataset, lines, angles, target_size=img_size + margin_padding,\n",
    "                             batch_size=batch_size, path='./val_dataset', continuous=continuous)\n",
    "    test_dataset = preprocess(canonic_test_dataset, lines, angles, target_size=img_size + margin_padding,\n",
    "                              batch_size=batch_size, path='./test_dataset', continuous=continuous)\n",
    "\n",
    "_, n_beams, _, n_pixels, n_channels = train_dataset.element_spec['beam'].shape"
   ]
  },
  {
   "cell_type": "markdown",
   "id": "b5d9b344",
   "metadata": {},
   "source": [
    "### Load the BIC model"
   ]
  },
  {
   "cell_type": "code",
   "execution_count": 5,
   "id": "87b26541",
   "metadata": {},
   "outputs": [
    {
     "name": "stdout",
     "output_type": "stream",
     "text": [
      "Model: \"bic\"\n",
      "_________________________________________________________________\n",
      " Layer (type)                Output Shape              Param #   \n",
      "=================================================================\n",
      " beam_encoder (BeamEncoder)  multiple                  51648     \n",
      "                                                                 \n",
      " graph_convolution_layer (Gr  multiple                 16384     \n",
      " aphConvolutionLayer)                                            \n",
      "                                                                 \n",
      " graph_convolution_layer_1 (  multiple                 16384     \n",
      " GraphConvolutionLayer)                                          \n",
      "                                                                 \n",
      " graph_convolution_layer_2 (  multiple                 16384     \n",
      " GraphConvolutionLayer)                                          \n",
      "                                                                 \n",
      " lstm0 (LSTM)                multiple                  131584    \n",
      "                                                                 \n",
      " lstm1 (LSTM)                multiple                  131584    \n",
      "                                                                 \n",
      " lstm2 (LSTM)                multiple                  131584    \n",
      "                                                                 \n",
      " dense (Dense)               multiple                  8256      \n",
      "                                                                 \n",
      " dense_1 (Dense)             multiple                  2080      \n",
      "                                                                 \n",
      " dense_2 (Dense)             multiple                  66        \n",
      "                                                                 \n",
      "=================================================================\n",
      "Total params: 505,954\n",
      "Trainable params: 505,954\n",
      "Non-trainable params: 0\n",
      "_________________________________________________________________\n"
     ]
    }
   ],
   "source": [
    "# input tensor (batch x (zero, theta) x beams x (2epsilon + 1) x D x C)\n",
    "in_beams = tf.keras.layers.Input([2, n_beams, 3, n_pixels, n_channels])\n",
    "\n",
    "bic = BIC(hidden=128, activation=tf.nn.leaky_relu, context=True,\n",
    "          l2_regularization=0.0, edge_factor=0.5, gcn_layers=3, dropout=0.0,\n",
    "          n_beams=n_beams, pixel_count_per_beam=n_pixels)\n",
    "\n",
    "# multiple output for introspection; for training and inference: prior and unit_vec are essential\n",
    "prior, unit_vec, beamencoding, ctx, similarity, \\\n",
    "beamencoding_zero, beamencoding_theta, angle_energy, rnn_encoding = bic(inputs=in_beams)\n",
    "\n",
    "# bic = bic.save_weights(model_path)\n",
    "bic.load_weights(model_path)\n",
    "bic.summary()"
   ]
  },
  {
   "cell_type": "markdown",
   "id": "a86e19b8",
   "metadata": {},
   "source": [
    "### Crop and canonicalize methods"
   ]
  },
  {
   "cell_type": "markdown",
   "source": [],
   "metadata": {
    "collapsed": false
   }
  },
  {
   "cell_type": "code",
   "execution_count": 6,
   "id": "aeeccce8",
   "metadata": {},
   "outputs": [],
   "source": [
    "def remove_padding(image):\n",
    "    cropped_image = tf.image.crop_to_bounding_box(image, margin_padding // 2, margin_padding // 2,\n",
    "                                                  target_size * 2, target_size * 2)\n",
    "    return cropped_image\n",
    "\n",
    "\n",
    "def downstream_predict(downstream, sample, k=1, show=False):\n",
    "    # predict non-rotated image with downstream model\n",
    "    if k == 1:\n",
    "        non_rot_pred = downstream(remove_padding(sample['image']))\n",
    "    else:\n",
    "        non_rot_pred = tf.nn.top_k(downstream(remove_padding(sample['image'])), k=k)\n",
    "\n",
    "    # predict rotated and chopped off image\n",
    "    if k == 1:\n",
    "        crop_rot_pred = downstream(remove_padding(sample['rotated']))\n",
    "    else:\n",
    "        crop_rot_pred = tf.nn.top_k(downstream(remove_padding(sample['rotated'])), k=k)\n",
    "\n",
    "    # call BIC\n",
    "    pred_facts, pred_angle, conv_latents, gnn_latents, distance_matrix, \\\n",
    "    x1_emb, x2_emb, angle_energy, rnn_encoding = bic(\n",
    "        tf.tile(sample['beam_rot'][:, None, ...], [1, 2, 1, 1, 1, 1]))\n",
    "\n",
    "    # project form complex vector to angle\n",
    "    pred_angle = np.array([angle_between(pred_angle[b], tf.cast([1., 0.], tf.float32), gpu=True)\n",
    "                           for b in range(tf.shape(pred_angle)[0])])\n",
    "\n",
    "    # smoothly rotate the image back\n",
    "    back_rot = tfa.image.rotate(sample['rotated'], 2 * math.pi - pred_angle,\n",
    "                                interpolation='bilinear')\n",
    "\n",
    "    # predict with downstream model\n",
    "    if k == 1:\n",
    "        if show:\n",
    "            plt.imshow(remove_padding(back_rot[0]))\n",
    "            plt.show()\n",
    "        canonic_pred = downstream(remove_padding(back_rot))\n",
    "    else:\n",
    "        canonic_pred = tf.nn.top_k(downstream(remove_padding(back_rot)), k=k)\n",
    "\n",
    "    return non_rot_pred, crop_rot_pred, canonic_pred"
   ]
  },
  {
   "cell_type": "code",
   "execution_count": 7,
   "id": "a78d760e",
   "metadata": {},
   "outputs": [],
   "source": [
    "cce = tf.keras.losses.SparseCategoricalCrossentropy(from_logits=False)\n",
    "train_df = pd.DataFrame(columns=['iteration', 'non_rot_loss', 'crop_rot_loss', 'canonic_loss'])\n",
    "valid_df = pd.DataFrame(columns=['iteration', 'non_rot_loss', 'crop_rot_loss', 'canonic_loss'])"
   ]
  },
  {
   "cell_type": "code",
   "execution_count": 24,
   "outputs": [
    {
     "name": "stdout",
     "output_type": "stream",
     "text": [
      "Train Acc: 0.7859158186864015\n",
      "Train Acc: 0.8840888066604995\n"
     ]
    }
   ],
   "source": [
    "downstream = tf.keras.models.Sequential([\n",
    "  tf.keras.layers.Flatten(),\n",
    "  tf.keras.layers.Dense(128, activation='relu', name='1'),\n",
    "  tf.keras.layers.Dense(9, activation='softmax', name='2')\n",
    "])\n",
    "optimizer = tf.keras.optimizers.Adam(learning_rate=0.01, beta_1=0.9, beta_2=0.999, epsilon=1e-07)\n",
    "for e in range(2):\n",
    "    acc = []\n",
    "    for i, sample in enumerate(canonic_train_dataset.batch(batch_size)):\n",
    "        with tf.GradientTape() as tape:\n",
    "            pred = downstream(sample['image'])\n",
    "            loss = cce(sample['label'], pred)\n",
    "        grads_downstream = tape.gradient(loss, downstream.trainable_variables)\n",
    "        optimizer.apply_gradients(zip(grads_downstream, downstream.trainable_variables))\n",
    "        acc.extend(np.array(tf.argmax(pred, axis=-1) == sample['label']).tolist())\n",
    "    print(\"Train Acc: {}\".format(np.mean(acc)))"
   ],
   "metadata": {
    "collapsed": false
   }
  },
  {
   "cell_type": "code",
   "execution_count": 26,
   "id": "14f3e6ca",
   "metadata": {},
   "outputs": [
    {
     "name": "stderr",
     "output_type": "stream",
     "text": [
      "  0%|                                                                                                                              | 0/2 [00:00<?, ?it/s]/tmp/ipykernel_339342/3179853102.py:20: FutureWarning: The frame.append method is deprecated and will be removed from pandas in a future version. Use pandas.concat instead.\n",
      "  train_df = train_df.append(pd.DataFrame({\n"
     ]
    },
    {
     "name": "stdout",
     "output_type": "stream",
     "text": [
      "Train Acc: 0.8397086031452359\n"
     ]
    },
    {
     "data": {
      "text/plain": "<Figure size 432x288 with 1 Axes>",
      "image/png": "[encoded data removed]"
     },
     "metadata": {
      "needs_background": "light"
     },
     "output_type": "display_data"
    },
    {
     "name": "stderr",
     "output_type": "stream",
     "text": [
      "/tmp/ipykernel_339342/3179853102.py:35: FutureWarning: The frame.append method is deprecated and will be removed from pandas in a future version. Use pandas.concat instead.\n",
      "  valid_df = valid_df.append(pd.DataFrame({\n"
     ]
    },
    {
     "data": {
      "text/plain": "<Figure size 432x288 with 1 Axes>",
      "image/png": "[encoded data removed]"
     },
     "metadata": {
      "needs_background": "light"
     },
     "output_type": "display_data"
    },
    {
     "data": {
      "text/plain": "<Figure size 432x288 with 1 Axes>",
      "image/png": "[encoded data removed]"
     },
     "metadata": {
      "needs_background": "light"
     },
     "output_type": "display_data"
    },
    {
     "name": "stderr",
     "output_type": "stream",
     "text": [
      " 50%|███████████████████████████████████████████████████████████                                                           | 1/2 [01:10<01:10, 70.15s/it]"
     ]
    },
    {
     "name": "stdout",
     "output_type": "stream",
     "text": [
      "Val Acc: 0.8614246068455134\n",
      "Train Acc: 0.8785152636447734\n"
     ]
    },
    {
     "data": {
      "text/plain": "<Figure size 432x288 with 1 Axes>",
      "image/png": "[encoded data removed]"
     },
     "metadata": {
      "needs_background": "light"
     },
     "output_type": "display_data"
    },
    {
     "data": {
      "text/plain": "<Figure size 432x288 with 1 Axes>",
      "image/png": "[encoded data removed]"
     },
     "metadata": {
      "needs_background": "light"
     },
     "output_type": "display_data"
    },
    {
     "data": {
      "text/plain": "<Figure size 432x288 with 1 Axes>",
      "image/png": "[encoded data removed]"
     },
     "metadata": {
      "needs_background": "light"
     },
     "output_type": "display_data"
    },
    {
     "name": "stderr",
     "output_type": "stream",
     "text": [
      "100%|██████████████████████████████████████████████████████████████████████████████████████████████████████████████████████| 2/2 [02:20<00:00, 70.12s/it]"
     ]
    },
    {
     "name": "stdout",
     "output_type": "stream",
     "text": [
      "Val Acc: 0.8819611470860315\n"
     ]
    },
    {
     "name": "stderr",
     "output_type": "stream",
     "text": [
      "\n"
     ]
    }
   ],
   "source": [
    "n_runs = 1\n",
    "epochs = 2\n",
    "\n",
    "for _ in range(n_runs):\n",
    "    downstream = tf.keras.models.Sequential([\n",
    "      tf.keras.layers.Flatten(),\n",
    "      tf.keras.layers.Dense(128, activation='relu', name='1'),\n",
    "      tf.keras.layers.Dense(9, activation='softmax', name='2')\n",
    "    ])\n",
    "    optimizer = tf.keras.optimizers.Adam(learning_rate=0.01, beta_1=0.9, beta_2=0.999, epsilon=1e-07)\n",
    "    for e in tqdm(range(epochs)):\n",
    "\n",
    "        # training\n",
    "        acc = []\n",
    "        for i, sample in enumerate(train_dataset):\n",
    "            with tf.GradientTape() as tape:\n",
    "                non_rot_pred, crop_rot_pred, canonic_pred = downstream_predict(downstream, sample,\n",
    "                                                                               show=False)#True if i == 0 else False)\n",
    "                loss = cce(sample['label'], non_rot_pred)\n",
    "                train_df = train_df.append(pd.DataFrame({\n",
    "                    'iteration': [e * int(train_dataset.cardinality().numpy()) + i],\n",
    "                    'non_rot_loss': [float(cce(sample['label'], non_rot_pred).numpy())],\n",
    "                    'crop_rot_loss': [float(cce(sample['label'], crop_rot_pred).numpy())],\n",
    "                    'canonic_loss': [float(cce(sample['label'], canonic_pred).numpy())]\n",
    "                }), ignore_index=True)\n",
    "            grads_downstream = tape.gradient(loss, downstream.trainable_variables)\n",
    "            optimizer.apply_gradients(zip(grads_downstream, downstream.trainable_variables))\n",
    "            acc.extend(np.array(tf.argmax(canonic_pred, axis=-1) == sample['label']).tolist())\n",
    "        print(\"Train Acc: {}\".format(np.mean(acc)))\n",
    "\n",
    "        # validation, before training to log also the init behaviour of the model\n",
    "        acc = []\n",
    "        for i, sample in enumerate(val_dataset):\n",
    "            non_rot_pred, crop_rot_pred, canonic_pred = downstream_predict(downstream, sample, show=True if i < 3 else False)\n",
    "            valid_df = valid_df.append(pd.DataFrame({\n",
    "                'iteration': [e * int(val_dataset.cardinality().numpy()) + i],\n",
    "                'non_rot_loss': [float(cce(sample['label'], non_rot_pred).numpy())],\n",
    "                'crop_rot_loss': [float(cce(sample['label'], crop_rot_pred).numpy())],\n",
    "                'canonic_loss': [float(cce(sample['label'], canonic_pred).numpy())]\n",
    "            }), ignore_index=True)\n",
    "            acc.extend(np.array(tf.argmax(canonic_pred, axis=-1) == sample['label']).tolist())\n",
    "        print(\"Val Acc: {}\".format(np.mean(acc)))"
   ]
  },
  {
   "cell_type": "code",
   "execution_count": null,
   "id": "5571cdac",
   "metadata": {},
   "outputs": [],
   "source": [
    "colors = ['#629FCA', '#FDA556', '#6BBC6B', '#E26768', '#B292CE']\n",
    "\n",
    "ax = sns.lineplot(data=train_df, x='iteration', y='non_rot_loss', label='non_rot_loss', ci='sd',\n",
    "             palette=colors[0], alpha=0.7)\n",
    "ax = sns.lineplot(data=train_df, x='iteration', y='crop_rot_loss', label='crop_rot_loss', ci='sd',\n",
    "             palette=colors[1], alpha=0.7)\n",
    "ax = sns.lineplot(data=train_df, x='iteration', y='canonic_loss', label='canonic_loss', ci='sd',\n",
    "             palette=colors[2], alpha=0.7)\n",
    "\n",
    "ax.set_ylabel('Cross Entropy')\n",
    "ax.legend().remove()\n",
    "plt.show()"
   ]
  }
 ],
 "metadata": {
  "kernelspec": {
   "display_name": "mykernel",
   "language": "python",
   "name": "mykernel"
  },
  "language_info": {
   "codemirror_mode": {
    "name": "ipython",
    "version": 3
   },
   "file_extension": ".py",
   "mimetype": "text/x-python",
   "name": "python",
   "nbconvert_exporter": "python",
   "pygments_lexer": "ipython3",
   "version": "3.8.10"
  }
 },
 "nbformat": 4,
 "nbformat_minor": 5
}
